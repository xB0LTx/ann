{
 "cells": [
  {
   "cell_type": "markdown",
   "id": "814704ca-3c42-4491-a8b9-6a14ad2c71b1",
   "metadata": {
    "id": "814704ca-3c42-4491-a8b9-6a14ad2c71b1"
   },
   "source": [
    "## Sztuczne sieci neuronowe - laboratorium 10"
   ]
  },
  {
   "cell_type": "code",
   "id": "232faca3-7e9f-4c77-9a78-11f7b94fc537",
   "metadata": {
    "id": "232faca3-7e9f-4c77-9a78-11f7b94fc537",
    "ExecuteTime": {
     "end_time": "2025-06-02T10:46:34.730324Z",
     "start_time": "2025-06-02T10:46:34.727023Z"
    }
   },
   "source": [
    "import torch\n",
    "import time\n",
    "import torch.nn as nn\n",
    "import torchvision\n",
    "from torchvision import models\n",
    "from torchvision.datasets import ImageFolder\n",
    "from torchvision.transforms import v2"
   ],
   "outputs": [],
   "execution_count": 18
  },
  {
   "cell_type": "code",
   "id": "d8e71cfa-7e7d-4193-9208-d449cbb12c77",
   "metadata": {
    "id": "d8e71cfa-7e7d-4193-9208-d449cbb12c77",
    "ExecuteTime": {
     "end_time": "2025-06-02T10:46:34.818782Z",
     "start_time": "2025-06-02T10:46:34.810253Z"
    }
   },
   "source": [
    "# sprawdzenie, czy GPU jest widoczne\n",
    "device = torch.device(\"cuda:0\") if torch.cuda.is_available() else torch.device(\"cpu\")\n",
    "print(device)"
   ],
   "outputs": [
    {
     "name": "stdout",
     "output_type": "stream",
     "text": [
      "cuda:0\n"
     ]
    }
   ],
   "execution_count": 19
  },
  {
   "cell_type": "markdown",
   "id": "6383c1b4-ff57-4721-86f2-8ec0ff0e0790",
   "metadata": {
    "id": "6383c1b4-ff57-4721-86f2-8ec0ff0e0790"
   },
   "source": [
    "## Transfer learning\n",
    "\n",
    "Dzisiejsze zajęcia będą dotyczyły zagadnienia **transfer learning** - trenowania modeli polegającego na wykorzystaniu architektury i zestawu wag wytrenowanych wcześniej (np. przez kogoś innego - najczęściej badaczy z największych firm, na dużym zbiorze danych), celem wykorzystania \"wiedzy\" zgromadzonej w już wytrenowanym modelu i przeniesienia jej (stąd \"transfer\") do innego, zwykle węższego problemu (np. poprzez dotrenowanie na znacznie mniejszym zbiorze danych).\n",
    "\n",
    "Fazy te nazywają się odpowiednio **pre-training** (tzw. modele pretrenowane, *pretrained models*) i **fine-tuning**.\n",
    "\n",
    "Wiele z takich gotowych (pretrenowanych) modeli dostępnych jest w pakiecie `torchvision` - części PyTorcha związanej z przetwarzaniem obrazów."
   ]
  },
  {
   "cell_type": "markdown",
   "id": "41ab0b22-defd-4dc6-9ecc-c28f663d7a96",
   "metadata": {
    "id": "41ab0b22-defd-4dc6-9ecc-c28f663d7a96"
   },
   "source": [
    "#### Ćwiczenie\n",
    "Uruchom poniższą komórkę, aby wypisać dostępne w `torchvision` modele. Nazwy modeli zaczynające się dużą literą oznaczają klasy implementujące poszczególne architektury sieci. Ich odpowiedniki pisane małymi literami to funkcje pozwalające zainicjalizować model (https://pytorch.org/vision/stable/models.html).\n",
    "\n",
    "Funkcje te mają argument `pretrained` - gdy podamy wartość `True`, inicjalizujemy model pretrenowanymi wagami (dla `False` - losowymi).\n",
    "\n",
    "Wczytaj po kolei wybrane modele (np. `resnet18`) do zmiennej. Sprawdź jej zawartość."
   ]
  },
  {
   "cell_type": "code",
   "id": "fd40543c-050f-4418-95fe-bc20e9d2fa81",
   "metadata": {
    "id": "fd40543c-050f-4418-95fe-bc20e9d2fa81",
    "ExecuteTime": {
     "end_time": "2025-06-02T10:46:34.937322Z",
     "start_time": "2025-06-02T10:46:34.922915Z"
    }
   },
   "source": [
    "dir(models)"
   ],
   "outputs": [
    {
     "data": {
      "text/plain": [
       "['AlexNet',\n",
       " 'AlexNet_Weights',\n",
       " 'ConvNeXt',\n",
       " 'ConvNeXt_Base_Weights',\n",
       " 'ConvNeXt_Large_Weights',\n",
       " 'ConvNeXt_Small_Weights',\n",
       " 'ConvNeXt_Tiny_Weights',\n",
       " 'DenseNet',\n",
       " 'DenseNet121_Weights',\n",
       " 'DenseNet161_Weights',\n",
       " 'DenseNet169_Weights',\n",
       " 'DenseNet201_Weights',\n",
       " 'EfficientNet',\n",
       " 'EfficientNet_B0_Weights',\n",
       " 'EfficientNet_B1_Weights',\n",
       " 'EfficientNet_B2_Weights',\n",
       " 'EfficientNet_B3_Weights',\n",
       " 'EfficientNet_B4_Weights',\n",
       " 'EfficientNet_B5_Weights',\n",
       " 'EfficientNet_B6_Weights',\n",
       " 'EfficientNet_B7_Weights',\n",
       " 'EfficientNet_V2_L_Weights',\n",
       " 'EfficientNet_V2_M_Weights',\n",
       " 'EfficientNet_V2_S_Weights',\n",
       " 'GoogLeNet',\n",
       " 'GoogLeNetOutputs',\n",
       " 'GoogLeNet_Weights',\n",
       " 'Inception3',\n",
       " 'InceptionOutputs',\n",
       " 'Inception_V3_Weights',\n",
       " 'MNASNet',\n",
       " 'MNASNet0_5_Weights',\n",
       " 'MNASNet0_75_Weights',\n",
       " 'MNASNet1_0_Weights',\n",
       " 'MNASNet1_3_Weights',\n",
       " 'MaxVit',\n",
       " 'MaxVit_T_Weights',\n",
       " 'MobileNetV2',\n",
       " 'MobileNetV3',\n",
       " 'MobileNet_V2_Weights',\n",
       " 'MobileNet_V3_Large_Weights',\n",
       " 'MobileNet_V3_Small_Weights',\n",
       " 'RegNet',\n",
       " 'RegNet_X_16GF_Weights',\n",
       " 'RegNet_X_1_6GF_Weights',\n",
       " 'RegNet_X_32GF_Weights',\n",
       " 'RegNet_X_3_2GF_Weights',\n",
       " 'RegNet_X_400MF_Weights',\n",
       " 'RegNet_X_800MF_Weights',\n",
       " 'RegNet_X_8GF_Weights',\n",
       " 'RegNet_Y_128GF_Weights',\n",
       " 'RegNet_Y_16GF_Weights',\n",
       " 'RegNet_Y_1_6GF_Weights',\n",
       " 'RegNet_Y_32GF_Weights',\n",
       " 'RegNet_Y_3_2GF_Weights',\n",
       " 'RegNet_Y_400MF_Weights',\n",
       " 'RegNet_Y_800MF_Weights',\n",
       " 'RegNet_Y_8GF_Weights',\n",
       " 'ResNeXt101_32X8D_Weights',\n",
       " 'ResNeXt101_64X4D_Weights',\n",
       " 'ResNeXt50_32X4D_Weights',\n",
       " 'ResNet',\n",
       " 'ResNet101_Weights',\n",
       " 'ResNet152_Weights',\n",
       " 'ResNet18_Weights',\n",
       " 'ResNet34_Weights',\n",
       " 'ResNet50_Weights',\n",
       " 'ShuffleNetV2',\n",
       " 'ShuffleNet_V2_X0_5_Weights',\n",
       " 'ShuffleNet_V2_X1_0_Weights',\n",
       " 'ShuffleNet_V2_X1_5_Weights',\n",
       " 'ShuffleNet_V2_X2_0_Weights',\n",
       " 'SqueezeNet',\n",
       " 'SqueezeNet1_0_Weights',\n",
       " 'SqueezeNet1_1_Weights',\n",
       " 'SwinTransformer',\n",
       " 'Swin_B_Weights',\n",
       " 'Swin_S_Weights',\n",
       " 'Swin_T_Weights',\n",
       " 'Swin_V2_B_Weights',\n",
       " 'Swin_V2_S_Weights',\n",
       " 'Swin_V2_T_Weights',\n",
       " 'VGG',\n",
       " 'VGG11_BN_Weights',\n",
       " 'VGG11_Weights',\n",
       " 'VGG13_BN_Weights',\n",
       " 'VGG13_Weights',\n",
       " 'VGG16_BN_Weights',\n",
       " 'VGG16_Weights',\n",
       " 'VGG19_BN_Weights',\n",
       " 'VGG19_Weights',\n",
       " 'ViT_B_16_Weights',\n",
       " 'ViT_B_32_Weights',\n",
       " 'ViT_H_14_Weights',\n",
       " 'ViT_L_16_Weights',\n",
       " 'ViT_L_32_Weights',\n",
       " 'VisionTransformer',\n",
       " 'Weights',\n",
       " 'WeightsEnum',\n",
       " 'Wide_ResNet101_2_Weights',\n",
       " 'Wide_ResNet50_2_Weights',\n",
       " '_GoogLeNetOutputs',\n",
       " '_InceptionOutputs',\n",
       " '__builtins__',\n",
       " '__cached__',\n",
       " '__doc__',\n",
       " '__file__',\n",
       " '__loader__',\n",
       " '__name__',\n",
       " '__package__',\n",
       " '__path__',\n",
       " '__spec__',\n",
       " '_api',\n",
       " '_meta',\n",
       " '_utils',\n",
       " 'alexnet',\n",
       " 'convnext',\n",
       " 'convnext_base',\n",
       " 'convnext_large',\n",
       " 'convnext_small',\n",
       " 'convnext_tiny',\n",
       " 'densenet',\n",
       " 'densenet121',\n",
       " 'densenet161',\n",
       " 'densenet169',\n",
       " 'densenet201',\n",
       " 'detection',\n",
       " 'efficientnet',\n",
       " 'efficientnet_b0',\n",
       " 'efficientnet_b1',\n",
       " 'efficientnet_b2',\n",
       " 'efficientnet_b3',\n",
       " 'efficientnet_b4',\n",
       " 'efficientnet_b5',\n",
       " 'efficientnet_b6',\n",
       " 'efficientnet_b7',\n",
       " 'efficientnet_v2_l',\n",
       " 'efficientnet_v2_m',\n",
       " 'efficientnet_v2_s',\n",
       " 'get_model',\n",
       " 'get_model_builder',\n",
       " 'get_model_weights',\n",
       " 'get_weight',\n",
       " 'googlenet',\n",
       " 'inception',\n",
       " 'inception_v3',\n",
       " 'list_models',\n",
       " 'maxvit',\n",
       " 'maxvit_t',\n",
       " 'mnasnet',\n",
       " 'mnasnet0_5',\n",
       " 'mnasnet0_75',\n",
       " 'mnasnet1_0',\n",
       " 'mnasnet1_3',\n",
       " 'mobilenet',\n",
       " 'mobilenet_v2',\n",
       " 'mobilenet_v3_large',\n",
       " 'mobilenet_v3_small',\n",
       " 'mobilenetv2',\n",
       " 'mobilenetv3',\n",
       " 'optical_flow',\n",
       " 'quantization',\n",
       " 'regnet',\n",
       " 'regnet_x_16gf',\n",
       " 'regnet_x_1_6gf',\n",
       " 'regnet_x_32gf',\n",
       " 'regnet_x_3_2gf',\n",
       " 'regnet_x_400mf',\n",
       " 'regnet_x_800mf',\n",
       " 'regnet_x_8gf',\n",
       " 'regnet_y_128gf',\n",
       " 'regnet_y_16gf',\n",
       " 'regnet_y_1_6gf',\n",
       " 'regnet_y_32gf',\n",
       " 'regnet_y_3_2gf',\n",
       " 'regnet_y_400mf',\n",
       " 'regnet_y_800mf',\n",
       " 'regnet_y_8gf',\n",
       " 'resnet',\n",
       " 'resnet101',\n",
       " 'resnet152',\n",
       " 'resnet18',\n",
       " 'resnet34',\n",
       " 'resnet50',\n",
       " 'resnext101_32x8d',\n",
       " 'resnext101_64x4d',\n",
       " 'resnext50_32x4d',\n",
       " 'segmentation',\n",
       " 'shufflenet_v2_x0_5',\n",
       " 'shufflenet_v2_x1_0',\n",
       " 'shufflenet_v2_x1_5',\n",
       " 'shufflenet_v2_x2_0',\n",
       " 'shufflenetv2',\n",
       " 'squeezenet',\n",
       " 'squeezenet1_0',\n",
       " 'squeezenet1_1',\n",
       " 'swin_b',\n",
       " 'swin_s',\n",
       " 'swin_t',\n",
       " 'swin_transformer',\n",
       " 'swin_v2_b',\n",
       " 'swin_v2_s',\n",
       " 'swin_v2_t',\n",
       " 'vgg',\n",
       " 'vgg11',\n",
       " 'vgg11_bn',\n",
       " 'vgg13',\n",
       " 'vgg13_bn',\n",
       " 'vgg16',\n",
       " 'vgg16_bn',\n",
       " 'vgg19',\n",
       " 'vgg19_bn',\n",
       " 'video',\n",
       " 'vision_transformer',\n",
       " 'vit_b_16',\n",
       " 'vit_b_32',\n",
       " 'vit_h_14',\n",
       " 'vit_l_16',\n",
       " 'vit_l_32',\n",
       " 'wide_resnet101_2',\n",
       " 'wide_resnet50_2']"
      ]
     },
     "execution_count": 20,
     "metadata": {},
     "output_type": "execute_result"
    }
   ],
   "execution_count": 20
  },
  {
   "cell_type": "code",
   "id": "ed0411d0-76bb-4481-98bb-60fbebe15401",
   "metadata": {
    "id": "ed0411d0-76bb-4481-98bb-60fbebe15401",
    "ExecuteTime": {
     "end_time": "2025-06-02T10:46:35.124423Z",
     "start_time": "2025-06-02T10:46:34.981802Z"
    }
   },
   "source": [
    "model = models.resnet18()\n",
    "print(model)"
   ],
   "outputs": [
    {
     "name": "stdout",
     "output_type": "stream",
     "text": [
      "ResNet(\n",
      "  (conv1): Conv2d(3, 64, kernel_size=(7, 7), stride=(2, 2), padding=(3, 3), bias=False)\n",
      "  (bn1): BatchNorm2d(64, eps=1e-05, momentum=0.1, affine=True, track_running_stats=True)\n",
      "  (relu): ReLU(inplace=True)\n",
      "  (maxpool): MaxPool2d(kernel_size=3, stride=2, padding=1, dilation=1, ceil_mode=False)\n",
      "  (layer1): Sequential(\n",
      "    (0): BasicBlock(\n",
      "      (conv1): Conv2d(64, 64, kernel_size=(3, 3), stride=(1, 1), padding=(1, 1), bias=False)\n",
      "      (bn1): BatchNorm2d(64, eps=1e-05, momentum=0.1, affine=True, track_running_stats=True)\n",
      "      (relu): ReLU(inplace=True)\n",
      "      (conv2): Conv2d(64, 64, kernel_size=(3, 3), stride=(1, 1), padding=(1, 1), bias=False)\n",
      "      (bn2): BatchNorm2d(64, eps=1e-05, momentum=0.1, affine=True, track_running_stats=True)\n",
      "    )\n",
      "    (1): BasicBlock(\n",
      "      (conv1): Conv2d(64, 64, kernel_size=(3, 3), stride=(1, 1), padding=(1, 1), bias=False)\n",
      "      (bn1): BatchNorm2d(64, eps=1e-05, momentum=0.1, affine=True, track_running_stats=True)\n",
      "      (relu): ReLU(inplace=True)\n",
      "      (conv2): Conv2d(64, 64, kernel_size=(3, 3), stride=(1, 1), padding=(1, 1), bias=False)\n",
      "      (bn2): BatchNorm2d(64, eps=1e-05, momentum=0.1, affine=True, track_running_stats=True)\n",
      "    )\n",
      "  )\n",
      "  (layer2): Sequential(\n",
      "    (0): BasicBlock(\n",
      "      (conv1): Conv2d(64, 128, kernel_size=(3, 3), stride=(2, 2), padding=(1, 1), bias=False)\n",
      "      (bn1): BatchNorm2d(128, eps=1e-05, momentum=0.1, affine=True, track_running_stats=True)\n",
      "      (relu): ReLU(inplace=True)\n",
      "      (conv2): Conv2d(128, 128, kernel_size=(3, 3), stride=(1, 1), padding=(1, 1), bias=False)\n",
      "      (bn2): BatchNorm2d(128, eps=1e-05, momentum=0.1, affine=True, track_running_stats=True)\n",
      "      (downsample): Sequential(\n",
      "        (0): Conv2d(64, 128, kernel_size=(1, 1), stride=(2, 2), bias=False)\n",
      "        (1): BatchNorm2d(128, eps=1e-05, momentum=0.1, affine=True, track_running_stats=True)\n",
      "      )\n",
      "    )\n",
      "    (1): BasicBlock(\n",
      "      (conv1): Conv2d(128, 128, kernel_size=(3, 3), stride=(1, 1), padding=(1, 1), bias=False)\n",
      "      (bn1): BatchNorm2d(128, eps=1e-05, momentum=0.1, affine=True, track_running_stats=True)\n",
      "      (relu): ReLU(inplace=True)\n",
      "      (conv2): Conv2d(128, 128, kernel_size=(3, 3), stride=(1, 1), padding=(1, 1), bias=False)\n",
      "      (bn2): BatchNorm2d(128, eps=1e-05, momentum=0.1, affine=True, track_running_stats=True)\n",
      "    )\n",
      "  )\n",
      "  (layer3): Sequential(\n",
      "    (0): BasicBlock(\n",
      "      (conv1): Conv2d(128, 256, kernel_size=(3, 3), stride=(2, 2), padding=(1, 1), bias=False)\n",
      "      (bn1): BatchNorm2d(256, eps=1e-05, momentum=0.1, affine=True, track_running_stats=True)\n",
      "      (relu): ReLU(inplace=True)\n",
      "      (conv2): Conv2d(256, 256, kernel_size=(3, 3), stride=(1, 1), padding=(1, 1), bias=False)\n",
      "      (bn2): BatchNorm2d(256, eps=1e-05, momentum=0.1, affine=True, track_running_stats=True)\n",
      "      (downsample): Sequential(\n",
      "        (0): Conv2d(128, 256, kernel_size=(1, 1), stride=(2, 2), bias=False)\n",
      "        (1): BatchNorm2d(256, eps=1e-05, momentum=0.1, affine=True, track_running_stats=True)\n",
      "      )\n",
      "    )\n",
      "    (1): BasicBlock(\n",
      "      (conv1): Conv2d(256, 256, kernel_size=(3, 3), stride=(1, 1), padding=(1, 1), bias=False)\n",
      "      (bn1): BatchNorm2d(256, eps=1e-05, momentum=0.1, affine=True, track_running_stats=True)\n",
      "      (relu): ReLU(inplace=True)\n",
      "      (conv2): Conv2d(256, 256, kernel_size=(3, 3), stride=(1, 1), padding=(1, 1), bias=False)\n",
      "      (bn2): BatchNorm2d(256, eps=1e-05, momentum=0.1, affine=True, track_running_stats=True)\n",
      "    )\n",
      "  )\n",
      "  (layer4): Sequential(\n",
      "    (0): BasicBlock(\n",
      "      (conv1): Conv2d(256, 512, kernel_size=(3, 3), stride=(2, 2), padding=(1, 1), bias=False)\n",
      "      (bn1): BatchNorm2d(512, eps=1e-05, momentum=0.1, affine=True, track_running_stats=True)\n",
      "      (relu): ReLU(inplace=True)\n",
      "      (conv2): Conv2d(512, 512, kernel_size=(3, 3), stride=(1, 1), padding=(1, 1), bias=False)\n",
      "      (bn2): BatchNorm2d(512, eps=1e-05, momentum=0.1, affine=True, track_running_stats=True)\n",
      "      (downsample): Sequential(\n",
      "        (0): Conv2d(256, 512, kernel_size=(1, 1), stride=(2, 2), bias=False)\n",
      "        (1): BatchNorm2d(512, eps=1e-05, momentum=0.1, affine=True, track_running_stats=True)\n",
      "      )\n",
      "    )\n",
      "    (1): BasicBlock(\n",
      "      (conv1): Conv2d(512, 512, kernel_size=(3, 3), stride=(1, 1), padding=(1, 1), bias=False)\n",
      "      (bn1): BatchNorm2d(512, eps=1e-05, momentum=0.1, affine=True, track_running_stats=True)\n",
      "      (relu): ReLU(inplace=True)\n",
      "      (conv2): Conv2d(512, 512, kernel_size=(3, 3), stride=(1, 1), padding=(1, 1), bias=False)\n",
      "      (bn2): BatchNorm2d(512, eps=1e-05, momentum=0.1, affine=True, track_running_stats=True)\n",
      "    )\n",
      "  )\n",
      "  (avgpool): AdaptiveAvgPool2d(output_size=(1, 1))\n",
      "  (fc): Linear(in_features=512, out_features=1000, bias=True)\n",
      ")\n"
     ]
    }
   ],
   "execution_count": 21
  },
  {
   "cell_type": "markdown",
   "id": "ab83b536-cc20-40cf-b552-af9a076c17ff",
   "metadata": {
    "id": "ab83b536-cc20-40cf-b552-af9a076c17ff"
   },
   "source": [
    "### Klasyfikacja binarna - przygotowanie danych"
   ]
  },
  {
   "cell_type": "markdown",
   "id": "a1d8f4ae-3303-4018-8842-a18f8c1bddea",
   "metadata": {
    "id": "a1d8f4ae-3303-4018-8842-a18f8c1bddea"
   },
   "source": [
    "Będziemy trenować model do klasyfikacji binarnej zdjęć pszczół i mrówek z wykorzystaniem transfer learningu.\n",
    "\n",
    "Zbiór ten jest dostępny do pobrania tutaj: https://download.pytorch.org/tutorial/hymenoptera_data.zip  \n",
    "(*hymenoptera* - *błonoskrzydłe* https://pl.wikipedia.org/wiki/B%C5%82onkoskrzyd%C5%82e)\n",
    "\n",
    "Zbiór ten należy rozpakować do katalogu `common/data` (w razie gdyby go jeszcze tam nie było)."
   ]
  },
  {
   "cell_type": "code",
   "id": "b53f09e1-b7bc-4e14-8023-da743017080a",
   "metadata": {
    "id": "b53f09e1-b7bc-4e14-8023-da743017080a",
    "ExecuteTime": {
     "end_time": "2025-06-02T10:46:35.141591Z",
     "start_time": "2025-06-02T10:46:35.139415Z"
    }
   },
   "source": [
    "import pathlib\n",
    "\n",
    "DATA_PATH = pathlib.Path(\"data/hymenoptera_data\")"
   ],
   "outputs": [],
   "execution_count": 22
  },
  {
   "cell_type": "markdown",
   "id": "409a0b4a-c05e-4b07-bde0-3233203111fb",
   "metadata": {
    "id": "409a0b4a-c05e-4b07-bde0-3233203111fb"
   },
   "source": [
    "#### Ćwiczenie\n",
    "\n",
    "Wczytaj zbiór zdjęć (dwa podbiory - train i val) wykorzystując klasę **ImageFolder** dataset dostępną w PyTorch (https://pytorch.org/vision/stable/datasets.html)\n",
    "\n",
    "Sprawdź rozmiar obu podzbiorów.  \n",
    "Sprawdź wymiary kilku wybranych zdjęć w zbiorze (używając możliwości klasy `Dataset`, nie przeglądając obrazki w katalogu).\n",
    "\n",
    "Sprawdź zawartość atrybutów klasy `ImageFolder` (https://pytorch.org/vision/stable/_modules/torchvision/datasets/folder.html#ImageFolder)"
   ]
  },
  {
   "cell_type": "code",
   "id": "e2bde3ff-787b-432b-b917-6e3b04099e36",
   "metadata": {
    "id": "e2bde3ff-787b-432b-b917-6e3b04099e36",
    "ExecuteTime": {
     "end_time": "2025-06-02T10:46:35.217106Z",
     "start_time": "2025-06-02T10:46:35.211294Z"
    }
   },
   "source": [
    "transform = v2.Compose([v2.ToImage(), v2.ToDtype(torch.float32, scale=True)])\n",
    "train_path = DATA_PATH / \"train\"\n",
    "val_path = DATA_PATH / \"val\"\n",
    "train_dataset = ImageFolder(train_path, transform=transform)\n",
    "val_dataset = ImageFolder(val_path, transform=transform)"
   ],
   "outputs": [],
   "execution_count": 23
  },
  {
   "cell_type": "code",
   "id": "b343e503-c8f0-47c3-96af-72f269024bea",
   "metadata": {
    "id": "b343e503-c8f0-47c3-96af-72f269024bea",
    "ExecuteTime": {
     "end_time": "2025-06-02T10:46:35.274292Z",
     "start_time": "2025-06-02T10:46:35.262652Z"
    }
   },
   "source": [
    "print(len(train_dataset))\n",
    "print(len(val_dataset))\n",
    "train_image, train_label = train_dataset[0]\n",
    "print(train_image.size())\n",
    "val_image, val_label = val_dataset[0]\n",
    "print(val_image.size())"
   ],
   "outputs": [
    {
     "name": "stdout",
     "output_type": "stream",
     "text": [
      "244\n",
      "153\n",
      "torch.Size([3, 512, 768])\n",
      "torch.Size([3, 375, 500])\n"
     ]
    }
   ],
   "execution_count": 24
  },
  {
   "cell_type": "code",
   "id": "b9ecb958-4df9-4ec3-b739-1158ec84ff9f",
   "metadata": {
    "id": "b9ecb958-4df9-4ec3-b739-1158ec84ff9f",
    "ExecuteTime": {
     "end_time": "2025-06-02T10:46:35.324781Z",
     "start_time": "2025-06-02T10:46:35.320689Z"
    }
   },
   "source": "dir(ImageFolder)",
   "outputs": [
    {
     "data": {
      "text/plain": [
       "['__add__',\n",
       " '__annotations__',\n",
       " '__class__',\n",
       " '__class_getitem__',\n",
       " '__delattr__',\n",
       " '__dict__',\n",
       " '__dir__',\n",
       " '__doc__',\n",
       " '__eq__',\n",
       " '__format__',\n",
       " '__ge__',\n",
       " '__getattribute__',\n",
       " '__getitem__',\n",
       " '__getstate__',\n",
       " '__gt__',\n",
       " '__hash__',\n",
       " '__init__',\n",
       " '__init_subclass__',\n",
       " '__le__',\n",
       " '__len__',\n",
       " '__lt__',\n",
       " '__module__',\n",
       " '__ne__',\n",
       " '__new__',\n",
       " '__orig_bases__',\n",
       " '__parameters__',\n",
       " '__reduce__',\n",
       " '__reduce_ex__',\n",
       " '__repr__',\n",
       " '__setattr__',\n",
       " '__sizeof__',\n",
       " '__str__',\n",
       " '__subclasshook__',\n",
       " '__weakref__',\n",
       " '_format_transform_repr',\n",
       " '_repr_indent',\n",
       " 'extra_repr',\n",
       " 'find_classes',\n",
       " 'make_dataset']"
      ]
     },
     "execution_count": 25,
     "metadata": {},
     "output_type": "execute_result"
    }
   ],
   "execution_count": 25
  },
  {
   "cell_type": "markdown",
   "id": "3440cc1d-caba-4b52-ab95-1406ca9fd5f0",
   "metadata": {
    "id": "3440cc1d-caba-4b52-ab95-1406ca9fd5f0"
   },
   "source": [
    "#### Ćwiczenie\n",
    "\n",
    "Domyślnie `ImageFolder` dataset przechowuje obrazki jako `PIL.Image`. Należy je przekształcić do tensorów, aby ich użyć w treningu modeli.\n",
    "\n",
    "Odszukaj odpowiednią funkcję z `torchvision.transforms` (https://pytorch.org/vision/stable/transforms.html) i ponownie wczytaj zbiory danych z jej wykorzystaniem."
   ]
  },
  {
   "cell_type": "code",
   "id": "e07b35de-2e0a-4d91-878e-e8bb85414199",
   "metadata": {
    "id": "e07b35de-2e0a-4d91-878e-e8bb85414199",
    "ExecuteTime": {
     "end_time": "2025-06-02T10:46:35.380469Z",
     "start_time": "2025-06-02T10:46:35.375581Z"
    }
   },
   "source": [
    "transform = v2.Compose([v2.ToImage(), v2.ToDtype(torch.float32, scale=True)])\n",
    "train_path = DATA_PATH / \"train\"\n",
    "val_path = DATA_PATH / \"val\"\n",
    "train_dataset = ImageFolder(train_path, transform=transform)\n",
    "val_dataset = ImageFolder(val_path, transform=transform)"
   ],
   "outputs": [],
   "execution_count": 26
  },
  {
   "cell_type": "markdown",
   "id": "ed6f8d25-eda5-404a-aa6f-0ef9107d0a64",
   "metadata": {
    "id": "ed6f8d25-eda5-404a-aa6f-0ef9107d0a64"
   },
   "source": [
    "#### Ćwiczenie\n",
    "W kolejnym kroku należy znormalizować wejściowe obrazki. Ponownie odszukaj odpowiednią transformację w `torchvision.transforms` i zbuduj listy transformacji `train_transforms` i `valid_transforms` z użyciem `transforms.Compose`. Wykorzystaj odpowiednie informacje z poniższej komórki."
   ]
  },
  {
   "cell_type": "code",
   "id": "dcf64ade-5906-4c2e-8381-9d19685e41cb",
   "metadata": {
    "id": "dcf64ade-5906-4c2e-8381-9d19685e41cb",
    "ExecuteTime": {
     "end_time": "2025-06-02T10:46:35.429802Z",
     "start_time": "2025-06-02T10:46:35.427522Z"
    }
   },
   "source": [
    "# średnie i odchylenia standardowe dla kanałów RGB dla zbioru uczącego ImageNet\n",
    "# ciekawostka: https://github.com/pytorch/vision/issues/1439\n",
    "IMAGENET_MEANS = [0.485, 0.456, 0.406]\n",
    "IMAGENET_STD = [0.229, 0.224, 0.225]"
   ],
   "outputs": [],
   "execution_count": 27
  },
  {
   "cell_type": "code",
   "id": "aa2162a6-e7e9-44d7-a51c-381945613f87",
   "metadata": {
    "id": "aa2162a6-e7e9-44d7-a51c-381945613f87",
    "ExecuteTime": {
     "end_time": "2025-06-02T10:46:35.482452Z",
     "start_time": "2025-06-02T10:46:35.479626Z"
    }
   },
   "source": [
    "train_transforms = v2.Compose([\n",
    "    v2.ToImage(),\n",
    "    v2.ToDtype(torch.float32, scale=True),\n",
    "    v2.Normalize(mean=IMAGENET_MEANS, std=IMAGENET_STD)\n",
    "])\n",
    "\n",
    "val_transforms = v2.Compose([\n",
    "    v2.ToImage(),\n",
    "    v2.ToDtype(torch.float32, scale=True),\n",
    "    v2.Normalize(mean=IMAGENET_MEANS, std=IMAGENET_STD)\n",
    "])"
   ],
   "outputs": [],
   "execution_count": 28
  },
  {
   "cell_type": "markdown",
   "id": "89a553af-5f09-4116-94a2-cfaf9ae95c9f",
   "metadata": {
    "id": "89a553af-5f09-4116-94a2-cfaf9ae95c9f"
   },
   "source": [
    "#### Ćwiczenie\n",
    "\n",
    "Należy także doprowadzić oryginalne obrazki do odpowiednich wymiarów (224 na 224 piksele).\n",
    "\n",
    "W przypadku sieci (pre)trenowanych na danych ImageNet przyjęło się robić to dwukrokowo:\n",
    "- \"resize\" obrazka, aby krótszy wymiar miał długość 256\n",
    "- przycięcie (\"crop\") obrazka do jego środkowej części 224x224\n",
    "\n",
    "Rozszerz listę transformacji **podczas walidacji** zgodnie z powyższym opisem, wykorzystując odpowiednie funkcje z https://pytorch.org/vision/stable/transforms.html. Transformacjami treningowymi zajmiemy się w następnym ćwiczeniu."
   ]
  },
  {
   "cell_type": "code",
   "id": "1f588da1-71ad-46be-8e02-a1162d432dd1",
   "metadata": {
    "id": "1f588da1-71ad-46be-8e02-a1162d432dd1",
    "ExecuteTime": {
     "end_time": "2025-06-02T10:46:35.536790Z",
     "start_time": "2025-06-02T10:46:35.534364Z"
    }
   },
   "source": [
    "IMAGENET_IMG_SIZE = 224\n",
    "IMAGENET_RESIZE = 256"
   ],
   "outputs": [],
   "execution_count": 29
  },
  {
   "cell_type": "code",
   "id": "88ad810b-dd2f-4f4c-baf1-fbc311a7c969",
   "metadata": {
    "id": "88ad810b-dd2f-4f4c-baf1-fbc311a7c969",
    "ExecuteTime": {
     "end_time": "2025-06-02T10:46:35.588729Z",
     "start_time": "2025-06-02T10:46:35.585960Z"
    }
   },
   "source": [
    "val_transforms = v2.Compose([\n",
    "    v2.ToImage(),\n",
    "    v2.ToDtype(torch.float32, scale=True),\n",
    "    v2.Resize(IMAGENET_RESIZE),\n",
    "    v2.CenterCrop(IMAGENET_IMG_SIZE),\n",
    "    v2.Normalize(mean=IMAGENET_MEANS, std=IMAGENET_STD)\n",
    "])"
   ],
   "outputs": [],
   "execution_count": 30
  },
  {
   "cell_type": "markdown",
   "id": "7c86cdc9-1b9b-4c80-b45a-5ff123591fcf",
   "metadata": {
    "id": "7c86cdc9-1b9b-4c80-b45a-5ff123591fcf"
   },
   "source": [
    "#### Ćwiczenie\n",
    "\n",
    "Podczas treningu warto - zwłaszcza w przypadku posiadania niewielkiego zbioru danych - zastosować tzw. augmentację danych (więcej na kolejnych zajęciach).\n",
    "\n",
    "Zamiast \"sztywnego\" resize'owania obrazka i przycinania go względem środka, w czasie treningu:\n",
    "- dokonaj \"resize\" do losowej skali, a następnie przytnij do (losowego) fragmentu 224x224\n",
    "- dodatkowo losowo (domyślnie: prawdopodobieństwo 50%) przerzuć obrazek względem osi pionowej\n",
    "\n",
    "Znajdź odpowiednie funkcje w https://pytorch.org/vision/stable/transforms.html.\n",
    "Stwórz w ten sposób listę transformacji `train_transforms`.\n",
    "\n",
    "Wczytaj ponownie zbiór uczący i walidacyjny, podając odpowiednie listy transformacji do `ImageFolder`."
   ]
  },
  {
   "cell_type": "code",
   "id": "fcdf0f6f-45c1-4ca9-bc9a-7ac1f982308b",
   "metadata": {
    "id": "fcdf0f6f-45c1-4ca9-bc9a-7ac1f982308b",
    "ExecuteTime": {
     "end_time": "2025-06-02T10:46:35.641670Z",
     "start_time": "2025-06-02T10:46:35.638956Z"
    }
   },
   "source": [
    "train_transforms = v2.Compose([\n",
    "    v2.ToImage(),\n",
    "    v2.ToDtype(torch.float32, scale=True),\n",
    "    v2.RandomResizedCrop(IMAGENET_IMG_SIZE),\n",
    "    v2.RandomVerticalFlip(),\n",
    "    v2.Normalize(mean=IMAGENET_MEANS, std=IMAGENET_STD)\n",
    "])"
   ],
   "outputs": [],
   "execution_count": 31
  },
  {
   "cell_type": "code",
   "id": "f9c67625-2098-42e4-9cd7-e369297997a7",
   "metadata": {
    "id": "f9c67625-2098-42e4-9cd7-e369297997a7",
    "ExecuteTime": {
     "end_time": "2025-06-02T10:46:35.695100Z",
     "start_time": "2025-06-02T10:46:35.690707Z"
    }
   },
   "source": [
    "train_dataset = ImageFolder(train_path, transform=train_transforms)\n",
    "val_dataset = ImageFolder(val_path, transform=val_transforms)"
   ],
   "outputs": [],
   "execution_count": 32
  },
  {
   "cell_type": "markdown",
   "id": "51d410ce-76d7-450c-bc48-f0ccb273202c",
   "metadata": {
    "id": "51d410ce-76d7-450c-bc48-f0ccb273202c"
   },
   "source": [
    "### Transfer learning\n",
    "\n",
    "Fine-tuningu modeli można dokonać na dwa główne sposoby:\n",
    "- dotrenować (optymalizować) wszystkie parametry (we wszystkich warstwach) pretrenowanego modelu\n",
    "- \"zamrozić\" pretrenowaną część modelu i dotrenować\n",
    "\n",
    "Na początek zajmiemy się pierwszym z wymienionych sposobów transfer learningu."
   ]
  },
  {
   "cell_type": "markdown",
   "id": "83a00d07-86d8-4586-ae22-1c0e29d39327",
   "metadata": {
    "id": "83a00d07-86d8-4586-ae22-1c0e29d39327"
   },
   "source": [
    "#### Ćwiczenie\n",
    "\n",
    "Załaduj pretrenowaną sieć `resnet18` do zmiennej `model` i dostosuj ją do rozważanego problemu (co musisz zrobić?).\n",
    "Następnie uruchom trening modelu."
   ]
  },
  {
   "cell_type": "code",
   "id": "4502d424-5eff-4f71-a0f9-6fadc478cf71",
   "metadata": {
    "id": "4502d424-5eff-4f71-a0f9-6fadc478cf71",
    "ExecuteTime": {
     "end_time": "2025-06-02T10:46:35.753791Z",
     "start_time": "2025-06-02T10:46:35.745311Z"
    }
   },
   "source": [
    "from torch.utils.tensorboard import SummaryWriter\n",
    "import numpy as np\n",
    "import matplotlib.pyplot as plt\n",
    "\n",
    "# Create a TensorBoard writer\n",
    "writer = SummaryWriter('runs/transfer_learning_experiment')\n",
    "\n",
    "# Add sample dataset images to TensorBoard\n",
    "def log_dataset_samples():\n",
    "    # Get a batch of training data\n",
    "    dataiter = iter(train_loader)\n",
    "    images, labels = next(dataiter)\n",
    "    img_grid = torchvision.utils.make_grid(images[:4])\n",
    "    writer.add_image('hymenoptera_images', img_grid)\n",
    "\n",
    "    # Log class names\n",
    "    writer.add_text('classes', str(train_dataset.classes))\n",
    "\n",
    "# Modify training loop to log metrics\n",
    "def training_loop(n_epochs, optimizer, model, loss_fn, train_loader):\n",
    "    start_time = time.time()\n",
    "\n",
    "    # Log model graph\n",
    "    sample_input = next(iter(train_loader))[0][:1].to(device)\n",
    "    writer.add_graph(model, sample_input)\n",
    "\n",
    "    model.train()\n",
    "    for epoch in range(1, n_epochs + 1):\n",
    "        loss_train = 0.0\n",
    "        for i, (imgs, labels) in enumerate(train_loader):\n",
    "            imgs = imgs.to(device=device)\n",
    "            labels = labels.to(device=device)\n",
    "            outputs = model(imgs)\n",
    "            loss = loss_fn(outputs, labels)\n",
    "            optimizer.zero_grad()\n",
    "            loss.backward()\n",
    "            optimizer.step()\n",
    "            loss_train += loss.item()\n",
    "\n",
    "        epoch_loss = loss_train / len(train_loader)\n",
    "        # Log loss to TensorBoard\n",
    "        writer.add_scalar('Loss/train', epoch_loss, epoch)\n",
    "\n",
    "        if epoch == 1 or epoch % 5 == 0:\n",
    "            print(f\"Epoch {epoch}, Training loss {epoch_loss}\")\n",
    "\n",
    "            # Log model predictions\n",
    "            if epoch % 5 == 0:\n",
    "                log_predictions(model, imgs, labels, epoch)\n",
    "\n",
    "    time_elapsed = time.time() - start_time\n",
    "    print('Training complete in {:.0f}m {:.0f}s'.format(\n",
    "        time_elapsed // 60, time_elapsed % 60))\n",
    "\n",
    "# Log model predictions\n",
    "def log_predictions(model, images, labels, epoch):\n",
    "    # Get model predictions\n",
    "    model.eval()\n",
    "    with torch.no_grad():\n",
    "        outputs = model(images)\n",
    "        _, preds = torch.max(outputs, 1)\n",
    "\n",
    "    # Create a figure with predictions\n",
    "    fig = plt.figure(figsize=(12, 8))\n",
    "    for i in range(min(4, len(images))):\n",
    "        ax = fig.add_subplot(1, 4, i+1)\n",
    "        # Convert tensor to numpy for plotting\n",
    "        img = images[i].cpu().numpy().transpose((1, 2, 0))\n",
    "        # Denormalize image\n",
    "        img = img * torch.tensor(IMAGENET_STD).numpy() + torch.tensor(IMAGENET_MEANS).numpy()\n",
    "        img = np.clip(img, 0, 1)\n",
    "        ax.imshow(img)\n",
    "        ax.set_title(f\"Pred: {train_dataset.classes[preds[i]]}\\nTrue: {train_dataset.classes[labels[i]]}\")\n",
    "        ax.axis('off')\n",
    "\n",
    "    writer.add_figure(f'predictions/epoch_{epoch}', fig, epoch)\n",
    "    model.train()"
   ],
   "outputs": [],
   "execution_count": 33
  },
  {
   "cell_type": "code",
   "id": "85b03e84-6ea0-4c03-bdd6-e5b7de4cb0d4",
   "metadata": {
    "id": "85b03e84-6ea0-4c03-bdd6-e5b7de4cb0d4",
    "ExecuteTime": {
     "end_time": "2025-06-02T10:46:36.531261Z",
     "start_time": "2025-06-02T10:46:35.796648Z"
    }
   },
   "source": "model = models.resnet18(weights=models.ResNet18_Weights.DEFAULT).to(device)",
   "outputs": [],
   "execution_count": 34
  },
  {
   "cell_type": "code",
   "id": "3a940c0c-930d-46e8-b412-247177665ba4",
   "metadata": {
    "id": "3a940c0c-930d-46e8-b412-247177665ba4",
    "ExecuteTime": {
     "end_time": "2025-06-02T10:47:30.824427Z",
     "start_time": "2025-06-02T10:46:36.552188Z"
    }
   },
   "source": [
    "train_loader = torch.utils.data.DataLoader(train_dataset, batch_size=64, shuffle=True)\n",
    "log_dataset_samples()\n",
    "\n",
    "# SGD with momentum\n",
    "optimizer = torch.optim.SGD(model.parameters(), lr=1e-2, momentum=0.9)\n",
    "loss_fn = nn.CrossEntropyLoss()\n",
    "\n",
    "training_loop(\n",
    "    n_epochs = 25,\n",
    "    optimizer = optimizer,\n",
    "    model = model,\n",
    "    loss_fn = loss_fn,\n",
    "    train_loader = train_loader\n",
    ")"
   ],
   "outputs": [
    {
     "name": "stdout",
     "output_type": "stream",
     "text": [
      "Epoch 1, Training loss 5.471064269542694\n",
      "Epoch 5, Training loss 0.33816876262426376\n",
      "Epoch 10, Training loss 0.18064148351550102\n",
      "Epoch 15, Training loss 0.08908897079527378\n",
      "Epoch 20, Training loss 0.05639964737929404\n",
      "Epoch 25, Training loss 0.05368376523256302\n",
      "Training complete in 0m 54s\n"
     ]
    }
   ],
   "execution_count": 35
  },
  {
   "cell_type": "markdown",
   "id": "bf088a4a-741a-42d5-a9ba-c39f02bb7bde",
   "metadata": {
    "id": "bf088a4a-741a-42d5-a9ba-c39f02bb7bde"
   },
   "source": [
    "#### Ćwiczenie\n",
    "\n",
    "Sprawdź jakość wytrenowanego modelu uruchamiając poniższe komórki."
   ]
  },
  {
   "cell_type": "code",
   "id": "4dfe483d-5c1c-400a-b556-feefa4558756",
   "metadata": {
    "id": "4dfe483d-5c1c-400a-b556-feefa4558756",
    "ExecuteTime": {
     "end_time": "2025-06-02T10:47:30.848611Z",
     "start_time": "2025-06-02T10:47:30.845034Z"
    }
   },
   "source": [
    "train_loader = torch.utils.data.DataLoader(train_dataset, batch_size=64, shuffle=False)\n",
    "val_loader = torch.utils.data.DataLoader(val_dataset, batch_size=64, shuffle=False)"
   ],
   "outputs": [],
   "execution_count": 36
  },
  {
   "cell_type": "code",
   "id": "4f327f88-2f78-48a6-9ad6-a5b0e835d025",
   "metadata": {
    "id": "4f327f88-2f78-48a6-9ad6-a5b0e835d025",
    "ExecuteTime": {
     "end_time": "2025-06-02T10:47:30.895868Z",
     "start_time": "2025-06-02T10:47:30.891992Z"
    }
   },
   "source": [
    "def validate(model, train_loader, val_loader):\n",
    "    model.eval()\n",
    "    for name, loader in [(\"train\", train_loader), (\"val\", val_loader)]:\n",
    "        correct = 0\n",
    "        total = 0\n",
    "\n",
    "        with torch.no_grad():\n",
    "            for imgs, labels in loader:\n",
    "                imgs = imgs.to(device)\n",
    "                labels = labels.to(device)\n",
    "                outputs = model(imgs)\n",
    "                preds = torch.argmax(outputs, dim=1)\n",
    "                total += labels.shape[0]\n",
    "                correct += int((preds == labels).sum())\n",
    "\n",
    "        accuracy = correct/total\n",
    "        # Log accuracy to TensorBoard\n",
    "        writer.add_scalar(f'Accuracy/{name}', accuracy, 0)\n",
    "        print(f\"{name} accuracy: {accuracy}\")"
   ],
   "outputs": [],
   "execution_count": 37
  },
  {
   "cell_type": "code",
   "id": "878bfe02-f79e-4450-993c-0256d74d0368",
   "metadata": {
    "id": "878bfe02-f79e-4450-993c-0256d74d0368",
    "ExecuteTime": {
     "end_time": "2025-06-02T10:47:33.495905Z",
     "start_time": "2025-06-02T10:47:30.943975Z"
    }
   },
   "source": [
    "validate(model, train_loader, val_loader)"
   ],
   "outputs": [
    {
     "name": "stdout",
     "output_type": "stream",
     "text": [
      "train accuracy: 0.9713114754098361\n",
      "val accuracy: 0.9150326797385621\n"
     ]
    }
   ],
   "execution_count": 38
  },
  {
   "cell_type": "markdown",
   "id": "13af6f0f-aa61-4742-9d3b-ecd4c400084c",
   "metadata": {
    "id": "13af6f0f-aa61-4742-9d3b-ecd4c400084c"
   },
   "source": [
    "#### Ćwiczenie\n",
    "\n",
    "Jeszcze raz załaduj i przygotuj model `resnet18` (np. do zmiennej `model_frozen`, tym razem \"zamrażając\" wszystkie pretrenowane warstwy modelu.\n",
    "Wytrenuj model i sprawdź jego dokładność."
   ]
  },
  {
   "cell_type": "code",
   "id": "2eac2545-1d4e-4ba4-8056-36016db0d3f9",
   "metadata": {
    "id": "2eac2545-1d4e-4ba4-8056-36016db0d3f9",
    "ExecuteTime": {
     "end_time": "2025-06-02T10:47:33.678617Z",
     "start_time": "2025-06-02T10:47:33.513788Z"
    }
   },
   "source": [
    "model_frozen = models.resnet18(weights=models.ResNet18_Weights.DEFAULT).to(device)\n",
    "for param in model_frozen.parameters():\n",
    "    param.requires_grad = False\n",
    "for param in model_frozen.fc.parameters():\n",
    "    param.requires_grad = True"
   ],
   "outputs": [],
   "execution_count": 39
  },
  {
   "cell_type": "code",
   "id": "090e74b8-5298-481c-ada4-df0e460ee0a3",
   "metadata": {
    "id": "090e74b8-5298-481c-ada4-df0e460ee0a3",
    "ExecuteTime": {
     "end_time": "2025-06-02T10:48:12.675546Z",
     "start_time": "2025-06-02T10:47:33.751567Z"
    }
   },
   "source": [
    "train_loader = torch.utils.data.DataLoader(train_dataset, batch_size=64, shuffle=True)\n",
    "\n",
    "# SGD with momentum\n",
    "optimizer = torch.optim.SGD(model_frozen.parameters(), lr=1e-2, momentum=0.9)\n",
    "loss_fn = nn.CrossEntropyLoss()\n",
    "\n",
    "training_loop(\n",
    "    n_epochs = 25,\n",
    "    optimizer = optimizer,\n",
    "    model = model_frozen,\n",
    "    loss_fn = loss_fn,\n",
    "    train_loader = train_loader\n",
    ")"
   ],
   "outputs": [
    {
     "name": "stdout",
     "output_type": "stream",
     "text": [
      "Epoch 1, Training loss 5.782234370708466\n",
      "Epoch 5, Training loss 0.20699457451701164\n",
      "Epoch 10, Training loss 0.17769954353570938\n",
      "Epoch 15, Training loss 0.16707564517855644\n",
      "Epoch 20, Training loss 0.1356002502143383\n",
      "Epoch 25, Training loss 0.12208767421543598\n",
      "Training complete in 0m 39s\n"
     ]
    }
   ],
   "execution_count": 40
  },
  {
   "metadata": {
    "ExecuteTime": {
     "end_time": "2025-06-02T10:48:12.712892Z",
     "start_time": "2025-06-02T10:48:12.709357Z"
    }
   },
   "cell_type": "code",
   "source": [
    "def log_pr_curves(model, val_loader):\n",
    "    # Get model predictions\n",
    "    model.eval()\n",
    "    probs = []\n",
    "    labels_list = []\n",
    "\n",
    "    with torch.no_grad():\n",
    "        for imgs, labels in val_loader:\n",
    "            imgs = imgs.to(device)\n",
    "            outputs = model(imgs)\n",
    "            probs_batch = torch.nn.functional.softmax(outputs, dim=1)\n",
    "            probs.append(probs_batch.cpu())\n",
    "            labels_list.append(labels)\n",
    "\n",
    "    probs = torch.cat(probs)\n",
    "    labels_tensor = torch.cat(labels_list)\n",
    "\n",
    "    # For each class\n",
    "    for i in range(len(train_dataset.classes)):\n",
    "        writer.add_pr_curve(\n",
    "            f'PR Curve/{train_dataset.classes[i]}',\n",
    "            (labels_tensor == i),\n",
    "            probs[:, i],\n",
    "            global_step=0\n",
    "        )"
   ],
   "id": "782fae553f94fcd5",
   "outputs": [],
   "execution_count": 41
  },
  {
   "cell_type": "code",
   "id": "e46b7d01-8126-4b1e-86d7-5c177812e55c",
   "metadata": {
    "id": "e46b7d01-8126-4b1e-86d7-5c177812e55c",
    "ExecuteTime": {
     "end_time": "2025-06-02T10:48:12.759084Z",
     "start_time": "2025-06-02T10:48:12.756459Z"
    }
   },
   "source": [
    "train_loader = torch.utils.data.DataLoader(train_dataset, batch_size=64, shuffle=False)\n",
    "val_loader = torch.utils.data.DataLoader(val_dataset, batch_size=64, shuffle=False)"
   ],
   "outputs": [],
   "execution_count": 42
  },
  {
   "cell_type": "code",
   "id": "a2d15f3b-a05b-4df7-9a10-600107529add",
   "metadata": {
    "id": "a2d15f3b-a05b-4df7-9a10-600107529add",
    "ExecuteTime": {
     "end_time": "2025-06-02T10:48:15.676350Z",
     "start_time": "2025-06-02T10:48:12.825078Z"
    }
   },
   "source": [
    "validate(model_frozen, train_loader, val_loader)"
   ],
   "outputs": [
    {
     "name": "stdout",
     "output_type": "stream",
     "text": [
      "train accuracy: 0.9221311475409836\n",
      "val accuracy: 0.9477124183006536\n"
     ]
    }
   ],
   "execution_count": 43
  },
  {
   "cell_type": "markdown",
   "id": "c8a80497-5b7b-4408-8386-ec185f3c1c37",
   "metadata": {
    "id": "c8a80497-5b7b-4408-8386-ec185f3c1c37"
   },
   "source": [
    "#### Ćwiczenie\n",
    "\n",
    "Porównaj powyższe wyniki z uzyskanymi dla modelu `Net` stworzonego na wcześniejszych zajęciach (lekko zmodyfikowane wymiary dla warstw gęstych - inny rozmiar obrazków wejściowych)."
   ]
  },
  {
   "cell_type": "code",
   "id": "9dcc4290-a886-4b7e-8746-e3babacff921",
   "metadata": {
    "id": "9dcc4290-a886-4b7e-8746-e3babacff921",
    "ExecuteTime": {
     "end_time": "2025-06-02T10:48:15.728361Z",
     "start_time": "2025-06-02T10:48:15.716733Z"
    }
   },
   "source": [
    "import torch.nn.functional as F\n",
    "\n",
    "class Net(nn.Module):\n",
    "    def __init__(self):\n",
    "        super().__init__()\n",
    "        self.conv1 = nn.Conv2d(3, 16, kernel_size=3, padding=1)\n",
    "        self.conv2 = nn.Conv2d(16, 8, kernel_size=3, padding=1)\n",
    "        self.fc1 = nn.Linear(8 * 56 * 56, 32)\n",
    "        self.fc2 = nn.Linear(32, 2)\n",
    "\n",
    "    def forward(self, x):\n",
    "        out = F.max_pool2d(torch.tanh(self.conv1(x)), 2)\n",
    "        out = F.max_pool2d(torch.tanh(self.conv2(out)), 2)\n",
    "        out = out.view(-1, 8 * 56 * 56)\n",
    "        out = torch.tanh(self.fc1(out))\n",
    "        out = self.fc2(out)\n",
    "        return out"
   ],
   "outputs": [],
   "execution_count": 44
  },
  {
   "cell_type": "code",
   "id": "18f9fe6d-2fee-480d-8acd-c9c5401c7d0b",
   "metadata": {
    "id": "18f9fe6d-2fee-480d-8acd-c9c5401c7d0b",
    "ExecuteTime": {
     "end_time": "2025-06-02T10:48:51.041593Z",
     "start_time": "2025-06-02T10:48:15.845590Z"
    }
   },
   "source": [
    "net_model = Net()\n",
    "net_model = net_model.to(device)\n",
    "\n",
    "train_loader = torch.utils.data.DataLoader(train_dataset, batch_size=64, shuffle=True)\n",
    "\n",
    "# SGD with momentum\n",
    "optimizer = torch.optim.SGD(net_model.parameters(), lr=1e-2, momentum=0.9)\n",
    "loss_fn = nn.CrossEntropyLoss()\n",
    "\n",
    "training_loop(\n",
    "    n_epochs = 25,\n",
    "    optimizer = optimizer,\n",
    "    model = net_model,\n",
    "    loss_fn = loss_fn,\n",
    "    train_loader = train_loader\n",
    ")"
   ],
   "outputs": [
    {
     "name": "stdout",
     "output_type": "stream",
     "text": [
      "Epoch 1, Training loss 0.6916071623563766\n",
      "Epoch 5, Training loss 0.6447539627552032\n",
      "Epoch 10, Training loss 0.6474007219076157\n",
      "Epoch 15, Training loss 0.6238445490598679\n",
      "Epoch 20, Training loss 0.6129355430603027\n",
      "Epoch 25, Training loss 0.6064138114452362\n",
      "Training complete in 0m 35s\n"
     ]
    }
   ],
   "execution_count": 45
  },
  {
   "cell_type": "code",
   "id": "753720a6-5e69-4ccc-afe0-4eb63bfce9ca",
   "metadata": {
    "id": "753720a6-5e69-4ccc-afe0-4eb63bfce9ca",
    "ExecuteTime": {
     "end_time": "2025-06-02T10:48:54.217321Z",
     "start_time": "2025-06-02T10:48:51.076603Z"
    }
   },
   "source": [
    "validate(net_model, train_loader, val_loader)"
   ],
   "outputs": [
    {
     "name": "stdout",
     "output_type": "stream",
     "text": [
      "train accuracy: 0.639344262295082\n",
      "val accuracy: 0.6209150326797386\n"
     ]
    }
   ],
   "execution_count": 46
  },
  {
   "metadata": {},
   "cell_type": "markdown",
   "source": [
    "#### Wnioski\n",
    "Dzięki zajęciom zrozumiałem czym jest transfer learning. Słyszałem już o nim wcześniej w internecie lecz nie wiedziałem, że tak się nazywa. Myślę, iż pozwala na zaoszczędzenie czasu na treningu modelu. Sam planowałem z niego skorzystać w mojej pracy inżynierskiej."
   ],
   "id": "10f07cce56a8e28d"
  },
  {
   "metadata": {
    "ExecuteTime": {
     "end_time": "2025-06-02T10:48:54.255605Z",
     "start_time": "2025-06-02T10:48:54.253807Z"
    }
   },
   "cell_type": "code",
   "source": "",
   "id": "1ab5c1e6e58f733e",
   "outputs": [],
   "execution_count": null
  }
 ],
 "metadata": {
  "kernelspec": {
   "display_name": "Python 3",
   "language": "python",
   "name": "python3"
  },
  "language_info": {
   "codemirror_mode": {
    "name": "ipython",
    "version": 3
   },
   "file_extension": ".py",
   "mimetype": "text/x-python",
   "name": "python",
   "nbconvert_exporter": "python",
   "pygments_lexer": "ipython3",
   "version": "3.8.5"
  },
  "colab": {
   "provenance": []
  }
 },
 "nbformat": 4,
 "nbformat_minor": 5
}
