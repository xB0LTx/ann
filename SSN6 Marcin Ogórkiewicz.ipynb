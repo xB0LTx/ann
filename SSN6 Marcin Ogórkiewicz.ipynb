{
 "cells": [
  {
   "cell_type": "markdown",
   "metadata": {
    "id": "5eJxV_isohzA"
   },
   "source": [
    "## Sztuczne sieci neuronowe - laboratorium 7\n",
    "\n",
    "### Splotowe sieci neuronowe\n",
    "\n",
    "Na poprzednich zajęciach wytrenowaliśmy gęstą sieć neuronową w zagadnieniu klasyfikacji binarnej obrazu - do rozróżniania ptaków i samolotów.\n",
    "\n",
    "Niestety nasza sieć nie poradziła sobie z tym zadaniem najlepiej - doszło do przeuczenia modelu. Jest to związane z faktem, iż sieci gęste nie nadają się do przetwarzania danych obrazkowych, np. położenie piksela na obrazku nie ma dla nich znaczenia.\n",
    "\n",
    "Dziś (i za tydzień) zajmiemy się **splotowymi sieciami neuronowymi** (ang. CNN - convolutional neural networks) w tym samym zagadnieniu."
   ]
  },
  {
   "cell_type": "markdown",
   "metadata": {
    "id": "X1h9UjPCohzC"
   },
   "source": [
    "### Z poprzednich ćwiczeń\n",
    "\n",
    "Uruchom kolejne komórki, wykorzystujące kod z poprzednich zajęć, aby przygotować zbiór danych - `cifar2`."
   ]
  },
  {
   "cell_type": "code",
   "metadata": {
    "id": "cslBGdDbohzD",
    "ExecuteTime": {
     "end_time": "2025-04-07T10:22:26.298784Z",
     "start_time": "2025-04-07T10:22:23.377832Z"
    }
   },
   "source": [
    "from torchvision import datasets, transforms\n",
    "import torch\n",
    "import torch.nn as nn\n",
    "import matplotlib.pyplot as plt"
   ],
   "outputs": [],
   "execution_count": 1
  },
  {
   "cell_type": "code",
   "metadata": {
    "id": "FKE6eaY-ohzE",
    "ExecuteTime": {
     "end_time": "2025-04-07T10:22:28.946815Z",
     "start_time": "2025-04-07T10:22:28.942524Z"
    }
   },
   "source": [
    "class_names = {\n",
    "    0: \"airplane\",\n",
    "    1: \"automobile\",\n",
    "    2: \"bird\",\n",
    "    3: \"cat\",\n",
    "    4: \"deer\",\n",
    "    5: \"dog\",\n",
    "    6: \"frog\",\n",
    "    7: \"horse\",\n",
    "    8: \"ship\",\n",
    "    9: \"truck\"\n",
    "}"
   ],
   "outputs": [],
   "execution_count": 2
  },
  {
   "cell_type": "code",
   "metadata": {
    "id": "zLL1uo6rohzE",
    "ExecuteTime": {
     "end_time": "2025-04-07T10:22:36.396668Z",
     "start_time": "2025-04-07T10:22:35.645844Z"
    }
   },
   "source": [
    "tensor_cifar10 = datasets.CIFAR10(\"data\", train=True, download=False, transform=transforms.ToTensor())\n",
    "tensor_cifar10_val = datasets.CIFAR10(\"data\", train=False, download=False, transform=transforms.ToTensor())"
   ],
   "outputs": [],
   "execution_count": 3
  },
  {
   "cell_type": "code",
   "metadata": {
    "id": "8s3O1MXfohzF",
    "ExecuteTime": {
     "end_time": "2025-04-07T10:22:46.695172Z",
     "start_time": "2025-04-07T10:22:39.119177Z"
    }
   },
   "source": [
    "imgs = torch.stack([img_t for img_t, _ in tensor_cifar10], dim=3)\n",
    "per_channel_means = imgs.view(3, -1).mean(dim=1)\n",
    "per_channel_std = imgs.view(3, -1).std(dim=1)"
   ],
   "outputs": [],
   "execution_count": 4
  },
  {
   "cell_type": "code",
   "metadata": {
    "id": "CnXa8M5EohzF",
    "ExecuteTime": {
     "end_time": "2025-04-07T10:22:48.464070Z",
     "start_time": "2025-04-07T10:22:47.779381Z"
    }
   },
   "source": [
    "transforms_compose = transforms.Compose([\n",
    "    transforms.ToTensor(),\n",
    "    transforms.Normalize(per_channel_means, per_channel_std)\n",
    "])\n",
    "\n",
    "transformed_cifar10 = datasets.CIFAR10(\"data\", train=True, download=False, transform=transforms_compose)\n",
    "transformed_cifar10_val = datasets.CIFAR10(\"data\", train=False, download=False, transform=transforms_compose)"
   ],
   "outputs": [],
   "execution_count": 5
  },
  {
   "cell_type": "code",
   "metadata": {
    "id": "j7eir6JnohzG",
    "ExecuteTime": {
     "end_time": "2025-04-07T10:22:58.518144Z",
     "start_time": "2025-04-07T10:22:49.350728Z"
    }
   },
   "source": [
    "label_map = {0: 0, 2: 1}\n",
    "new_class_names  = [class_names[i] for i in label_map]\n",
    "\n",
    "cifar2 = [(img, label_map[label]) for img, label in transformed_cifar10 if label in label_map]\n",
    "cifar2_val = [(img, label_map[label]) for img, label in transformed_cifar10_val if label in label_map]"
   ],
   "outputs": [],
   "execution_count": 6
  },
  {
   "cell_type": "markdown",
   "metadata": {
    "id": "fLf8itHcohzG"
   },
   "source": [
    "### Warstwa splotowa - Conv2d"
   ]
  },
  {
   "cell_type": "markdown",
   "metadata": {
    "id": "HvC6jcLXohzG"
   },
   "source": [
    "Podstawowym komponentem splotowych sieci neuronowych jest warstwa splotowa. W przetwarzaniu obrazów powszechnie stosuje się warstwę `nn.Conv2d`, która przyjmuje następujące argumenty (w wersji minumum):\n",
    "- `in_channels` - liczba kanałów wejściowych (cech)\n",
    "- `out_channels` - liczba kanałów wyjściowych (równa liczbie filtrów)\n",
    "- `kernel_size` - wymiary pojedynczego filtra - podawany jako para liczb lub pojedyncza liczba (dla filtrów kwadratowych - zazwyczaj takich będziemy używać)\n",
    "\n",
    "Domyślnie warstwa `Conv2d` dodaje do wyjścia z każdego filtra wyraz wolny (jest to także trenowalny parametr).\n",
    "\n",
    "Inne atrybuty warstwy splotowej to m.in.:\n",
    "- `padding` - liczba pikseli \"padowanych\" do poszczególnych wymiarów obrazka przed przejściem przez warstwę splotową\n",
    "- `stride` - krok / przeskok (w pikselach) filtra aplikowanego do wejścia (domyślnie 1 - co każdy piksel)\n",
    "\n",
    "https://pytorch.org/docs/stable/generated/torch.nn.Conv2d.html"
   ]
  },
  {
   "cell_type": "markdown",
   "metadata": {
    "id": "w9qOj_QVohzH"
   },
   "source": [
    "#### Ćwiczenie\n",
    "\n",
    "Stwórz warstwę `Conv2d`, która obsłuży obrazki RGB używając 16 kwadratowych filtrów rozmiaru 3x3. Przypisz ją do zmiennej `conv`.\n",
    "Ile parametrów ma tak stworzona warstwa? Sprawdź zawartość `conv.weight.shape` i `conv.bias.shape`."
   ]
  },
  {
   "cell_type": "code",
   "metadata": {
    "id": "UudpyB2gohzH",
    "ExecuteTime": {
     "end_time": "2025-04-07T10:27:56.040875Z",
     "start_time": "2025-04-07T10:27:56.033373Z"
    }
   },
   "source": [
    "conv = nn.Conv2d(3, 16, kernel_size=3)\n",
    "conv.weight.shape"
   ],
   "outputs": [
    {
     "data": {
      "text/plain": [
       "torch.Size([16, 3, 3, 3])"
      ]
     },
     "execution_count": 7,
     "metadata": {},
     "output_type": "execute_result"
    }
   ],
   "execution_count": 7
  },
  {
   "metadata": {
    "ExecuteTime": {
     "end_time": "2025-04-07T10:27:56.807133Z",
     "start_time": "2025-04-07T10:27:56.802570Z"
    }
   },
   "cell_type": "code",
   "source": "conv.bias.shape",
   "outputs": [
    {
     "data": {
      "text/plain": [
       "torch.Size([16])"
      ]
     },
     "execution_count": 8,
     "metadata": {},
     "output_type": "execute_result"
    }
   ],
   "execution_count": 8
  },
  {
   "cell_type": "markdown",
   "metadata": {
    "id": "93o_62pSohzH"
   },
   "source": [
    "#### Ćwiczenie\n",
    "Przepuść wybrany obrazek (wybrany indeks, np. 2) ze zbioru `cifar2` przez stworzoną warstwę `conv`.  \n",
    "Pamiętaj o zastosowaniu funkcji `unsqueeze()` przy puszczaniu przez warstwę pojedynczego obrazka. Sprawdź rozmiar (`.shape`) tensora przed przejściem przez warstwę i na jej wyjściu."
   ]
  },
  {
   "cell_type": "code",
   "metadata": {
    "id": "K-9YlbGtohzH",
    "ExecuteTime": {
     "end_time": "2025-04-07T10:31:55.458353Z",
     "start_time": "2025-04-07T10:31:55.454214Z"
    }
   },
   "source": [
    "img, _ = cifar2[2]\n",
    "len(img)"
   ],
   "outputs": [
    {
     "data": {
      "text/plain": [
       "3"
      ]
     },
     "execution_count": 11,
     "metadata": {},
     "output_type": "execute_result"
    }
   ],
   "execution_count": 11
  },
  {
   "cell_type": "code",
   "metadata": {
    "id": "R-jUsyRrohzH",
    "ExecuteTime": {
     "end_time": "2025-04-07T10:32:05.062653Z",
     "start_time": "2025-04-07T10:32:05.038754Z"
    }
   },
   "source": "conv(img.unsqueeze(0)).shape",
   "outputs": [
    {
     "data": {
      "text/plain": [
       "torch.Size([1, 16, 30, 30])"
      ]
     },
     "execution_count": 12,
     "metadata": {},
     "output_type": "execute_result"
    }
   ],
   "execution_count": 12
  },
  {
   "cell_type": "code",
   "metadata": {
    "id": "DNhNhQgtohzI",
    "ExecuteTime": {
     "end_time": "2025-04-07T10:32:09.009976Z",
     "start_time": "2025-04-07T10:32:08.893765Z"
    }
   },
   "source": [
    "plt.imshow(img.permute(1, 2, 0))\n",
    "plt.show()"
   ],
   "outputs": [
    {
     "name": "stderr",
     "output_type": "stream",
     "text": [
      "Clipping input data to the valid range for imshow with RGB data ([0..1] for floats or [0..255] for integers). Got range [-1.5775881..1.7572223].\n"
     ]
    },
    {
     "data": {
      "text/plain": [
       "<Figure size 640x480 with 1 Axes>"
      ],
      "image/png": "[encoded data removed]"
     },
     "metadata": {},
     "output_type": "display_data"
    }
   ],
   "execution_count": 13
  },
  {
   "cell_type": "markdown",
   "metadata": {
    "id": "95Duy7vSohzI"
   },
   "source": [
    "#### Ćwiczenie\n",
    "Stwórz warstwę `conv` jeszcze raz, tym razem podając `padding=1`, i znów przepuść przez nią obrazek. Jak zmieni się rozmiar wyjścia?"
   ]
  },
  {
   "cell_type": "code",
   "metadata": {
    "id": "Hb-Khf5XohzI",
    "ExecuteTime": {
     "end_time": "2025-04-07T10:40:52.853002Z",
     "start_time": "2025-04-07T10:40:52.848296Z"
    }
   },
   "source": [
    "conv = nn.Conv2d(3, 16, kernel_size=3, padding=1)\n",
    "conv.weight.shape"
   ],
   "outputs": [
    {
     "data": {
      "text/plain": [
       "torch.Size([16, 3, 3, 3])"
      ]
     },
     "execution_count": 14,
     "metadata": {},
     "output_type": "execute_result"
    }
   ],
   "execution_count": 14
  },
  {
   "metadata": {
    "ExecuteTime": {
     "end_time": "2025-04-07T10:40:53.655747Z",
     "start_time": "2025-04-07T10:40:53.651393Z"
    }
   },
   "cell_type": "code",
   "source": "conv(img.unsqueeze(0)).shape",
   "outputs": [
    {
     "data": {
      "text/plain": [
       "torch.Size([1, 16, 32, 32])"
      ]
     },
     "execution_count": 15,
     "metadata": {},
     "output_type": "execute_result"
    }
   ],
   "execution_count": 15
  },
  {
   "cell_type": "markdown",
   "metadata": {
    "id": "cur9UtSZohzI"
   },
   "source": [
    "### Filtry pozwalają wykrywać cechy obrazów"
   ]
  },
  {
   "cell_type": "markdown",
   "metadata": {
    "id": "-mxhogTXohzI"
   },
   "source": [
    "Wartości filtrów (i wyrazy wolne) w danej warstwie splotowej znajdowane są podczas uczenia sieci neuronowej - są to parametry modelu.\n",
    "\n",
    "Po wyuczeniu, poszczególne filtry umieją \"zwracać uwagę\" np. na określone kształty, krawędzie, kolory itd (aktywować się, tj. zwracać wysokie wartości na wyjściu - przy takich wejściach).\n",
    "\n",
    "Na razie spróbujmy sami wymusić wartości parametrów warstwy `conv`, uzyskując w kolejnych ćwiczeniach:\n",
    "- warstwę złożoną z jednakowych filtrów 3x3 przetwarzających każdy piksel w średnią jego sąsiadów\n",
    "- warstwę złożoną z jednakowych filtrów 3x3, w których kolejne kolumny zawierają po 3 wartości -1, 0 i 1\n",
    "\n",
    "Sprawdzimy, jak będzie wyglądał wejściowy obrazek po przepuszczeniu przez tak \"z palca\" stworzone warstwy."
   ]
  },
  {
   "cell_type": "markdown",
   "metadata": {
    "id": "XdhAXmrWohzI"
   },
   "source": [
    "#### Ćwiczenie\n",
    "\n",
    "Uzupełnij brakującą wartość w nawiasie, aby stworzyć filtry uśredniające sąsiednie piksele. Jaką należy wpisać wartość?\n",
    "\n",
    "hint: Filtry mają rozmiar 3x3."
   ]
  },
  {
   "cell_type": "code",
   "metadata": {
    "id": "exFkVniIohzJ",
    "ExecuteTime": {
     "end_time": "2025-04-07T10:42:27.301535Z",
     "start_time": "2025-04-07T10:42:27.298779Z"
    }
   },
   "source": [
    "with torch.no_grad():\n",
    "    conv.weight.fill_(1/9)\n",
    "    conv.bias.zero_()"
   ],
   "outputs": [],
   "execution_count": 21
  },
  {
   "cell_type": "markdown",
   "metadata": {
    "id": "CIjoBMK_ohzJ"
   },
   "source": [
    "#### Ćwiczenie\n",
    "Co stanie się z obrazkiem po przepuszczeniu przez taką warstwę? Dlaczego? Uruchom poniższą komórkę, aby się przekonać"
   ]
  },
  {
   "cell_type": "code",
   "metadata": {
    "id": "BbsogwzJohzJ",
    "ExecuteTime": {
     "end_time": "2025-04-07T10:42:28.650994Z",
     "start_time": "2025-04-07T10:42:28.532445Z"
    }
   },
   "source": [
    "plt.imshow(img.permute(1, 2, 0))"
   ],
   "outputs": [
    {
     "name": "stderr",
     "output_type": "stream",
     "text": [
      "Clipping input data to the valid range for imshow with RGB data ([0..1] for floats or [0..255] for integers). Got range [-1.5775881..1.7572223].\n"
     ]
    },
    {
     "data": {
      "text/plain": [
       "<matplotlib.image.AxesImage at 0x73661aed3200>"
      ]
     },
     "execution_count": 22,
     "metadata": {},
     "output_type": "execute_result"
    },
    {
     "data": {
      "text/plain": [
       "<Figure size 640x480 with 1 Axes>"
      ],
      "image/png": "[encoded data removed]"
     },
     "metadata": {},
     "output_type": "display_data"
    }
   ],
   "execution_count": 22
  },
  {
   "cell_type": "code",
   "metadata": {
    "id": "O27h1xcHohzJ",
    "ExecuteTime": {
     "end_time": "2025-04-07T10:42:29.410358Z",
     "start_time": "2025-04-07T10:42:29.306372Z"
    }
   },
   "source": [
    "output = conv(img.unsqueeze(0))\n",
    "plt.imshow(output[0, 0].detach(), cmap='gray')\n",
    "plt.show()"
   ],
   "outputs": [
    {
     "data": {
      "text/plain": [
       "<Figure size 640x480 with 1 Axes>"
      ],
      "image/png": "[encoded data removed]"
     },
     "metadata": {},
     "output_type": "display_data"
    }
   ],
   "execution_count": 23
  },
  {
   "cell_type": "markdown",
   "metadata": {
    "id": "r12I9ORmohzJ"
   },
   "source": [
    "#### Ćwiczenie\n",
    "\n",
    "Niech teraz warstwa składa się z filtrów 3x3 z kolumnami kolejno o wartościach -1, 0, 1. Na jakie wejścia będą reagowały takie filtry? Dlaczego? Uruchom poniższą komórkę, aby się przekonać. Co by się stało w przypadku -1, 0, 1 w wierszach zamiast w kolumnach?"
   ]
  },
  {
   "cell_type": "code",
   "metadata": {
    "id": "SelsG0SIohzJ",
    "ExecuteTime": {
     "end_time": "2025-04-07T10:42:39.001585Z",
     "start_time": "2025-04-07T10:42:38.898834Z"
    }
   },
   "source": [
    "plt.imshow(img.permute(1, 2, 0))"
   ],
   "outputs": [
    {
     "name": "stderr",
     "output_type": "stream",
     "text": [
      "Clipping input data to the valid range for imshow with RGB data ([0..1] for floats or [0..255] for integers). Got range [-1.5775881..1.7572223].\n"
     ]
    },
    {
     "data": {
      "text/plain": [
       "<matplotlib.image.AxesImage at 0x7365f4773470>"
      ]
     },
     "execution_count": 24,
     "metadata": {},
     "output_type": "execute_result"
    },
    {
     "data": {
      "text/plain": [
       "<Figure size 640x480 with 1 Axes>"
      ],
      "image/png": "[encoded data removed]"
     },
     "metadata": {},
     "output_type": "display_data"
    }
   ],
   "execution_count": 24
  },
  {
   "cell_type": "code",
   "metadata": {
    "id": "6MxPt-4pohzK",
    "ExecuteTime": {
     "end_time": "2025-04-07T10:42:42.435541Z",
     "start_time": "2025-04-07T10:42:42.333002Z"
    }
   },
   "source": [
    "conv = nn.Conv2d(3, 1, kernel_size=3, padding=1)\n",
    "with torch.no_grad():\n",
    "    conv.weight[:] = torch.tensor([[-1.0, 0.0, 1.0],\n",
    "                                   [-1.0, 0.0, 1.0],\n",
    "                                   [-1.0, 0.0, 1.0]])\n",
    "    conv.bias.zero_()\n",
    "\n",
    "output = conv(cifar2[2][0].unsqueeze(0))\n",
    "plt.imshow(output[0, 0].detach(), cmap='gray')\n",
    "plt.show()"
   ],
   "outputs": [
    {
     "data": {
      "text/plain": [
       "<Figure size 640x480 with 1 Axes>"
      ],
      "image/png": "[encoded data removed]"
     },
     "metadata": {},
     "output_type": "display_data"
    }
   ],
   "execution_count": 25
  },
  {
   "cell_type": "markdown",
   "metadata": {
    "id": "xcqGePCKohzK"
   },
   "source": [
    "### Pooling - redukcja rozmiarów\n",
    "\n",
    "Nie wszystkie \"cechy\" oryginalnego obrazka można wyłapać małymi filtrami (np. różna skala obrazków). Dlatego stosuje się sekwencje kolejnych filtrów oraz \"downsampling\", czyli stopniowe zmniejszanie wymiarów reprezentacji wejściowych danych. W ten sposób filtry aplikoawne do pomniejszonej reprezentacji \"patrzą\" na większe fragmenty oryginalnego obrazka (ang. receptive field).\n",
    "\n",
    "Najpopularniejszym wariantem downsamplingu jest tzw. \"max pooling\", realizowany w PyTorch przez `torch.nn.MaxPool2d`.\n",
    "\n",
    "Max pooling \"pozostawia\" największą wartość należącą do danego \"okna\", np. w przypadku poolingu 2x2 (popularny wariant) \"kompresujemy\" cztery piksele do jednego o wartości największej spośród tych czterech, pomniejszając wejściowy tensor dwukrotnie.\n",
    "\n",
    "Max pooling działa bazując na założeniu, że skoro warstwa splotowa aktywuje się dla pewnych cech, to ta aktywacja (a więc i dana cecha) \"przetrwa\" przejście przez tak zdefiniowany downsampling (największa wartość zostanie zachowana).\n",
    "\n",
    "Warstwy typu pooling nie mają trenowalnych parametrów.\n",
    "\n",
    "https://pytorch.org/docs/stable/generated/torch.nn.MaxPool2d.html"
   ]
  },
  {
   "cell_type": "code",
   "metadata": {
    "id": "WhOPmGIcohzK",
    "ExecuteTime": {
     "end_time": "2025-04-07T10:51:39.600302Z",
     "start_time": "2025-04-07T10:51:39.597052Z"
    }
   },
   "source": [
    "conv = nn.Sequential(\n",
    "    nn.Conv2d(3, 16, kernel_size=3, padding=1),\n",
    "    nn.MaxPool2d(2, 2)\n",
    ")"
   ],
   "outputs": [],
   "execution_count": 29
  },
  {
   "cell_type": "code",
   "metadata": {
    "id": "OtNfvx3mohzK",
    "ExecuteTime": {
     "end_time": "2025-04-07T10:51:40.425786Z",
     "start_time": "2025-04-07T10:51:40.323745Z"
    }
   },
   "source": [
    "plt.imshow(output[0, 0].detach(), cmap='gray')\n",
    "plt.show()"
   ],
   "outputs": [
    {
     "data": {
      "text/plain": [
       "<Figure size 640x480 with 1 Axes>"
      ],
      "image/png": "[encoded data removed]"
     },
     "metadata": {},
     "output_type": "display_data"
    }
   ],
   "execution_count": 30
  },
  {
   "cell_type": "markdown",
   "metadata": {
    "id": "z5i1CiEJohzK"
   },
   "source": [
    "### Sieć splotowa\n",
    "\n",
    "W podstawowym wariancie sieć splotowa składa się z sekwencji warstw splotowych (wraz z funkcjami aktywacji) oraz warstw typu pooling. Na samym końcu, gdy reprezentacja \"2D\" jest już odpowiednio mała, typowo \"wypłaszcza\" się ją i dokłada się warstwy gęste np. na potrzeby zadania klasyfikacji.\n",
    "\n",
    "Filtry początkowych warstw splotowych operują na lokalnych sąsiedztwach pikseli, ale już kolejne warstwy splotowe - dzięki zastosowaniu downsamplingu (poolingu) \"patrzą\" na większe grupy pikseli (ang. receptive field).\n",
    "\n",
    "Na poprzednich zajęciach definiowaliśmy sieć neuronową używając tzw. sekwencyjnego API (z użyciem `nn.Sequential`). Jest ono użyteczne przy prostych modelach, ale dość mocno ograniczone (m.in. patrz: rozdział 8.2.4 w książce).\n",
    "\n",
    "Innym sposobem definiowania sieci neuronowej jest implementacja jej jako klasy dziedziczącej po `torch.nn.Module` (wspomniane na lab. 4 i w rozdziale 6.).\n",
    "\n",
    "Dziedziczenie po `nn.Module` w wariancie minimum wymaga zdefiniowania metody `forward()`, która określa sekwencję warstw aplikowanych do danych wejściowych przy kroku \"w przód\" (krok `backward()` będzie za nas wykonywał `autograd`).\n",
    "\n",
    "Sieć zdefiniowana w ten sposób może mieć także \"podmoduły\", definiowane jako atrybuty klasy w konstruktorze. Podmoduły te, reprezentujące poszczególne warstwy (lub grupy warstw) - także dziedziczące po`nn.Module` - będą przechowywały wartości swoich parametrów (patrz: rozdział 8.3.2)."
   ]
  },
  {
   "cell_type": "markdown",
   "metadata": {
    "id": "AUNu8j-KohzK"
   },
   "source": [
    "#### Ćwiczenie\n",
    "Zdefiniuj sieć splotową tworząc klasę `Net`. Niech posiada warstwy (podane jako atrybuty klasy `Net` w konstruktorze):\n",
    "- `conv1` - 3 kanały wejściowe, 16 filtrów 3x3, padding=1\n",
    "- `conv2` - 16 kanałów wejściowych, 8 filtrów 3x3, padding=1\n",
    "- po obu tych warstwach: funkcje aktywacji tangens hiperboliczny (`act1` i `act2`)\n",
    "- po funkcjach aktywacji: warstwy typu max pooling 2x2 (`pool1`, `pool2`)\n",
    "- na końcu \"sieć gęstą\" złożoną z dwóch warstw `nn.Linear` (`fc1`, `fc2`) rozdzielonych  funkcją aktywacji (`act3`)\n",
    "\n",
    "Zastąp wszystkie wystąpienia `None` kodem.\n",
    "\n",
    "\n",
    "Zastanów się, jaki musi być rozmiar wejścia do \"sieci gęstej\" i rozmiar wyjścia z niej. Przyjmij \"pośredni\" rozmiar w sieci gęstej (wyjście z pierwszej warstwy `Linear` i wejście do drugiej) równy 32.\n",
    "\n",
    "Następnie zdefiniuj, jak dane wejściowe (argument `x`) mają być przetwarzane przez sieć w kroku \"w przód\", tj. uzupełnij implementację metody `self.forward()`."
   ]
  },
  {
   "cell_type": "code",
   "metadata": {
    "id": "Sg-m8cHgohzL",
    "ExecuteTime": {
     "end_time": "2025-04-07T10:57:54.019949Z",
     "start_time": "2025-04-07T10:57:54.014859Z"
    }
   },
   "source": [
    "class Net(nn.Module):\n",
    "    def __init__(self):\n",
    "        super().__init__()\n",
    "        # uzupełnij zgodnie z opisem powyżej dla conv1, a potem dopisz kolejne podmoduły (warstwy)\n",
    "        self.conv1 = nn.Conv2d(3, 16, kernel_size=3, padding=1)\n",
    "        self.act1 = nn.Tanh()\n",
    "        self.pool1 = nn.MaxPool2d(2, 2)\n",
    "        self.conv2 = nn.Conv2d(16, 16, kernel_size=3, padding=1)\n",
    "        self.act2 = nn.Tanh()\n",
    "        self.pool2 = nn.MaxPool2d(2, 2)\n",
    "        self.fc1 = nn.Linear(16 * 8 * 8, 32)\n",
    "        self.act3 = nn.Tanh()\n",
    "        self.fc2 = nn.Linear(32, 2)\n",
    "\n",
    "    def forward(self, x):\n",
    "        # zaimplementuj logikę kroku \"w przód\", dla wygody w kilku liniach\n",
    "        out = self.conv1(x)\n",
    "        out = self.act1(out)\n",
    "        out = self.pool1(out)\n",
    "        out = self.conv2(out)\n",
    "        out = self.act2(out)\n",
    "        out = self.pool2(out)\n",
    "        out = out.view(out.size(0), -1)  # spłaszczanie\n",
    "        out = self.fc1(out)\n",
    "        out = self.act3(out)\n",
    "        out = self.fc2(out)\n",
    "        return out\n",
    "\n"
   ],
   "outputs": [],
   "execution_count": 39
  },
  {
   "cell_type": "markdown",
   "metadata": {
    "id": "W6xGZjEiohzL"
   },
   "source": [
    "#### Ćwiczenie\n",
    "Zainicjalizuj model używając zdefiniowanej właśnie klasy `Net`. Przepuść przez model obrazek.\n",
    "\n",
    "Wywołanie `model(dane)` jest równe wywołaniu `model.forward(dane)`."
   ]
  },
  {
   "cell_type": "code",
   "metadata": {
    "id": "2Kp2XfweohzL",
    "ExecuteTime": {
     "end_time": "2025-04-07T10:57:54.955120Z",
     "start_time": "2025-04-07T10:57:54.949418Z"
    }
   },
   "source": [
    "model = Net()\n",
    "model(cifar2[2][0].unsqueeze(0))"
   ],
   "outputs": [
    {
     "data": {
      "text/plain": [
       "tensor([[-0.0597, -0.0957]], grad_fn=<AddmmBackward0>)"
      ]
     },
     "execution_count": 40,
     "metadata": {},
     "output_type": "execute_result"
    }
   ],
   "execution_count": 40
  },
  {
   "cell_type": "markdown",
   "metadata": {
    "id": "BZS22hMbohzL"
   },
   "source": [
    "#### Ćwiczenie (opcjonalne)\n",
    "Funkcje aktywacji i warstwy typu pooling nie mają trenowalnych parametrów. W związku z tym nie ma potrzeby rejestrowania ich jako podmodułów klasy `Net`. Zamiast tego, móżemy wykorzystać ich odpowiedniki z tzw. funkcjonalnego API, zrealizowanego jako funkcje w module `torch.nn.functional` i użyć ich wewnątrz metody `forward()`."
   ]
  },
  {
   "cell_type": "code",
   "metadata": {
    "id": "9hCwI1waohzL",
    "ExecuteTime": {
     "end_time": "2025-04-07T11:00:48.912936Z",
     "start_time": "2025-04-07T11:00:48.907123Z"
    }
   },
   "source": [
    "class Net(nn.Module):\n",
    "    def __init__(self):\n",
    "        super().__init__()\n",
    "        # uzupełnij zgodnie z opisem powyżej dla conv1, a potem dopisz kolejne podmoduły (warstwy)\n",
    "        self.conv1 = nn.Conv2d(3, 16, kernel_size=3, padding=1)\n",
    "        self.act1 = nn.functional.tanh(self.conv1)\n",
    "        self.pool1 = nn.functional.max_pool2d(self.conv1, 2, 2)\n",
    "        self.conv2 = nn.Conv2d(16, 16, kernel_size=3, padding=1)\n",
    "        self.act2 = nn.functional.tanh(self.conv2)\n",
    "        self.pool2 = nn.functional.max_pool2d(self.conv2, 2, 2)\n",
    "        self.fc1 = nn.Linear(16 * 8 * 8, 32)\n",
    "        self.act3 = nn.Tanh()\n",
    "        self.fc2 = nn.Linear(32, 2)\n",
    "\n",
    "    def forward(self, x):\n",
    "        # zaimplementuj logikę kroku \"w przód\", dla wygody w kilku liniach\n",
    "        out = self.conv1(x)\n",
    "        out = self.act1(out)\n",
    "        out = self.pool1(out)\n",
    "        out = self.conv2(out)\n",
    "        out = self.act2(out)\n",
    "        out = self.pool2(out)\n",
    "        out = out.view(out.size(0), -1)  # spłaszczanie\n",
    "        out = self.fc1(out)\n",
    "        out = self.act3(out)\n",
    "        out = self.fc2(out)\n",
    "        return out\n",
    "\n"
   ],
   "outputs": [],
   "execution_count": 41
  },
  {
   "cell_type": "markdown",
   "metadata": {
    "id": "54X7zTYAohzL"
   },
   "source": [
    "### Podsumowanie\n",
    "\n",
    "Na dzisiejszym laboratorium:\n",
    "- poznaliśmy działanie warstwy splotowej: `Conv2d`\n",
    "- poznaliśmy działanie warstwy pooling na przykładzie `MaxPool2d`\n",
    "- zdefiniowaliśmy splotową sieć neuronową poprzez dziedziczenie po klasie `nn.Module`.\n",
    "\n",
    "Na kolejnych zajęciach wytrenujemy sieć splotową bazując na zdefiniowanym powyżej modelu, a także rozszerzając go o dodatkowe komponenty stosowane w praktyce w celu zapewnienia regularyzacji modelu i stabilności treningu."
   ]
  },
  {
   "metadata": {},
   "cell_type": "markdown",
   "source": [
    "### Wnioski\n",
    "Warstwy pooling usprawniają uczenie sieci neuronowej, zmniejszając liczbę parametrów i obciążenie obliczeniowe."
   ]
  },
  {
   "metadata": {},
   "cell_type": "code",
   "outputs": [],
   "execution_count": null,
   "source": ""
  }
 ],
 "metadata": {
  "kernelspec": {
   "display_name": "Python 3",
   "language": "python",
   "name": "python3"
  },
  "language_info": {
   "codemirror_mode": {
    "name": "ipython",
    "version": 3
   },
   "file_extension": ".py",
   "mimetype": "text/x-python",
   "name": "python",
   "nbconvert_exporter": "python",
   "pygments_lexer": "ipython3",
   "version": "3.6.9"
  },
  "colab": {
   "provenance": []
  }
 },
 "nbformat": 4,
 "nbformat_minor": 0
}
