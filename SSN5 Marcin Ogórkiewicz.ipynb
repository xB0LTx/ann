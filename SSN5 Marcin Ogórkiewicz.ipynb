{
 "cells": [
  {
   "cell_type": "markdown",
   "metadata": {
    "id": "UBqubVZyKk2x"
   },
   "source": [
    "## Sztuczne sieci neuronowe - laboratorium 5\n",
    "\n",
    "### Sieci neuronowe - klasyfikacja\n",
    "\n",
    "Na poprzednich zajęciach wytrenowaliśmy prostą sieć neuronową w zagadnieniu regresji.\n",
    "\n",
    "Dzisiejsze laboratorium będzie dotyczyło wykorzystania (gęstej) sieci neuronowej do klasyfikacji. Będziemy pracowali z danymi obrazkowymi.\n",
    "\n",
    "Poza biblioteką `torch` należy także doinstalować pakiet `torchvision`."
   ]
  },
  {
   "cell_type": "code",
   "metadata": {
    "id": "cXAvkb9zKk2z",
    "ExecuteTime": {
     "end_time": "2025-04-07T10:20:47.451815Z",
     "start_time": "2025-04-07T10:20:47.449577Z"
    }
   },
   "source": "#!pip install torchvision",
   "outputs": [],
   "execution_count": 36
  },
  {
   "cell_type": "code",
   "metadata": {
    "id": "Iv3k-iXIKk21",
    "ExecuteTime": {
     "end_time": "2025-04-07T10:20:47.500745Z",
     "start_time": "2025-04-07T10:20:47.497397Z"
    }
   },
   "source": [
    "import torch\n",
    "import torch.nn as nn\n",
    "import torch.optim as optim\n",
    "\n",
    "print(torch.__version__)\n",
    "device = torch.device(\"cuda\" if torch.cuda.is_available() else \"cpu\")\n",
    "print(f\"Using device: {device}\")"
   ],
   "outputs": [
    {
     "name": "stdout",
     "output_type": "stream",
     "text": [
      "2.6.0+cu126\n",
      "Using device: cuda\n"
     ]
    }
   ],
   "execution_count": 37
  },
  {
   "cell_type": "code",
   "metadata": {
    "id": "WvLwIRVlKk21",
    "ExecuteTime": {
     "end_time": "2025-04-07T10:20:47.557489Z",
     "start_time": "2025-04-07T10:20:47.553771Z"
    }
   },
   "source": [
    "from torchvision import datasets\n",
    "from torchvision import transforms"
   ],
   "outputs": [],
   "execution_count": 38
  },
  {
   "cell_type": "markdown",
   "metadata": {
    "id": "ygJVQuW2Kk22"
   },
   "source": [
    "### CIFAR-10\n",
    "Zbiór CIFAR-10 składa się z 60 tysięcy kolorowych obrazków (RGB) rozmiaru 32x32 reprezentujących 10 klas obiektów:\n",
    "- 0 - samoloty (airplane)\n",
    "- 1 - samochody (automobile)\n",
    "- 2 - ptaki (bird)\n",
    "- 3 - koty (cat)\n",
    "- 4 - jelenie (deer)\n",
    "- 5 - psy (dog)\n",
    "- 6 - żaby (frog)\n",
    "- 7 - konie (horse)\n",
    "- 8 - statki (ship)\n",
    "- 9 - ciężarówki (truck)\n",
    "\n",
    "Został opracowany przez naukowców z CIFAR - Canadian Institute For Advanced Research.\n",
    "\n",
    "Biblioteka `torchvision` zawiera implementacje modeli sieci neuronowych wykorzystywanych do przetwarzania obrazu (wrócimy do nich w późniejszych laboratoriach), a także ma wbudowane przykładowe zbiory danych - CIFAR-10, CIFAR-100, MNIST, Fashion-MNIST i inne."
   ]
  },
  {
   "cell_type": "code",
   "metadata": {
    "id": "SIJdaBugKk22",
    "ExecuteTime": {
     "end_time": "2025-04-07T10:20:47.604031Z",
     "start_time": "2025-04-07T10:20:47.600678Z"
    }
   },
   "source": [
    "class_names = {\n",
    "    0: \"airplane\",\n",
    "    1: \"automobile\",\n",
    "    2: \"bird\",\n",
    "    3: \"cat\",\n",
    "    4: \"deer\",\n",
    "    5: \"dog\",\n",
    "    6: \"frog\",\n",
    "    7: \"horse\",\n",
    "    8: \"ship\",\n",
    "    9: \"truck\"\n",
    "}"
   ],
   "outputs": [],
   "execution_count": 39
  },
  {
   "cell_type": "markdown",
   "metadata": {
    "id": "TOqX6S3IKk23"
   },
   "source": [
    "#### Ćwiczenie\n",
    "\n",
    "W `torchvision.datasets` dostępna jest klasa `CIFAR10`, która pozwala wczytać (lub pobrać i wczytać) dane pochodzące z tego zbioru. Można to zrobić tworząc obiekt tej klasy, podając jako argumenty konstruktora kolejno:\n",
    "- katalog z danymi (lub do którego dane mają zostać pobrane)\n",
    "- parametr `train` typu True/False - do wczytania osobno zbioru uczącego i walidacyjnego\n",
    "- parametr `download` - True/False czy w przypadku braku danych w podanym katalogu PyTorch ma je pobrać na dysk\n",
    "\n",
    "Wczytaj zbiór uczący i walidacyjny odpowiednio do zmiennych `cifar10` i `cifar10_val`.\n",
    "Wywołaj `type(cifar10).__mro__`, aby sprawdzić, jakiej klasy jest ten obiekt i po jakich klasach ona dziedziczy (MRO - Method Resolution Order)."
   ]
  },
  {
   "cell_type": "code",
   "metadata": {
    "id": "va29ejnmKk24",
    "ExecuteTime": {
     "end_time": "2025-04-07T10:20:48.884878Z",
     "start_time": "2025-04-07T10:20:47.649530Z"
    }
   },
   "source": [
    "cifar10 = datasets.CIFAR10(\n",
    "    root=\"data\",\n",
    "    train=True,\n",
    "    download=True\n",
    ")\n",
    "cifar10_val = datasets.CIFAR10(\n",
    "    root=\"data\",\n",
    "    train=False,\n",
    "    download=True\n",
    ")\n",
    "\n",
    "\n",
    "print(type(cifar10).__mro__)"
   ],
   "outputs": [
    {
     "name": "stdout",
     "output_type": "stream",
     "text": [
      "(<class 'torchvision.datasets.cifar.CIFAR10'>, <class 'torchvision.datasets.vision.VisionDataset'>, <class 'torch.utils.data.dataset.Dataset'>, <class 'typing.Generic'>, <class 'object'>)\n"
     ]
    }
   ],
   "execution_count": 40
  },
  {
   "cell_type": "markdown",
   "metadata": {
    "id": "wnaKCqe8Kk24"
   },
   "source": [
    "### Klasa Dataset\n",
    "\n",
    "W PyTorchu do reprezentowania zbiorów danych typowo wykorzystuje się klasę `torch.utils.data.Dataset`. Obiekty tej klasy muszą posiadać implementacje co najmniej dwóch metod: **\\_\\_len\\_\\_** oraz **\\_\\_getitem\\_\\_**. Pierwsza z nich powinna zwracać liczbę obserwacji w zbiorze danych, a druga - element zbioru (cechy i etykietę - w przypadku uczenia z nadzorem) odpowiadający podanemu indeksowi.\n",
    "\n",
    "Metodę \\_\\_len\\_\\_ w Pythonie wywołuje się jako **len(obiekt)**. Metodę \\_\\_getitem\\_\\_ - poprzez **obiekt[indeks]** - tak jak np. w przypadku listy."
   ]
  },
  {
   "cell_type": "markdown",
   "metadata": {
    "id": "HqfLIXeTKk24"
   },
   "source": [
    "#### Ćwiczenie\n",
    "Sprawdź wywołania powyżej opisanych metod dla `cifar10` i `cifar10_val` (wybierz dowolny indeks - lub kilka różnych po kolei - z dozwolonego zakresu). Do zapoznania się ze zbiorem danych wykorzystaj funkcję `plt.imshow(img)` i sprawdź zgodność etykiety z obrazkiem z wykorzystaniem słownika `class_names`."
   ]
  },
  {
   "cell_type": "code",
   "metadata": {
    "id": "4H5Kl6H8Kk24",
    "ExecuteTime": {
     "end_time": "2025-04-07T10:20:48.928032Z",
     "start_time": "2025-04-07T10:20:48.925012Z"
    }
   },
   "source": "len(cifar10)",
   "outputs": [
    {
     "data": {
      "text/plain": [
       "50000"
      ]
     },
     "execution_count": 41,
     "metadata": {},
     "output_type": "execute_result"
    }
   ],
   "execution_count": 41
  },
  {
   "cell_type": "code",
   "metadata": {
    "id": "ea5Fqh4vKk24",
    "ExecuteTime": {
     "end_time": "2025-04-07T10:20:48.953804Z",
     "start_time": "2025-04-07T10:20:48.950691Z"
    }
   },
   "source": "len(cifar10_val)",
   "outputs": [
    {
     "data": {
      "text/plain": [
       "10000"
      ]
     },
     "execution_count": 42,
     "metadata": {},
     "output_type": "execute_result"
    }
   ],
   "execution_count": 42
  },
  {
   "metadata": {
    "ExecuteTime": {
     "end_time": "2025-04-07T10:20:49.002779Z",
     "start_time": "2025-04-07T10:20:49.000322Z"
    }
   },
   "cell_type": "code",
   "source": "import matplotlib.pyplot as plt",
   "outputs": [],
   "execution_count": 43
  },
  {
   "metadata": {
    "ExecuteTime": {
     "end_time": "2025-04-07T10:20:49.143164Z",
     "start_time": "2025-04-07T10:20:49.047927Z"
    }
   },
   "cell_type": "code",
   "source": [
    "img, label = cifar10[0]\n",
    "plt.imshow(img)\n",
    "plt.title(class_names[label])\n",
    "plt.show()"
   ],
   "outputs": [
    {
     "data": {
      "text/plain": [
       "<Figure size 640x480 with 1 Axes>"
      ],
      "image/png": "[encoded data removed]"
     },
     "metadata": {},
     "output_type": "display_data"
    }
   ],
   "execution_count": 44
  },
  {
   "metadata": {
    "ExecuteTime": {
     "end_time": "2025-04-07T10:20:49.264184Z",
     "start_time": "2025-04-07T10:20:49.174107Z"
    }
   },
   "cell_type": "code",
   "source": [
    "img, label = cifar10_val[0]\n",
    "plt.imshow(img)\n",
    "plt.title(class_names[label])\n",
    "plt.show()"
   ],
   "outputs": [
    {
     "data": {
      "text/plain": [
       "<Figure size 640x480 with 1 Axes>"
      ],
      "image/png": "[encoded data removed]"
     },
     "metadata": {},
     "output_type": "display_data"
    }
   ],
   "execution_count": 45
  },
  {
   "cell_type": "markdown",
   "metadata": {
    "id": "xAQ2J5GKKk25"
   },
   "source": [
    "### Obrazek jako tensor\n",
    "\n",
    "Wczytany z użyciem `torchvision` zbiór CIFAR10 zawiera obrazki w postaci obiektów klasy `PIL.Image`. Przed użyciem w treningu modelu należy je przekształcić do postaci tensorów. Różne transformacje obrazów są dostępne w `torchvision.transforms` - będziemy się nimi zajmować mocniej w późniejszym czasie (np. przy okazji zagadnienia \"data augmentation\"). Dziś wykorzystamy je do konwersji obrazków RGB do tensorów oraz do normalizacji danych."
   ]
  },
  {
   "cell_type": "code",
   "metadata": {
    "id": "rpVog6QqKk25",
    "ExecuteTime": {
     "end_time": "2025-04-07T10:20:49.271818Z",
     "start_time": "2025-04-07T10:20:49.269528Z"
    }
   },
   "source": [
    "from torchvision import transforms"
   ],
   "outputs": [],
   "execution_count": 46
  },
  {
   "cell_type": "code",
   "metadata": {
    "id": "6tJT2TAZKk25",
    "ExecuteTime": {
     "end_time": "2025-04-07T10:20:49.321134Z",
     "start_time": "2025-04-07T10:20:49.317396Z"
    }
   },
   "source": [
    "dir(transforms)"
   ],
   "outputs": [
    {
     "data": {
      "text/plain": [
       "['AugMix',\n",
       " 'AutoAugment',\n",
       " 'AutoAugmentPolicy',\n",
       " 'CenterCrop',\n",
       " 'ColorJitter',\n",
       " 'Compose',\n",
       " 'ConvertImageDtype',\n",
       " 'ElasticTransform',\n",
       " 'FiveCrop',\n",
       " 'GaussianBlur',\n",
       " 'Grayscale',\n",
       " 'InterpolationMode',\n",
       " 'Lambda',\n",
       " 'LinearTransformation',\n",
       " 'Normalize',\n",
       " 'PILToTensor',\n",
       " 'Pad',\n",
       " 'RandAugment',\n",
       " 'RandomAdjustSharpness',\n",
       " 'RandomAffine',\n",
       " 'RandomApply',\n",
       " 'RandomAutocontrast',\n",
       " 'RandomChoice',\n",
       " 'RandomCrop',\n",
       " 'RandomEqualize',\n",
       " 'RandomErasing',\n",
       " 'RandomGrayscale',\n",
       " 'RandomHorizontalFlip',\n",
       " 'RandomInvert',\n",
       " 'RandomOrder',\n",
       " 'RandomPerspective',\n",
       " 'RandomPosterize',\n",
       " 'RandomResizedCrop',\n",
       " 'RandomRotation',\n",
       " 'RandomSolarize',\n",
       " 'RandomVerticalFlip',\n",
       " 'Resize',\n",
       " 'TenCrop',\n",
       " 'ToPILImage',\n",
       " 'ToTensor',\n",
       " 'TrivialAugmentWide',\n",
       " '__builtins__',\n",
       " '__cached__',\n",
       " '__doc__',\n",
       " '__file__',\n",
       " '__loader__',\n",
       " '__name__',\n",
       " '__package__',\n",
       " '__path__',\n",
       " '__spec__',\n",
       " '_functional_pil',\n",
       " '_functional_tensor',\n",
       " '_presets',\n",
       " 'autoaugment',\n",
       " 'functional',\n",
       " 'transforms']"
      ]
     },
     "execution_count": 47,
     "metadata": {},
     "output_type": "execute_result"
    }
   ],
   "execution_count": 47
  },
  {
   "cell_type": "markdown",
   "metadata": {
    "id": "O_iz_cjSKk25"
   },
   "source": [
    "#### Ćwiczenie\n",
    "\n",
    "Do konwersji wybranego obrazka z CIFAR10 z `PIL.Image` do `torch.Tensor` użyj transformacji `transforms.ToTensor()`. Należy najpierw przypisać `transforms.ToTensor()` do zmiennej, np. `to_tensor`, a następnie wywołać `to_tensor(img)` i wynik przypisać do zmiennej, np. `img_t`.\n",
    "\n",
    "1. Sprawdź zawartość `img_t` oraz wartość `img_t.shape`. Zajrzyj też w \"oryginalny\" `img` - użyj `list(img.getdata())`.\n",
    "2. Co się stało z wartościami w `img_t` w porównaniu z `img`? Jak zinterpretować kolejne wymiary tego tensora w `img_t.shape`?\n",
    "\n",
    "- https://pytorch.org/vision/stable/transforms.html#torchvision.transforms.ToTensor"
   ]
  },
  {
   "cell_type": "code",
   "metadata": {
    "id": "tNFdQP_CKk25",
    "ExecuteTime": {
     "end_time": "2025-04-07T10:20:49.369513Z",
     "start_time": "2025-04-07T10:20:49.366883Z"
    }
   },
   "source": [
    "to_tensor = transforms.ToTensor()\n",
    "img_t = to_tensor(img)"
   ],
   "outputs": [],
   "execution_count": 48
  },
  {
   "metadata": {
    "ExecuteTime": {
     "end_time": "2025-04-07T10:20:49.422209Z",
     "start_time": "2025-04-07T10:20:49.415728Z"
    }
   },
   "cell_type": "code",
   "source": [
    "print(img_t)\n",
    "print(img_t.shape)"
   ],
   "outputs": [
    {
     "name": "stdout",
     "output_type": "stream",
     "text": [
      "tensor([[[0.6196, 0.6235, 0.6471,  ..., 0.5373, 0.4941, 0.4549],\n",
      "         [0.5961, 0.5922, 0.6235,  ..., 0.5333, 0.4902, 0.4667],\n",
      "         [0.5922, 0.5922, 0.6196,  ..., 0.5451, 0.5098, 0.4706],\n",
      "         ...,\n",
      "         [0.2667, 0.1647, 0.1216,  ..., 0.1490, 0.0510, 0.1569],\n",
      "         [0.2392, 0.1922, 0.1373,  ..., 0.1020, 0.1137, 0.0784],\n",
      "         [0.2118, 0.2196, 0.1765,  ..., 0.0941, 0.1333, 0.0824]],\n",
      "\n",
      "        [[0.4392, 0.4353, 0.4549,  ..., 0.3725, 0.3569, 0.3333],\n",
      "         [0.4392, 0.4314, 0.4471,  ..., 0.3725, 0.3569, 0.3451],\n",
      "         [0.4314, 0.4275, 0.4353,  ..., 0.3843, 0.3725, 0.3490],\n",
      "         ...,\n",
      "         [0.4863, 0.3922, 0.3451,  ..., 0.3804, 0.2510, 0.3333],\n",
      "         [0.4549, 0.4000, 0.3333,  ..., 0.3216, 0.3216, 0.2510],\n",
      "         [0.4196, 0.4118, 0.3490,  ..., 0.3020, 0.3294, 0.2627]],\n",
      "\n",
      "        [[0.1922, 0.1843, 0.2000,  ..., 0.1412, 0.1412, 0.1294],\n",
      "         [0.2000, 0.1569, 0.1765,  ..., 0.1216, 0.1255, 0.1333],\n",
      "         [0.1843, 0.1294, 0.1412,  ..., 0.1333, 0.1333, 0.1294],\n",
      "         ...,\n",
      "         [0.6941, 0.5804, 0.5373,  ..., 0.5725, 0.4235, 0.4980],\n",
      "         [0.6588, 0.5804, 0.5176,  ..., 0.5098, 0.4941, 0.4196],\n",
      "         [0.6275, 0.5843, 0.5176,  ..., 0.4863, 0.5059, 0.4314]]])\n",
      "torch.Size([3, 32, 32])\n"
     ]
    }
   ],
   "execution_count": 49
  },
  {
   "metadata": {
    "ExecuteTime": {
     "end_time": "2025-04-07T10:20:49.470410Z",
     "start_time": "2025-04-07T10:20:49.466695Z"
    }
   },
   "cell_type": "code",
   "source": "print(list(img.getdata()))",
   "outputs": [
    {
     "name": "stdout",
     "output_type": "stream",
     "text": [
      "[(158, 112, 49), (159, 111, 47), (165, 116, 51), (166, 118, 53), (160, 112, 46), (156, 109, 41), (162, 115, 47), (159, 113, 45), (158, 111, 44), (159, 113, 41), (161, 116, 41), (160, 111, 52), (161, 111, 49), (166, 117, 41), (169, 117, 45), (170, 119, 44), (167, 117, 40), (162, 113, 38), (160, 111, 39), (160, 112, 43), (156, 109, 44), (149, 107, 45), (150, 107, 45), (148, 106, 43), (149, 107, 44), (143, 101, 39), (140, 98, 43), (141, 97, 41), (143, 97, 38), (137, 95, 36), (126, 91, 36), (116, 85, 33), (152, 112, 51), (151, 110, 40), (159, 114, 45), (166, 116, 56), (162, 112, 49), (160, 113, 43), (164, 117, 47), (162, 114, 45), (163, 116, 46), (156, 110, 38), (155, 111, 41), (159, 110, 54), (163, 113, 52), (170, 119, 41), (171, 117, 40), (171, 115, 33), (169, 115, 30), (160, 111, 33), (154, 112, 41), (151, 115, 50), (145, 110, 53), (139, 104, 55), (140, 102, 52), (141, 100, 48), (149, 105, 50), (147, 102, 46), (145, 102, 45), (142, 97, 38), (143, 98, 34), (136, 95, 31), (125, 91, 32), (119, 88, 34), (151, 110, 47), (151, 109, 33), (158, 111, 36), (167, 111, 48), (160, 106, 42), (163, 115, 44), (165, 117, 45), (165, 117, 45), (163, 115, 43), (162, 115, 43), (158, 114, 48), (157, 109, 57), (161, 111, 51), (166, 115, 38), (167, 114, 37), (169, 113, 35), (170, 116, 39), (159, 114, 47), (145, 111, 54), (121, 96, 49), (110, 90, 52), (98, 78, 50), (101, 77, 47), (114, 85, 50), (120, 86, 48), (134, 96, 55), (143, 103, 51), (140, 99, 39), (142, 99, 35), (139, 98, 34), (130, 95, 34), (120, 89, 33), (155, 107, 40), (155, 110, 32), (160, 109, 31), (174, 112, 44), (167, 110, 43), (167, 117, 46), (169, 120, 48), (169, 119, 48), (165, 115, 44), (165, 117, 45), (167, 123, 57), (191, 146, 95), (177, 130, 75), (157, 111, 41), (162, 115, 47), (164, 114, 54), (158, 112, 58), (149, 111, 67), (104, 80, 47), (103, 87, 65), (98, 90, 76), (92, 90, 84), (80, 75, 66), (74, 63, 50), (86, 70, 52), (83, 62, 39), (113, 85, 45), (132, 98, 46), (140, 102, 43), (140, 101, 39), (136, 99, 39), (127, 94, 36), (155, 107, 41), (156, 114, 48), (161, 115, 49), (170, 114, 47), (169, 114, 43), (163, 113, 40), (169, 120, 47), (166, 116, 44), (164, 113, 41), (164, 116, 42), (173, 128, 59), (246, 214, 164), (195, 156, 107), (151, 114, 56), (146, 111, 60), (142, 108, 71), (111, 80, 50), (78, 53, 31), (85, 69, 56), (113, 103, 98), (112, 110, 111), (106, 114, 118), (97, 102, 105), (93, 94, 93), (74, 72, 67), (84, 78, 70), (85, 73, 47), (105, 83, 45), (128, 96, 48), (138, 101, 46), (133, 94, 36), (129, 93, 36), (148, 109, 54), (133, 104, 64), (130, 100, 57), (147, 112, 53), (161, 115, 44), (165, 113, 39), (167, 116, 41), (167, 115, 41), (163, 111, 37), (165, 116, 39), (163, 118, 42), (180, 138, 85), (157, 122, 78), (128, 102, 58), (97, 75, 43), (66, 50, 31), (69, 58, 43), (66, 56, 45), (89, 83, 76), (118, 113, 110), (122, 121, 120), (119, 122, 122), (114, 116, 116), (94, 96, 96), (99, 100, 97), (91, 91, 86), (58, 58, 47), (67, 58, 37), (108, 84, 49), (140, 105, 58), (138, 98, 44), (134, 95, 40), (127, 100, 57), (109, 95, 80), (47, 37, 17), (88, 74, 28), (153, 117, 48), (170, 118, 43), (168, 115, 40), (170, 118, 43), (169, 117, 42), (166, 116, 37), (164, 120, 39), (147, 107, 52), (129, 98, 59), (127, 108, 75), (100, 87, 70), (68, 67, 57), (78, 83, 72), (72, 75, 64), (83, 84, 74), (132, 130, 121), (146, 142, 132), (124, 118, 108), (105, 99, 90), (107, 102, 94), (115, 111, 103), (85, 83, 77), (63, 71, 69), (46, 47, 39), (79, 61, 36), (132, 98, 58), (141, 99, 48), (134, 93, 39), (131, 115, 90), (99, 96, 92), (42, 43, 38), (70, 64, 41), (143, 111, 56), (167, 117, 42), (165, 114, 36), (168, 116, 39), (171, 119, 49), (161, 113, 51), (140, 109, 51), (120, 94, 49), (130, 110, 77), (144, 131, 107), (116, 106, 93), (88, 87, 79), (91, 95, 88), (85, 88, 82), (77, 77, 69), (124, 118, 107), (163, 153, 140), (136, 124, 112), (102, 93, 81), (106, 98, 88), (100, 93, 84), (85, 81, 74), (54, 60, 58), (49, 53, 49), (57, 47, 32), (107, 83, 50), (138, 103, 51), (136, 97, 39), (170, 161, 144), (103, 105, 105), (54, 58, 59), (124, 121, 113), (153, 124, 82), (161, 113, 43), (163, 117, 41), (166, 122, 50), (165, 121, 66), (174, 135, 95), (113, 89, 59), (125, 105, 78), (157, 141, 121), (156, 143, 128), (121, 111, 101), (86, 80, 74), (82, 81, 77), (84, 85, 82), (80, 78, 73), (81, 71, 61), (138, 125, 112), (146, 135, 123), (113, 103, 93), (87, 79, 70), (83, 77, 69), (86, 82, 76), (71, 73, 67), (56, 57, 53), (40, 35, 27), (74, 59, 35), (133, 106, 59), (137, 103, 45), (180, 176, 163), (134, 139, 143), (94, 100, 105), (154, 154, 149), (174, 149, 112), (158, 116, 51), (156, 116, 47), (153, 118, 60), (207, 180, 146), (237, 214, 198), (207, 180, 166), (156, 131, 119), (174, 153, 145), (148, 131, 125), (125, 110, 107), (93, 85, 79), (86, 84, 79), (74, 74, 71), (59, 57, 53), (76, 68, 58), (137, 125, 112), (143, 133, 122), (133, 124, 114), (106, 98, 89), (86, 81, 74), (87, 85, 78), (84, 85, 78), (75, 76, 71), (50, 49, 43), (40, 30, 15), (95, 75, 44), (132, 103, 57), (183, 183, 175), (108, 116, 122), (142, 151, 158), (165, 169, 168), (177, 156, 122), (155, 112, 50), (159, 118, 51), (122, 89, 47), (213, 197, 179), (237, 224, 226), (220, 191, 188), (164, 135, 131), (183, 159, 155), (156, 137, 132), (125, 108, 104), (120, 111, 104), (78, 76, 69), (80, 80, 77), (45, 44, 40), (91, 85, 77), (175, 165, 154), (157, 147, 137), (155, 147, 138), (107, 100, 92), (87, 83, 77), (103, 102, 96), (88, 88, 79), (78, 79, 73), (59, 59, 59), (41, 36, 33), (59, 46, 31), (104, 81, 46), (188, 191, 189), (100, 108, 116), (135, 144, 153), (170, 175, 178), (187, 167, 136), (166, 120, 59), (173, 123, 55), (134, 93, 44), (117, 95, 80), (194, 182, 188), (199, 171, 164), (170, 142, 133), (185, 161, 151), (189, 171, 159), (134, 119, 106), (117, 107, 95), (102, 98, 89), (84, 84, 79), (38, 38, 34), (125, 121, 113), (210, 201, 192), (160, 152, 142), (146, 139, 130), (93, 89, 82), (83, 80, 75), (94, 93, 88), (104, 104, 94), (85, 87, 81), (73, 75, 78), (55, 53, 55), (62, 55, 48), (76, 56, 26), (189, 194, 194), (90, 96, 105), (127, 134, 144), (175, 180, 185), (174, 156, 133), (166, 123, 68), (178, 123, 53), (159, 109, 47), (97, 68, 44), (168, 154, 152), (168, 144, 126), (137, 114, 94), (186, 166, 148), (216, 202, 183), (160, 149, 129), (123, 113, 98), (120, 114, 105), (115, 114, 109), (50, 50, 47), (150, 147, 140), (194, 187, 178), (155, 149, 140), (123, 118, 111), (91, 88, 83), (84, 83, 79), (84, 84, 80), (95, 95, 85), (86, 87, 81), (84, 87, 89), (73, 73, 73), (79, 74, 64), (73, 55, 24), (189, 192, 193), (93, 95, 103), (152, 154, 163), (185, 188, 192), (119, 110, 98), (136, 106, 66), (173, 124, 58), (167, 116, 50), (103, 72, 39), (147, 132, 120), (145, 125, 103), (167, 149, 127), (189, 174, 155), (226, 216, 200), (180, 172, 157), (141, 131, 117), (126, 117, 107), (117, 114, 109), (71, 71, 68), (154, 152, 147), (186, 181, 174), (149, 144, 136), (114, 110, 104), (87, 85, 80), (80, 80, 76), (72, 73, 70), (80, 80, 72), (99, 100, 94), (100, 101, 99), (90, 88, 81), (97, 89, 69), (94, 73, 34), (194, 196, 196), (108, 107, 112), (168, 167, 172), (186, 186, 188), (105, 109, 109), (99, 89, 67), (156, 119, 62), (167, 122, 55), (100, 74, 34), (115, 106, 88), (138, 123, 103), (198, 185, 169), (190, 180, 169), (172, 165, 159), (145, 140, 140), (154, 143, 134), (146, 136, 125), (103, 100, 95), (71, 71, 70), (152, 152, 149), (179, 175, 170), (137, 133, 127), (130, 128, 122), (110, 109, 105), (85, 86, 83), (91, 93, 91), (95, 96, 90), (109, 110, 104), (115, 116, 111), (100, 96, 80), (97, 85, 53), (117, 95, 47), (197, 197, 197), (132, 129, 136), (172, 167, 174), (184, 178, 181), (130, 137, 142), (78, 83, 77), (140, 120, 88), (155, 125, 77), (115, 94, 52), (130, 120, 93), (143, 131, 116), (230, 221, 211), (242, 236, 230), (145, 138, 137), (135, 130, 130), (131, 121, 112), (121, 112, 101), (108, 104, 95), (95, 88, 75), (144, 134, 118), (168, 159, 146), (152, 147, 138), (112, 108, 101), (87, 85, 80), (71, 72, 68), (87, 88, 87), (105, 104, 99), (112, 109, 99), (120, 110, 93), (103, 86, 54), (121, 96, 48), (136, 104, 48), (203, 203, 204), (146, 146, 160), (168, 164, 178), (191, 182, 188), (168, 170, 172), (78, 86, 90), (126, 125, 126), (138, 126, 113), (138, 121, 82), (96, 80, 37), (154, 143, 133), (173, 163, 155), (162, 152, 141), (140, 132, 117), (113, 106, 88), (113, 106, 90), (101, 101, 92), (105, 101, 87), (112, 90, 58), (171, 143, 104), (156, 138, 109), (148, 141, 126), (135, 130, 118), (109, 105, 97), (78, 76, 72), (79, 79, 77), (94, 93, 94), (101, 91, 82), (107, 83, 55), (125, 88, 45), (151, 108, 55), (144, 104, 46), (214, 215, 215), (163, 166, 180), (164, 167, 184), (183, 184, 194), (176, 182, 186), (94, 102, 105), (96, 96, 102), (156, 149, 145), (148, 137, 111), (106, 93, 61), (129, 116, 105), (118, 105, 95), (114, 102, 89), (116, 105, 89), (102, 91, 73), (115, 110, 98), (86, 91, 88), (101, 103, 95), (144, 128, 102), (118, 96, 64), (68, 56, 32), (128, 120, 105), (133, 126, 115), (75, 69, 61), (60, 56, 51), (58, 56, 53), (71, 70, 65), (102, 93, 78), (116, 94, 64), (143, 112, 68), (150, 116, 64), (140, 110, 54), (212, 211, 205), (178, 184, 192), (167, 175, 189), (173, 181, 193), (176, 184, 188), (124, 131, 133), (86, 88, 96), (141, 139, 143), (153, 148, 141), (135, 128, 111), (104, 90, 80), (77, 64, 55), (134, 121, 108), (124, 111, 96), (129, 117, 100), (147, 143, 133), (85, 92, 93), (92, 96, 93), (150, 139, 120), (132, 117, 93), (117, 109, 92), (107, 99, 86), (75, 68, 58), (64, 59, 52), (44, 41, 39), (65, 62, 60), (86, 69, 40), (133, 105, 59), (155, 119, 62), (160, 120, 54), (154, 115, 45), (151, 111, 46), (199, 192, 180), (187, 189, 187), (171, 176, 181), (174, 179, 185), (177, 182, 184), (144, 149, 152), (86, 90, 99), (119, 121, 132), (122, 124, 130), (137, 136, 135), (144, 134, 126), (70, 59, 51), (129, 118, 108), (108, 97, 86), (145, 134, 123), (184, 176, 168), (116, 118, 118), (73, 75, 73), (131, 119, 103), (137, 124, 105), (134, 129, 118), (89, 86, 78), (51, 49, 44), (52, 51, 50), (47, 49, 52), (90, 90, 93), (121, 91, 60), (163, 118, 68), (171, 121, 64), (164, 113, 52), (158, 111, 50), (149, 107, 46), (165, 156, 146), (195, 193, 187), (179, 178, 175), (177, 173, 172), (181, 181, 180), (152, 157, 160), (99, 103, 111), (131, 135, 146), (171, 175, 185), (103, 105, 111), (93, 90, 87), (80, 77, 73), (93, 90, 86), (122, 118, 116), (178, 173, 173), (191, 182, 177), (150, 148, 148), (100, 100, 101), (89, 78, 66), (87, 77, 63), (60, 61, 57), (46, 52, 54), (38, 46, 51), (24, 33, 41), (46, 57, 69), (60, 71, 83), (108, 100, 75), (144, 125, 82), (144, 123, 76), (128, 109, 61), (127, 113, 69), (120, 105, 63), (117, 120, 124), (195, 200, 200), (177, 178, 176), (178, 169, 168), (181, 179, 179), (138, 144, 147), (83, 87, 91), (150, 153, 159), (245, 247, 250), (219, 222, 225), (133, 140, 144), (134, 141, 147), (149, 156, 164), (176, 182, 192), (190, 196, 208), (194, 192, 197), (168, 172, 181), (125, 133, 143), (110, 109, 109), (61, 62, 62), (35, 49, 58), (34, 54, 68), (49, 70, 87), (58, 81, 102), (61, 85, 110), (58, 84, 111), (69, 99, 122), (72, 101, 119), (78, 104, 120), (69, 96, 112), (59, 92, 112), (55, 90, 115), (79, 105, 133), (175, 197, 213), (174, 183, 192), (176, 172, 177), (177, 177, 182), (140, 146, 150), (109, 112, 113), (211, 211, 209), (253, 252, 247), (252, 253, 252), (208, 224, 232), (124, 143, 157), (114, 132, 149), (124, 141, 162), (116, 133, 156), (122, 133, 152), (104, 124, 148), (68, 93, 119), (68, 87, 104), (60, 82, 101), (52, 84, 111), (50, 84, 110), (51, 85, 115), (56, 93, 125), (56, 94, 131), (51, 91, 130), (43, 96, 135), (51, 104, 141), (59, 108, 142), (48, 97, 132), (43, 97, 137), (42, 95, 132), (41, 89, 135), (96, 137, 168), (144, 168, 188), (168, 174, 188), (178, 182, 192), (165, 170, 174), (165, 166, 164), (246, 245, 237), (253, 251, 241), (227, 231, 228), (110, 136, 153), (60, 88, 111), (53, 80, 105), (49, 76, 105), (49, 75, 107), (48, 72, 101), (45, 79, 115), (42, 81, 120), (46, 81, 113), (42, 82, 116), (38, 86, 125), (46, 90, 125), (46, 89, 126), (43, 87, 128), (42, 89, 132), (46, 93, 139), (46, 94, 137), (50, 96, 137), (55, 96, 135), (53, 94, 134), (51, 95, 139), (45, 90, 133), (29, 91, 141), (29, 87, 130), (59, 102, 134), (131, 153, 176), (166, 179, 191), (132, 136, 137), (194, 189, 181), (254, 250, 242), (241, 245, 245), (141, 159, 175), (61, 94, 127), (50, 84, 118), (50, 84, 119), (51, 85, 121), (49, 83, 120), (50, 84, 116), (47, 86, 117), (42, 84, 117), (39, 82, 115), (34, 79, 113), (35, 83, 120), (39, 86, 125), (38, 85, 125), (42, 89, 130), (45, 92, 134), (56, 103, 145), (62, 103, 142), (59, 101, 142), (56, 102, 146), (50, 99, 144), (46, 94, 140), (51, 103, 149), (48, 111, 162), (30, 94, 140), (34, 85, 124), (73, 106, 136), (128, 148, 167), (128, 136, 143), (215, 213, 209), (255, 253, 249), (187, 198, 205), (66, 93, 118), (54, 91, 128), (50, 88, 125), (52, 90, 127), (52, 90, 127), (46, 83, 121), (45, 82, 115), (43, 82, 113), (41, 81, 112), (36, 80, 113), (39, 83, 117), (40, 86, 123), (40, 89, 131), (43, 92, 134), (46, 95, 138), (59, 108, 150), (62, 110, 152), (64, 109, 147), (59, 108, 149), (54, 108, 154), (50, 105, 152), (70, 123, 167), (83, 137, 182), (52, 114, 165), (35, 99, 147), (31, 86, 130), (41, 83, 122), (66, 95, 126), (128, 145, 164), (224, 229, 234), (240, 245, 247), (124, 143, 153), (58, 92, 114), (49, 87, 123), (56, 94, 131), (54, 92, 129), (44, 82, 119), (44, 82, 119), (47, 83, 119), (46, 84, 119), (43, 83, 119), (43, 86, 123), (44, 88, 127), (44, 90, 131), (45, 97, 141), (54, 106, 150), (58, 110, 154), (54, 105, 150), (46, 97, 141), (43, 95, 140), (36, 91, 138), (51, 108, 158), (73, 130, 178), (85, 138, 182), (76, 125, 169), (50, 110, 162), (35, 98, 149), (29, 89, 138), (35, 86, 133), (44, 83, 126), (78, 106, 138), (202, 219, 233), (211, 228, 234), (97, 126, 140), (65, 104, 126), (54, 94, 129), (48, 87, 124), (58, 97, 133), (48, 87, 123), (40, 80, 116), (45, 82, 119), (47, 84, 122), (48, 87, 126), (47, 89, 130), (46, 89, 132), (51, 97, 140), (39, 92, 138), (39, 93, 139), (48, 102, 148), (47, 101, 147), (39, 93, 139), (28, 85, 133), (40, 101, 153), (67, 129, 182), (67, 126, 176), (46, 98, 142), (51, 96, 139), (50, 108, 161), (35, 97, 147), (32, 92, 143), (33, 88, 141), (41, 88, 138), (46, 84, 125), (104, 133, 159), (170, 197, 211), (64, 100, 119), (54, 97, 121), (52, 94, 128), (53, 95, 130), (61, 103, 139), (58, 100, 135), (54, 96, 131), (45, 83, 120), (42, 79, 118), (41, 80, 120), (46, 88, 130), (49, 92, 135), (46, 92, 136), (42, 95, 139), (40, 93, 138), (39, 92, 136), (37, 90, 135), (40, 93, 138), (44, 102, 151), (63, 125, 178), (47, 110, 164), (31, 90, 140), (15, 60, 103), (51, 93, 136), (68, 124, 177), (42, 100, 148), (31, 88, 137), (38, 91, 146), (37, 87, 139), (43, 89, 132), (42, 79, 113), (71, 107, 133), (49, 89, 114), (31, 77, 105), (27, 71, 105), (38, 82, 117), (49, 93, 128), (56, 100, 135), (58, 102, 137), (53, 92, 128), (56, 94, 131), (60, 99, 137), (57, 99, 139), (53, 97, 138), (50, 95, 137), (45, 94, 136), (39, 88, 131), (33, 83, 125), (42, 91, 133), (62, 112, 154), (79, 132, 179), (73, 131, 181), (56, 116, 168), (38, 97, 146), (13, 64, 108), (40, 85, 127), (61, 116, 168), (49, 102, 148), (35, 85, 132), (43, 91, 143), (39, 90, 139), (42, 92, 134), (44, 88, 125), (40, 81, 112), (42, 85, 115), (27, 72, 104), (23, 67, 102), (30, 74, 109), (27, 71, 106), (29, 73, 108), (36, 80, 115), (47, 86, 120), (56, 95, 128), (62, 101, 135), (66, 109, 144), (75, 119, 156), (69, 113, 152), (49, 95, 134), (43, 88, 127), (43, 88, 127), (60, 105, 144), (85, 130, 170), (109, 156, 197), (93, 145, 190), (60, 115, 164), (26, 82, 130), (29, 82, 126), (20, 64, 107), (54, 107, 160), (56, 105, 149), (45, 89, 132), (43, 86, 134), (40, 89, 134), (40, 92, 132), (40, 87, 123), (38, 81, 115), (36, 79, 114), (26, 69, 105), (22, 66, 101), (29, 73, 108), (25, 69, 104), (29, 73, 108), (19, 63, 98), (18, 58, 89), (32, 70, 100), (47, 87, 118), (61, 104, 137), (74, 119, 152), (66, 111, 145), (53, 96, 131), (52, 95, 130), (45, 87, 123), (67, 109, 145), (89, 131, 167), (105, 146, 182), (89, 135, 175), (48, 99, 145), (24, 77, 124), (34, 84, 129), (21, 67, 110)]\n"
     ]
    }
   ],
   "execution_count": 50
  },
  {
   "metadata": {},
   "cell_type": "markdown",
   "source": [
    "1. Dane zostały znormalizowane do przedziału [0, 1].\n",
    "2. Pierwszy wymiar tensora to kanał (RGB), drugi wymiar to wysokość, trzeci wymiar to szerokość. W przypadku obrazków RGB mamy 3 kanały (R, G, B), a wymiary obrazka to 32x32 piksele."
   ]
  },
  {
   "cell_type": "markdown",
   "metadata": {
    "id": "bTqhK07VKk25"
   },
   "source": [
    "#### Ćwiczenie\n",
    "Transformację `ToTensor()` można podać jako argument `transform` przy tworzeniu zbioru danych jako `Dataset`. Tak utworzony zbiór od razu będzie zawierał PyTorchowe tensory, a nie obrazki `PIL.Image`.\n",
    "\n",
    "Stwórz `tensor_cifar10` i `tensor_cifar10_val` zawierające tensory."
   ]
  },
  {
   "cell_type": "code",
   "metadata": {
    "id": "swgACrFqKk25",
    "ExecuteTime": {
     "end_time": "2025-04-07T10:20:50.826113Z",
     "start_time": "2025-04-07T10:20:49.516790Z"
    }
   },
   "source": [
    "tensor_cifar10 = datasets.CIFAR10(\n",
    "    root=\"data\",\n",
    "    train=True,\n",
    "    download=True,\n",
    "    transform=to_tensor\n",
    ")\n",
    "tensor_cifar10_val = datasets.CIFAR10(\n",
    "    root=\"data\",\n",
    "    train=False,\n",
    "    download=True,\n",
    "    transform=to_tensor\n",
    ")"
   ],
   "outputs": [],
   "execution_count": 51
  },
  {
   "cell_type": "markdown",
   "metadata": {
    "id": "XYHJjIdXKk26"
   },
   "source": [
    "#### Ćwiczenie\n",
    "Uruchom poniższą komórkę, aby zwizualizować tensor `img_t` z użyciem `plt.imshow()`. Funkcja ta oczekuje innej kolejności współrzędnych (H x W x C) niż zawarta w tensorze (C x H x W) - stąd konieczność użycia metody `permute()`.\n",
    "\n",
    "H - wysokość, W - szerokość, C - kanał (RGB)"
   ]
  },
  {
   "cell_type": "code",
   "metadata": {
    "id": "-chXyGGfKk26",
    "ExecuteTime": {
     "end_time": "2025-04-07T10:20:50.920663Z",
     "start_time": "2025-04-07T10:20:50.843019Z"
    }
   },
   "source": [
    "index = 100\n",
    "\n",
    "img_t, label = tensor_cifar10[index]\n",
    "plt.imshow(img_t.permute(1, 2, 0))\n",
    "plt.show()\n",
    "\n",
    "print(class_names[label])"
   ],
   "outputs": [
    {
     "data": {
      "text/plain": [
       "<Figure size 640x480 with 1 Axes>"
      ],
      "image/png": "[encoded data removed]"
     },
     "metadata": {},
     "output_type": "display_data"
    },
    {
     "name": "stdout",
     "output_type": "stream",
     "text": [
      "ship\n"
     ]
    }
   ],
   "execution_count": 52
  },
  {
   "cell_type": "markdown",
   "metadata": {
    "id": "m2Fu07g2Kk26"
   },
   "source": [
    "### Normalizacja danych\n",
    "\n",
    "Przed użyciem w sieci neuronowej, należy odpowiednio znormalizować dane - normalizacja ułatwia (przyspiesza i stabilizuje) trening modelu.\n",
    "\n",
    "Typowym sposobem normalizacji danych obrazkowych jest standaryzacja każdego z dostępnych kanałów - odjęcie policzonej dla niego średniej ze zbioru uczącego i podzielenie przez jego odchylenie standardowe."
   ]
  },
  {
   "cell_type": "markdown",
   "metadata": {
    "id": "U4Bn7ThnKk26"
   },
   "source": [
    "#### Ćwiczenie\n",
    "Uruchom kolejne komórki. Spróbuj wyjaśnić, co się w nich dzieje.\n",
    "\n",
    "- https://pytorch.org/docs/stable/generated/torch.stack.html (dla przypomnienia)\n",
    "- https://pytorch.org/docs/stable/tensors.html#torch.Tensor.view"
   ]
  },
  {
   "cell_type": "code",
   "metadata": {
    "id": "9d-Hzk8BKk26",
    "ExecuteTime": {
     "end_time": "2025-04-07T10:20:57.905205Z",
     "start_time": "2025-04-07T10:20:50.956361Z"
    }
   },
   "source": "imgs = torch.stack([img_t for img_t, _ in tensor_cifar10], dim=3) # zmienna imgs przechowuje wszystkie obrazki w tensorze, w nowych wymiarach, które pasują do funkcji plt.imshow",
   "outputs": [],
   "execution_count": 53
  },
  {
   "cell_type": "code",
   "metadata": {
    "id": "TqjCNQQZKk26",
    "ExecuteTime": {
     "end_time": "2025-04-07T10:20:57.916033Z",
     "start_time": "2025-04-07T10:20:57.912852Z"
    }
   },
   "source": "imgs.shape # wyświetlenie kształtu tensora",
   "outputs": [
    {
     "data": {
      "text/plain": [
       "torch.Size([3, 32, 32, 50000])"
      ]
     },
     "execution_count": 54,
     "metadata": {},
     "output_type": "execute_result"
    }
   ],
   "execution_count": 54
  },
  {
   "cell_type": "code",
   "metadata": {
    "id": "WsbxvNFNKk26",
    "ExecuteTime": {
     "end_time": "2025-04-07T10:20:58.321049Z",
     "start_time": "2025-04-07T10:20:57.961941Z"
    }
   },
   "source": [
    "per_channel_means = imgs.view(3, -1).mean(dim=1) # średnia wartość każdego kanału\n",
    "per_channel_std = imgs.view(3, -1).std(dim=1) # odchylenie standardowe każdego kanału"
   ],
   "outputs": [],
   "execution_count": 55
  },
  {
   "cell_type": "markdown",
   "metadata": {
    "id": "bJNTaMfbKk26"
   },
   "source": [
    "#### Ćwiczenie\n",
    "\n",
    "Do normalizacji danych w `torchvision.transforms` słuzy `transforms.Normalize`, której należy podać średnie i odchylenia standardowe dla każdego z kanałów. `transforms.Compose` pozwala natomiast łączyć transformacje w sekwencje - są one aplikowane do danych ładowanych do `Dataset` po kolei.\n",
    "\n",
    "`transforms.Compose` przyjmuje jako argument listę kolejnych transformacji.\n",
    "\n",
    "Załaduj zbiór danych do zmiennej `transformed_cifar10`, podając jako argument `transform` złożenie transformacji `ToTensor` i `Normalize`\n",
    "\n",
    "Sprawdź zawartość dowolnego tensora z `transformed_cifar10`.\n",
    "\n",
    "\n",
    "- https://pytorch.org/vision/stable/transforms.html#torchvision.transforms.Normalize\n",
    "- https://pytorch.org/vision/stable/transforms.html#torchvision.transforms.Compose\n"
   ]
  },
  {
   "cell_type": "code",
   "metadata": {
    "id": "IhEPq52LKk26",
    "ExecuteTime": {
     "end_time": "2025-04-07T10:20:59.670626Z",
     "start_time": "2025-04-07T10:20:58.346594Z"
    }
   },
   "source": [
    "transformed_cifar10 = datasets.CIFAR10(\n",
    "    root=\"data\",\n",
    "    train=True,\n",
    "    download=True,\n",
    "    transform=transforms.Compose([\n",
    "        to_tensor,\n",
    "        transforms.Normalize(per_channel_means, per_channel_std)\n",
    "    ]))\n",
    "transformed_cifar10_val = datasets.CIFAR10(\n",
    "    root=\"data\",\n",
    "    train=False,\n",
    "    download=True,\n",
    "    transform=transforms.Compose([\n",
    "        to_tensor,\n",
    "        transforms.Normalize(per_channel_means, per_channel_std)\n",
    "    ]))\n",
    "print(transformed_cifar10[0][0])"
   ],
   "outputs": [
    {
     "name": "stdout",
     "output_type": "stream",
     "text": [
      "tensor([[[-1.0526e+00, -1.3066e+00, -1.1955e+00,  ...,  5.1899e-01,\n",
      "           4.2375e-01,  3.6025e-01],\n",
      "         [-1.7352e+00, -1.9892e+00, -1.7035e+00,  ..., -3.6622e-02,\n",
      "          -1.0012e-01, -5.2496e-02],\n",
      "         [-1.5923e+00, -1.7352e+00, -1.2114e+00,  ..., -1.1600e-01,\n",
      "          -8.4246e-02, -2.5887e-01],\n",
      "         ...,\n",
      "         [ 1.3127e+00,  1.2016e+00,  1.1540e+00,  ...,  5.5074e-01,\n",
      "          -1.1002e+00, -1.1479e+00],\n",
      "         [ 8.6824e-01,  7.5711e-01,  9.6349e-01,  ...,  9.3174e-01,\n",
      "          -4.4936e-01, -6.7161e-01],\n",
      "         [ 8.2061e-01,  6.7774e-01,  8.5236e-01,  ...,  1.4397e+00,\n",
      "           4.0787e-01, -3.6622e-02]],\n",
      "\n",
      "        [[-9.8167e-01, -1.2394e+00, -1.2072e+00,  ...,  1.4575e-01,\n",
      "           3.3011e-02,  1.6905e-02],\n",
      "         [-1.6581e+00, -1.9802e+00, -1.8514e+00,  ..., -5.6291e-01,\n",
      "          -6.4344e-01, -5.7902e-01],\n",
      "         [-1.5937e+00, -1.8675e+00, -1.5454e+00,  ..., -6.2733e-01,\n",
      "          -6.2733e-01, -8.0450e-01],\n",
      "         ...,\n",
      "         [ 7.5778e-01,  4.8398e-01,  6.1283e-01,  ...,  1.6186e-01,\n",
      "          -1.4810e+00, -1.4326e+00],\n",
      "         [ 2.5849e-01,  7.9878e-04,  3.3902e-01,  ...,  4.0345e-01,\n",
      "          -9.8167e-01, -1.1266e+00],\n",
      "         [ 3.3902e-01,  9.7435e-02,  3.0681e-01,  ...,  9.8326e-01,\n",
      "          -7.9731e-02, -4.9849e-01]],\n",
      "\n",
      "        [[-7.6254e-01, -1.0324e+00, -1.0624e+00,  ..., -8.7930e-02,\n",
      "          -1.7788e-01, -1.6289e-01],\n",
      "         [-1.4072e+00, -1.7070e+00, -1.7070e+00,  ..., -8.8247e-01,\n",
      "          -9.5743e-01, -8.5249e-01],\n",
      "         [-1.3922e+00, -1.7070e+00, -1.5871e+00,  ..., -9.5743e-01,\n",
      "          -9.5743e-01, -1.0774e+00],\n",
      "         ...,\n",
      "         [-2.6783e-01, -1.1973e+00, -1.3172e+00,  ..., -6.5760e-01,\n",
      "          -1.6021e+00, -1.4072e+00],\n",
      "         [-2.6783e-01, -1.0774e+00, -1.2573e+00,  ..., -2.9781e-01,\n",
      "          -1.1973e+00, -1.1973e+00],\n",
      "         [ 3.2001e-02, -2.9781e-01, -4.0275e-01,  ...,  3.9179e-01,\n",
      "          -4.4772e-01, -6.2762e-01]]])\n"
     ]
    }
   ],
   "execution_count": 56
  },
  {
   "cell_type": "markdown",
   "metadata": {
    "id": "5Bb2MElIKk27"
   },
   "source": [
    "### Klasyfikacja binarna - ptak czy samolot?\n",
    "\n",
    "Po przygotowaniu zbioru danych przejdziemy teraz do zadania klasyfikacji binarnej.\n",
    "\n",
    "Wyobraź sobie, że jesteś leniwym miłośnikiem ptaków, i zamiast wyczekiwać długimi godzinami w lesie, chciałbyś/chciałabyś zautomatyzować proces robienia zdjęć ptakom. Niestety Twój system kamer jest dość wrażliwy i robi zdjęcia często także przelatującym samolotom. Postanawiasz wytrenować sieć neuronową, która wykryje zdjęcia samolotów i usunie je z Twojego systemu."
   ]
  },
  {
   "cell_type": "markdown",
   "metadata": {
    "id": "YYw4jaM_Kk27"
   },
   "source": [
    "#### Ćwiczenie\n",
    "\n",
    "Do opisanego problemu klasyfikacji binarnej możemy wykorzystać podzbiór `CIFAR-10`, wybierając odpowiednio dwie z 10 dostępnych klas. Przypisz im (z wykorzystaniem słownika `label_map`) nowe etykiety - 0 i 1.\n",
    "\n",
    "Uwaga:\n",
    "Stworzone w ten sposób `cifar2` i `cifar2_val` nie będą obiektami klasy `Dataset`, ale na potrzeby dzisiejszych zajęć w zupełności wystarczy nam lista - posiada ona implementacje `__len__` i `__getitem__`.  Wykorzystaj \"list comprehension\" do przefiltrowania `transformed_cifar10` i `transformed_cifar10_val`."
   ]
  },
  {
   "cell_type": "code",
   "metadata": {
    "id": "rAfU_-rDKk27",
    "ExecuteTime": {
     "end_time": "2025-04-07T10:21:09.412680Z",
     "start_time": "2025-04-07T10:20:59.688225Z"
    }
   },
   "source": [
    "label_map = {\n",
    "    0: 0, # airplane\n",
    "    2: 1, # bird\n",
    "}\n",
    "new_class_names  = [class_names[i] for i in label_map]\n",
    "\n",
    "cifar2 = [\n",
    "    (img, label_map[label]) for img, label in transformed_cifar10 if label in label_map\n",
    "]\n",
    "cifar2_val = [\n",
    "    (img, label_map[label]) for img, label in transformed_cifar10_val if label in label_map\n",
    "]"
   ],
   "outputs": [],
   "execution_count": 57
  },
  {
   "cell_type": "markdown",
   "metadata": {
    "id": "QzA3iMKTKk27"
   },
   "source": [
    "### Gęsta sieć neuronowa\n",
    "\n",
    "Zbudujemy teraz model sieci neuronowej, wykorzystując poznane poprzednio moduły z `torch.nn`.\n",
    "\n",
    "Na początek niech sieć składa się kolejno z:\n",
    "- warstwy liniowej\n",
    "- funkcji aktywacji\n",
    "- drugiej warstwy liniowej\n",
    "\n",
    "Do zbudowania sieci użyj `nn.Sequential` oraz odpowiednich klas reprezentujących warstwy liniowe i wybraną funkcję aktywacji."
   ]
  },
  {
   "cell_type": "markdown",
   "metadata": {
    "id": "-7r6xMIsKk27"
   },
   "source": [
    "#### Ćwiczenie\n",
    "\n",
    "Zbuduj sieć neuronową, zgodnie z powyższą (i poniższą) instrukcją. Przypisz model do zmiennej `model`.\n",
    "\n",
    "1. Ile wejść powinna mieć taka sieć? Hint: wymiary / rozmiary tensora.\n",
    "2. Ile wyjść powinna mieć taka sieć? Czy jedno wystarczy?\n",
    "3. Niech liczba wyjść z pierwszej i wejść do drugiej warstwy liniowej wynosi 512 (arbitralna wartość)."
   ]
  },
  {
   "cell_type": "code",
   "metadata": {
    "id": "Y918vxBjKk27",
    "ExecuteTime": {
     "end_time": "2025-04-07T10:21:09.450927Z",
     "start_time": "2025-04-07T10:21:09.438895Z"
    }
   },
   "source": [
    "n_in = 3072\n",
    "n_hidden = 512\n",
    "n_out = 2\n",
    "\n",
    "model = nn.Sequential(\n",
    "    nn.Linear(n_in, n_hidden),\n",
    "    nn.Tanh(),\n",
    "    nn.Linear(n_hidden, n_out)\n",
    ")"
   ],
   "outputs": [],
   "execution_count": 58
  },
  {
   "cell_type": "markdown",
   "metadata": {
    "id": "BbLjUyRGKk27"
   },
   "source": [
    "### Wyjście z klasyfikatora - softmax\n",
    "\n",
    "Wyjścia z powyżej zdefiniowanego modelu to tzw. logity - \"surowe\" wartości liczbowe - tyle wartości, ile wyjść. Im wyższa wartość danego logitu, tym model \"bardziej przewiduje\" klasę przypisaną do danego wyjścia.\n",
    "\n",
    "Typowo w zagadnieniu klasyfikacji logity normalizuje się z użyciem funkcji **softmax** (przy jednym wyjściu \"wystarczy\" sigmoid). Wartości otrzymane w wyniku normalizacji można interpretować jako prawdopodobieństwa / pewności (ang. confidence scores) modelu co do predykcji klasy obiektu."
   ]
  },
  {
   "cell_type": "markdown",
   "metadata": {
    "id": "822COdKqKk28"
   },
   "source": [
    "#### Ćwiczenie\n",
    "\n",
    "Sprawdź działanie funkcji softmax zdefiniowanej poniżej oraz zaimplementowanej jako `nn.Softmax` na przykładowym tensorze."
   ]
  },
  {
   "cell_type": "code",
   "metadata": {
    "id": "4vrUxlgkKk28",
    "ExecuteTime": {
     "end_time": "2025-04-07T10:21:09.484436Z",
     "start_time": "2025-04-07T10:21:09.481826Z"
    }
   },
   "source": [
    "def softmax(x):\n",
    "    return torch.exp(x) / torch.exp(x).sum()"
   ],
   "outputs": [],
   "execution_count": 59
  },
  {
   "cell_type": "code",
   "metadata": {
    "id": "rhG3o8PpKk28",
    "ExecuteTime": {
     "end_time": "2025-04-07T10:21:09.532898Z",
     "start_time": "2025-04-07T10:21:09.528894Z"
    }
   },
   "source": [
    "x = torch.tensor([1.0, 2.0, 3.0])\n",
    "softmax(x)"
   ],
   "outputs": [
    {
     "data": {
      "text/plain": [
       "tensor([0.0900, 0.2447, 0.6652])"
      ]
     },
     "execution_count": 60,
     "metadata": {},
     "output_type": "execute_result"
    }
   ],
   "execution_count": 60
  },
  {
   "cell_type": "code",
   "metadata": {
    "id": "Yx0OgvQgKk28",
    "ExecuteTime": {
     "end_time": "2025-04-07T10:21:09.582942Z",
     "start_time": "2025-04-07T10:21:09.577182Z"
    }
   },
   "source": [
    "softmax = nn.Softmax(dim=1)\n",
    "x = torch.tensor([[1.0, 2.0, 3.0], [1.0, 2.0, 3.0]])\n",
    "softmax(x)"
   ],
   "outputs": [
    {
     "data": {
      "text/plain": [
       "tensor([[0.0900, 0.2447, 0.6652],\n",
       "        [0.0900, 0.2447, 0.6652]])"
      ]
     },
     "execution_count": 61,
     "metadata": {},
     "output_type": "execute_result"
    }
   ],
   "execution_count": 61
  },
  {
   "cell_type": "markdown",
   "metadata": {
    "id": "Q1LxAzaxKk2_"
   },
   "source": [
    "#### Ćwiczenie\n",
    "Rozbuduj poprzednio zbudowany model o `nn.Softmax` podając `dim=1` (dlaczego akurat 1? czym jest dim=0?)\n",
    "\n",
    "- https://pytorch.org/docs/stable/generated/torch.nn.Softmax.html"
   ]
  },
  {
   "cell_type": "code",
   "metadata": {
    "id": "8e3hCLsLKk2_",
    "ExecuteTime": {
     "end_time": "2025-04-07T10:21:09.659165Z",
     "start_time": "2025-04-07T10:21:09.639681Z"
    }
   },
   "source": [
    "model = nn.Sequential(\n",
    "    nn.Linear(n_in, n_hidden),\n",
    "    nn.Tanh(),\n",
    "    nn.Linear(n_hidden, n_out),\n",
    "    nn.Softmax(dim=1) #dim określa, wzdłuż którego wymiaru ma być normalizowane wyjście 0 to wiersze, 1 to kolumny\n",
    ")"
   ],
   "outputs": [],
   "execution_count": 62
  },
  {
   "cell_type": "markdown",
   "metadata": {
    "id": "nkB-Vw66Kk2_"
   },
   "source": [
    "#### Ćwiczenie\n",
    "Przepuść przez model wybrany przykład ze zbioru `cifar2`. Czy model dobrze rozpoznał klasę? Jeśli tak - czy mamy gotowy model?"
   ]
  },
  {
   "cell_type": "code",
   "metadata": {
    "id": "K3jmIGY6Kk3A",
    "ExecuteTime": {
     "end_time": "2025-04-07T10:21:09.792025Z",
     "start_time": "2025-04-07T10:21:09.701621Z"
    }
   },
   "source": [
    "def denormalize(img_t, mean, std):\n",
    "    img_t = img_t * std[:, None, None] + mean[:, None, None]\n",
    "    return img_t\n",
    "\n",
    "# wizualizacja obrazka\n",
    "index = 0\n",
    "\n",
    "img, _ = cifar2[index]\n",
    "\n",
    "# denormalizacja\n",
    "img = denormalize(img, per_channel_means, per_channel_std)\n",
    "# zmiana wymiarów\n",
    "img = img.view(3, 32, 32)\n",
    "# zmiana kolejności wymiarów\n",
    "plt.imshow(img.permute(1, 2, 0))\n",
    "plt.show()\n",
    "\n",
    "# \"wypłaszczenie\" obrazka + dodatkowy wymiar \"1\" (unsqueeze - patrz poprzednie zajęcia)\n",
    "img_batch = img.view(-1).unsqueeze(0)\n",
    "\n",
    "# przepuszczenie przez model\n",
    "out = model(img_batch)\n",
    "# prawdopodobieństwa klas\n",
    "print(out)\n",
    "# klasa predykcji\n",
    "print(new_class_names[torch.argmax(out, dim=1).item()])"
   ],
   "outputs": [
    {
     "data": {
      "text/plain": [
       "<Figure size 640x480 with 1 Axes>"
      ],
      "image/png": "[encoded data removed]"
     },
     "metadata": {},
     "output_type": "display_data"
    },
    {
     "name": "stdout",
     "output_type": "stream",
     "text": [
      "tensor([[0.4904, 0.5096]], grad_fn=<SoftmaxBackward0>)\n",
      "bird\n"
     ]
    }
   ],
   "execution_count": 63
  },
  {
   "metadata": {},
   "cell_type": "markdown",
   "source": "Pomimo, iż model poprawnie rozpoznał klasę, to nie jest gotowy, gdyż nadal nie została wyszkolony. W tej chwili model \"losowo\" przypisuje prawdopodobieństwa klasom - nie nauczył się jeszcze niczego."
  },
  {
   "cell_type": "markdown",
   "metadata": {
    "id": "nKDZAnUvKk3A"
   },
   "source": [
    "### Funkcja straty w klasyfikacji\n",
    "\n",
    "W przypadku zadania regresji jako funkcji straty używaliśmy błędu średniokwadratowego (MSE, `nn.MSELoss`).\n",
    "\n",
    "W klasyfikacji zależy nam na tym, aby model nauczył się przypisywać wysokie prawdopodobieństwa prawidłowym klasom.\n",
    "\n",
    "Funkcja straty typowo stosowana w klasyfikacji nazywa się **entropią krzyżową** (ang. cross-entropy loss, CE) lub **negative log-likelihood** (NLL) - używana nazwa zależy od kontekstu (matematycznego), ale oba pojęcia dotyczą tego samego \"wzoru\".\n",
    "\n",
    "W `torch.nn` jest kilka alternatywnych implementacji realizujących tę funkcję straty, np.:\n",
    "- `nn.NLLLoss` - przyjmuje na wejście zlogarytmowane prawdopodobieństwa klas - wymaga `nn.LogSoftmax` zamiast `nn.Softmax`\n",
    "- `nn.CrossEntropyLoss` - przyjmuje na wejście logity - model bez softmaxu\n",
    "\n",
    "czyli: `nn.CrossEntropyLoss` = `nn.LogSoftmax` + `nn.NLLLoss`\n",
    "\n",
    "różnica: w przypadku `nn.CrossEntropyLoss` wyjścia nie będą znormalizowane - ale często wystarczą nam logity (jako predykcję modelu bierzemy klasę, dla której wartość logitu jest największa)."
   ]
  },
  {
   "cell_type": "markdown",
   "metadata": {
    "id": "mbgjNbDiKk3A"
   },
   "source": [
    "#### Ćwiczenie\n",
    "\n",
    "Dla modelu z poprzedniego ćwiczenia oblicz wartość funkcji straty dla wybranego przykładu z `cifar2`. Uruchom komórkę kilka razy - co się dzieje i dlaczego?"
   ]
  },
  {
   "cell_type": "code",
   "metadata": {
    "id": "zVgFZYXUKk3A",
    "ExecuteTime": {
     "end_time": "2025-04-07T10:21:09.862395Z",
     "start_time": "2025-04-07T10:21:09.838722Z"
    }
   },
   "source": [
    "model = nn.Sequential(\n",
    "    nn.Linear(n_in, n_hidden),\n",
    "    nn.Tanh(),\n",
    "    nn.Linear(n_hidden, n_out),\n",
    "    nn.LogSoftmax(dim=1)\n",
    ")\n",
    "\n",
    "loss = nn.NLLLoss()\n",
    "\n",
    "index = 0\n",
    "img, label = cifar2[index]\n",
    "out = model(img.view(-1).unsqueeze(0))\n",
    "loss(out, torch.tensor([label]))"
   ],
   "outputs": [
    {
     "data": {
      "text/plain": [
       "tensor(0.8721, grad_fn=<NllLossBackward0>)"
      ]
     },
     "execution_count": 64,
     "metadata": {},
     "output_type": "execute_result"
    }
   ],
   "execution_count": 64
  },
  {
   "metadata": {},
   "cell_type": "markdown",
   "source": "Średnia wartość funkcji straty maleje z każdym uruchomieniem komórki, ponieważ model \"uczy się\" i przypisuje coraz wyższe prawdopodobieństwa klasie 0 (samolot) i coraz niższe klasie 1 (ptak). Wartość funkcji straty jest tym mniejsza, im bardziej model jest pewny swojej predykcji."
  },
  {
   "cell_type": "markdown",
   "metadata": {
    "id": "OTPL-5OUKk3A"
   },
   "source": [
    "### Stochastic Gradient Descent (SGD)\n",
    "\n",
    "W poprzednich ćwiczeniach zbiór danych był mały (łącznie 11 obserwacji, w tym 9 w zbiorze uczącym) i w każdej iteracji treningu przepuszczaliśmy przez model cały dostępny zbiór.\n",
    "\n",
    "W zbiorze `CIFAR` mamy łącznie po 6 tysięcy obrazków dla każdej z klas (5000 w zbiorze uczącym, 1000 w walidacyjnym). Nie będziemy w każdej iteracji treningu przepuszczać przez model całego zbioru danych (nie chodzi tylko o ograniczoną pamięć - model mógłby mieć wtedy problem z nauczeniem się).\n",
    "\n",
    "Będziemy podawać dane w tzw. \"batchach\" (liczba przykładów podawanych jednocześnie, czyli batch size, jest hiperparametrem modelu).\n",
    "\n",
    "Taki wariant algorytmu najszybszego spadku nazywa się:\n",
    "- SGD - Stochastic Gradient Descent - gdy podajemy jeden przykład w każdej iteracji\n",
    "- BGD - (Mini-)Batch Gradient Descent - gdy podajemy N przykładów (np. kilka / kilkanaście / kilkadziesiąt) w każdej iteracji\n",
    "\n",
    "Uwaga:\n",
    "W praktyce (i w literaturze) nazwa \"SGD\" używana jest tez w kontekście BGD."
   ]
  },
  {
   "cell_type": "markdown",
   "metadata": {
    "id": "Tz34pr82Kk3A"
   },
   "source": [
    "#### Ćwiczenie\n",
    "\n",
    "Poniższa komórka realizuje algorytm SGD - w każdej iteracji treningu puszczamy przez model jeden obrazek (druga pętla for).\n",
    "\n",
    "Uruchom poniższą komórkę i obserwuj funkcję straty po każdej epoce treningu."
   ]
  },
  {
   "cell_type": "code",
   "metadata": {
    "id": "oICJNO51Kk3A",
    "ExecuteTime": {
     "end_time": "2025-04-07T10:21:50.033069Z",
     "start_time": "2025-04-07T10:21:09.902450Z"
    }
   },
   "source": [
    "model = nn.Sequential(\n",
    "    nn.Linear(3072, 512),\n",
    "    nn.Tanh(),\n",
    "    nn.Linear(512, 2),\n",
    "    nn.LogSoftmax(dim=1)\n",
    ")\n",
    "model = model.to(device)\n",
    "\n",
    "learning_rate = 1e-2\n",
    "optimizer = optim.SGD(model.parameters(), lr=learning_rate)\n",
    "\n",
    "loss_fn = nn.NLLLoss()\n",
    "n_epochs = 5\n",
    "\n",
    "for epoch in range(n_epochs):\n",
    "    for img, label in cifar2:\n",
    "        img, label = img.to(device), torch.tensor([label]).to(device)\n",
    "        out = model(img.view(-1).unsqueeze(0))\n",
    "        loss = loss_fn(out, label)\n",
    "        optimizer.zero_grad()\n",
    "        loss.backward()\n",
    "        optimizer.step()\n",
    "    print(\"Epoch: %d, Loss: %f\" % (epoch, float(loss)))"
   ],
   "outputs": [
    {
     "name": "stdout",
     "output_type": "stream",
     "text": [
      "Epoch: 0, Loss: 3.946596\n",
      "Epoch: 1, Loss: 7.285779\n",
      "Epoch: 2, Loss: 10.745263\n",
      "Epoch: 3, Loss: 7.350355\n",
      "Epoch: 4, Loss: 7.462465\n"
     ]
    }
   ],
   "execution_count": 65
  },
  {
   "cell_type": "markdown",
   "metadata": {
    "id": "pcSDjKc3Kk3B"
   },
   "source": [
    "### (Mini-)Batch Gradient Descent\n",
    "\n",
    "Jak już było wspomniane, zwykle w kolejnych iteracjach treningu podajemy modelowi \"trochę\" danych - tzw. batch.\n",
    "\n",
    "Do ładowania kolejnych batchy danych w czasie treningu lub walidacji służy w PyTorchu klasa `DataLoader` z `torch.utils.data`.\n",
    "\n",
    "Konstruktor tej klasy przyjmuje jako pierwszy argument `Dataset`. Inne interesujące argumenty to `batch_size` oraz `shuffle`.\n",
    "\n",
    "- https://pytorch.org/docs/stable/data.html\n",
    "\n",
    "Uwaga:  \n",
    "Zwykle w każdej epoce treningu \"przetasowuje się\" zbiór danych. W walidacji kolejność batchy nie ma znaczenia."
   ]
  },
  {
   "cell_type": "markdown",
   "metadata": {
    "id": "BsGzQrAlKk3B"
   },
   "source": [
    "#### Ćwiczenie\n",
    "\n",
    "Stwórz `train_loader` dla zbioru uczącego i `val_loader` dla walidacyjnego, podając `batch_size` równy 64 i pamiętając o przetasowaniu danych (dla zbioru uczącego)."
   ]
  },
  {
   "cell_type": "code",
   "metadata": {
    "id": "xXeuXkIKKk3B",
    "ExecuteTime": {
     "end_time": "2025-04-07T10:21:50.142344Z",
     "start_time": "2025-04-07T10:21:50.139863Z"
    }
   },
   "source": [
    "train_loader = torch.utils.data.DataLoader(cifar2, batch_size=64, shuffle=True)\n",
    "val_loader = torch.utils.data.DataLoader(cifar2_val, batch_size=64, shuffle=False)"
   ],
   "outputs": [],
   "execution_count": 66
  },
  {
   "cell_type": "markdown",
   "metadata": {
    "id": "rEdIXu47Kk3B"
   },
   "source": [
    "#### Ćwiczenie\n",
    "Zmodyfikuj poprzednią pętlę treningową, aby zrealizować algortym batch gradient descent z wykorzystaniem stworzonego dataloadera."
   ]
  },
  {
   "cell_type": "code",
   "metadata": {
    "id": "FemivuDzKk3B",
    "ExecuteTime": {
     "end_time": "2025-04-07T10:22:10.059441Z",
     "start_time": "2025-04-07T10:21:50.188256Z"
    }
   },
   "source": [
    "for epoch in range(100):\n",
    "    for imgs, labels in train_loader:\n",
    "        imgs, labels = imgs.to(device), labels.to(device)\n",
    "        out = model(imgs.view(imgs.size(0), -1))\n",
    "        loss = loss_fn(out, labels)\n",
    "        optimizer.zero_grad()\n",
    "        loss.backward()\n",
    "        optimizer.step()\n",
    "    print(\"Epoch: %d, Loss: %f\" % (epoch, float(loss)))"
   ],
   "outputs": [
    {
     "name": "stdout",
     "output_type": "stream",
     "text": [
      "Epoch: 0, Loss: 0.253826\n",
      "Epoch: 1, Loss: 0.510870\n",
      "Epoch: 2, Loss: 0.455318\n",
      "Epoch: 3, Loss: 0.961084\n",
      "Epoch: 4, Loss: 0.628001\n",
      "Epoch: 5, Loss: 0.291561\n",
      "Epoch: 6, Loss: 0.340911\n",
      "Epoch: 7, Loss: 0.425909\n",
      "Epoch: 8, Loss: 0.310401\n",
      "Epoch: 9, Loss: 0.064040\n",
      "Epoch: 10, Loss: 0.140921\n",
      "Epoch: 11, Loss: 0.281540\n",
      "Epoch: 12, Loss: 0.438152\n",
      "Epoch: 13, Loss: 0.205079\n",
      "Epoch: 14, Loss: 0.169241\n",
      "Epoch: 15, Loss: 0.155117\n",
      "Epoch: 16, Loss: 0.259439\n",
      "Epoch: 17, Loss: 0.290401\n",
      "Epoch: 18, Loss: 0.232030\n",
      "Epoch: 19, Loss: 0.051596\n",
      "Epoch: 20, Loss: 0.166873\n",
      "Epoch: 21, Loss: 0.320082\n",
      "Epoch: 22, Loss: 0.259555\n",
      "Epoch: 23, Loss: 0.086012\n",
      "Epoch: 24, Loss: 0.331287\n",
      "Epoch: 25, Loss: 0.201062\n",
      "Epoch: 26, Loss: 0.303270\n",
      "Epoch: 27, Loss: 0.259796\n",
      "Epoch: 28, Loss: 0.256035\n",
      "Epoch: 29, Loss: 0.251988\n",
      "Epoch: 30, Loss: 0.223635\n",
      "Epoch: 31, Loss: 0.070547\n",
      "Epoch: 32, Loss: 0.133724\n",
      "Epoch: 33, Loss: 0.116117\n",
      "Epoch: 34, Loss: 0.338093\n",
      "Epoch: 35, Loss: 0.173283\n",
      "Epoch: 36, Loss: 0.213130\n",
      "Epoch: 37, Loss: 0.299348\n",
      "Epoch: 38, Loss: 0.197475\n",
      "Epoch: 39, Loss: 0.288369\n",
      "Epoch: 40, Loss: 0.063012\n",
      "Epoch: 41, Loss: 0.208358\n",
      "Epoch: 42, Loss: 0.181179\n",
      "Epoch: 43, Loss: 0.380546\n",
      "Epoch: 44, Loss: 0.174461\n",
      "Epoch: 45, Loss: 0.147223\n",
      "Epoch: 46, Loss: 0.182155\n",
      "Epoch: 47, Loss: 0.068345\n",
      "Epoch: 48, Loss: 0.211236\n",
      "Epoch: 49, Loss: 0.231004\n",
      "Epoch: 50, Loss: 0.112896\n",
      "Epoch: 51, Loss: 0.104055\n",
      "Epoch: 52, Loss: 0.095859\n",
      "Epoch: 53, Loss: 0.128543\n",
      "Epoch: 54, Loss: 0.109657\n",
      "Epoch: 55, Loss: 0.172613\n",
      "Epoch: 56, Loss: 0.083542\n",
      "Epoch: 57, Loss: 0.123305\n",
      "Epoch: 58, Loss: 0.070518\n",
      "Epoch: 59, Loss: 0.339914\n",
      "Epoch: 60, Loss: 0.087909\n",
      "Epoch: 61, Loss: 0.216249\n",
      "Epoch: 62, Loss: 0.073659\n",
      "Epoch: 63, Loss: 0.115653\n",
      "Epoch: 64, Loss: 0.195807\n",
      "Epoch: 65, Loss: 0.122845\n",
      "Epoch: 66, Loss: 0.053537\n",
      "Epoch: 67, Loss: 0.046817\n",
      "Epoch: 68, Loss: 0.155587\n",
      "Epoch: 69, Loss: 0.016233\n",
      "Epoch: 70, Loss: 0.076182\n",
      "Epoch: 71, Loss: 0.185377\n",
      "Epoch: 72, Loss: 0.062810\n",
      "Epoch: 73, Loss: 0.094244\n",
      "Epoch: 74, Loss: 0.123250\n",
      "Epoch: 75, Loss: 0.207109\n",
      "Epoch: 76, Loss: 0.117974\n",
      "Epoch: 77, Loss: 0.067993\n",
      "Epoch: 78, Loss: 0.070276\n",
      "Epoch: 79, Loss: 0.205768\n",
      "Epoch: 80, Loss: 0.114576\n",
      "Epoch: 81, Loss: 0.068218\n",
      "Epoch: 82, Loss: 0.228392\n",
      "Epoch: 83, Loss: 0.091452\n",
      "Epoch: 84, Loss: 0.055500\n",
      "Epoch: 85, Loss: 0.063862\n",
      "Epoch: 86, Loss: 0.055377\n",
      "Epoch: 87, Loss: 0.109928\n",
      "Epoch: 88, Loss: 0.077092\n",
      "Epoch: 89, Loss: 0.027055\n",
      "Epoch: 90, Loss: 0.105511\n",
      "Epoch: 91, Loss: 0.165124\n",
      "Epoch: 92, Loss: 0.090931\n",
      "Epoch: 93, Loss: 0.169977\n",
      "Epoch: 94, Loss: 0.281612\n",
      "Epoch: 95, Loss: 0.182836\n",
      "Epoch: 96, Loss: 0.063868\n",
      "Epoch: 97, Loss: 0.217875\n",
      "Epoch: 98, Loss: 0.142629\n",
      "Epoch: 99, Loss: 0.032419\n"
     ]
    }
   ],
   "execution_count": 67
  },
  {
   "cell_type": "markdown",
   "metadata": {
    "id": "4vBobu--Kk3B"
   },
   "source": [
    "### Walidacja modelu\n",
    "\n",
    "Na koniec sprawdźmy, jaką dokładność predykcji uzyskamy na zbiorze walidacjnym dla naszej sieci gęstej."
   ]
  },
  {
   "cell_type": "markdown",
   "metadata": {
    "id": "vq6ht8LWKk3B"
   },
   "source": [
    "#### Ćwiczenie\n",
    "\n",
    "1. Uruchom poniższą komórkę, aby sprawdzić dokładność na zbiorze waldiacyjnym.\n",
    "2. Sprawdź, jaki wynik uzyskasz, podmieniając `val_loader` na `train_loader` w pętli for.\n",
    "3. Skomentuj uzyskane wyniki."
   ]
  },
  {
   "cell_type": "code",
   "metadata": {
    "id": "lVI_hdPYKk3D",
    "ExecuteTime": {
     "end_time": "2025-04-07T10:22:10.132850Z",
     "start_time": "2025-04-07T10:22:10.107338Z"
    }
   },
   "source": [
    "correct = 0\n",
    "total = 0\n",
    "\n",
    "\n",
    "with torch.no_grad():\n",
    "    for imgs, labels in val_loader:\n",
    "        imgs, labels = imgs.to(device), labels.to(device)\n",
    "        batch_size = imgs.shape[0]\n",
    "        outputs = model(imgs.view(batch_size, -1))\n",
    "        _, predicted = torch.max(outputs, dim=1)\n",
    "        total += labels.shape[0]\n",
    "        correct += int((predicted == labels).sum())\n",
    "\n",
    "print(\"Accuracy: %f\" % (correct / total))"
   ],
   "outputs": [
    {
     "name": "stdout",
     "output_type": "stream",
     "text": [
      "Accuracy: 0.764000\n"
     ]
    }
   ],
   "execution_count": 68
  },
  {
   "cell_type": "markdown",
   "metadata": {
    "id": "KsDlwbOIKk3E"
   },
   "source": [
    "### Podsumowanie\n",
    "\n",
    "- poznaliśmy możliwości PyTorcha w zakresie ładowania danych (`Dataset`, `DataLoader`) oraz obróbki danych obrazkowych (`torchvision.transforms`)\n",
    "- poruszyliśmy takie zagadnienia jak funkcja straty w klasyfikacji (entropia krzyżowa, NLL) czy softmax\n",
    "- wytrenowaliśmy binarny klasyfikator na podzbiorze zbioru `CIFAR-10` (`torchvision.datasets`) z użyciem algorytmu SGD\n",
    "\n",
    "Sieci gęste nie sprawdzają się jednak w praktyce w przetwarzaniu obrazów - wkrótce poznamy tzw. sieci splotowe (ang. convolutional neural networks, CNN), które zrewolucjonizowały dziedzinę głębokiego uczenia maszynowego w 2012 roku."
   ]
  },
  {
   "metadata": {},
   "cell_type": "markdown",
   "source": [
    "### Wnioski\n",
    "W ramach dodatkowego wyzwania, spróbowałem zrealizować ćwiczenie na własnej maszynie. Znacznie spowolniło to możliwości trenowania modelu, gdyż nie posiadam aż tak potężnego GPU."
   ]
  },
  {
   "metadata": {
    "ExecuteTime": {
     "end_time": "2025-04-07T10:22:10.183996Z",
     "start_time": "2025-04-07T10:22:10.182223Z"
    }
   },
   "cell_type": "code",
   "source": "",
   "outputs": [],
   "execution_count": null
  }
 ],
 "metadata": {
  "kernelspec": {
   "display_name": "Python 3",
   "language": "python",
   "name": "python3"
  },
  "language_info": {
   "codemirror_mode": {
    "name": "ipython",
    "version": 3
   },
   "file_extension": ".py",
   "mimetype": "text/x-python",
   "name": "python",
   "nbconvert_exporter": "python",
   "pygments_lexer": "ipython3",
   "version": "3.6.9"
  },
  "colab": {
   "provenance": []
  }
 },
 "nbformat": 4,
 "nbformat_minor": 0
}
