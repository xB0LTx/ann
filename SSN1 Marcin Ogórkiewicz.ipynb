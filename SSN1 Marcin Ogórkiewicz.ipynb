{
 "cells": [
  {
   "cell_type": "markdown",
   "metadata": {
    "id": "6d92Ekdr7USQ"
   },
   "source": [
    "## Sztuczne sieci neuronowe - laboratorium 1"
   ]
  },
  {
   "cell_type": "markdown",
   "metadata": {},
   "source": [
    "## Marcin Ogórkiewicz"
   ]
  },
  {
   "cell_type": "markdown",
   "metadata": {
    "id": "uAzkqr6l7USU"
   },
   "source": [
    "### NumPy - powtórzenie\n",
    "Podstawową strukturą w NumPy jest tablica wielowymiarowa: n-dimensional array (ndarray):\n",
    "- przechowuje elementy określonego typu\n",
    "- typowo elementy zajmują sąsiednie bloki w pamięci\n",
    "\n",
    "Dzięki temu jest ona szybsza niż standardowa lista w"
   ]
  },
  {
   "cell_type": "code",
   "metadata": {
    "id": "dDojhiPN7USV",
    "ExecuteTime": {
     "end_time": "2025-03-10T09:06:55.683100Z",
     "start_time": "2025-03-10T09:06:55.348703Z"
    }
   },
   "source": [
    "import numpy as np\n",
    "import pandas as pd"
   ],
   "outputs": [],
   "execution_count": 155
  },
  {
   "cell_type": "markdown",
   "metadata": {
    "id": "AK2l5wg77USW"
   },
   "source": [
    "#### Ćwiczenie\n",
    "\n",
    "Niech `a = np.array([0, 1, 2, 3])`.\n",
    "\n",
    "Jaki będzie rezultat poniższych wywołań?\n",
    "- `type(a)`\n",
    "- `a.dtype`\n",
    "- `a.shape`\n",
    "- `a.ndim`"
   ]
  },
  {
   "cell_type": "code",
   "metadata": {
    "id": "5CNt7Ys47USX",
    "ExecuteTime": {
     "end_time": "2025-03-10T09:06:55.697082Z",
     "start_time": "2025-03-10T09:06:55.692569Z"
    }
   },
   "source": [
    "a = np.array([0, 1, 2, 3])"
   ],
   "outputs": [],
   "execution_count": 156
  },
  {
   "cell_type": "code",
   "metadata": {
    "ExecuteTime": {
     "end_time": "2025-03-10T09:06:55.721063Z",
     "start_time": "2025-03-10T09:06:55.714814Z"
    }
   },
   "source": [
    "print(type(a)) # Wyświetla typ zmiennej a\n",
    "print(a.dtype) # Wyświetla typ danych w tablicy\n",
    "print(a.shape) # Wyświetla kształt tablicy\n",
    "print(a.ndim) # Wyświetla ilość wymiarów tablicy"
   ],
   "outputs": [
    {
     "name": "stdout",
     "output_type": "stream",
     "text": [
      "<class 'numpy.ndarray'>\n",
      "int64\n",
      "(4,)\n",
      "1\n"
     ]
    }
   ],
   "execution_count": 157
  },
  {
   "cell_type": "markdown",
   "metadata": {
    "id": "ItmAYicW7USX"
   },
   "source": [
    "### Ćwiczenie\n",
    "\n",
    "Niech `a = np.array([1, 2, 3, 4])` i `b = np.array([2, 3, 4, 5])`.\n",
    "\n",
    "Jaki będzie rezultat poniższych wywołań?\n",
    "\n",
    "- `a + b`\n",
    "- `a * b`\n",
    "- `a ** b`"
   ]
  },
  {
   "cell_type": "code",
   "metadata": {
    "id": "_kGWemFt7USX",
    "ExecuteTime": {
     "end_time": "2025-03-10T09:06:55.758466Z",
     "start_time": "2025-03-10T09:06:55.754424Z"
    }
   },
   "source": [
    "a = np.array([1, 2, 3, 4])\n",
    "b = np.array([2, 3, 4, 5])"
   ],
   "outputs": [],
   "execution_count": 158
  },
  {
   "cell_type": "code",
   "metadata": {
    "ExecuteTime": {
     "end_time": "2025-03-10T09:06:55.772196Z",
     "start_time": "2025-03-10T09:06:55.767249Z"
    }
   },
   "source": [
    "print(a + b) # Dodawanie\n",
    "print(a * b) # Mnożenie elementów\n",
    "print(a ** b) # Potęgowanie elementów"
   ],
   "outputs": [
    {
     "name": "stdout",
     "output_type": "stream",
     "text": [
      "[3 5 7 9]\n",
      "[ 2  6 12 20]\n",
      "[   1    8   81 1024]\n"
     ]
    }
   ],
   "execution_count": 159
  },
  {
   "cell_type": "markdown",
   "metadata": {
    "id": "wA0cBTbM7USX"
   },
   "source": [
    "### Ćwiczenie\n",
    "\n",
    "Niech `a = np.array([[0, 1, 2, 3], [10, 11, 12, 13]])`\n",
    "\n",
    "Jaki będzie rezultat poniższych wywołań?\n",
    "- `a.shape`\n",
    "- `a.size`\n",
    "- `a.ndim`\n",
    "- `a[1]`"
   ]
  },
  {
   "cell_type": "code",
   "metadata": {
    "id": "ho8Mjrks7USX",
    "ExecuteTime": {
     "end_time": "2025-03-10T09:06:55.801695Z",
     "start_time": "2025-03-10T09:06:55.796422Z"
    }
   },
   "source": [
    "a = np.array([[0, 1, 2, 3], [10, 11, 12, 13]])"
   ],
   "outputs": [],
   "execution_count": 160
  },
  {
   "cell_type": "code",
   "metadata": {
    "ExecuteTime": {
     "end_time": "2025-03-10T09:06:55.828986Z",
     "start_time": "2025-03-10T09:06:55.819936Z"
    }
   },
   "source": [
    "print(a.shape) # Wyświetla kształt tablicy\n",
    "print(a.size) # Wyświetla ilość elementów w tablicy 2x4\n",
    "print(a.ndim) # Wyświetla ilość wymiarów tablicy\n",
    "a[1] # Wyświetla drugi wiersz tablicy"
   ],
   "outputs": [
    {
     "name": "stdout",
     "output_type": "stream",
     "text": [
      "(2, 4)\n",
      "8\n",
      "2\n"
     ]
    },
    {
     "data": {
      "text/plain": [
       "array([10, 11, 12, 13])"
      ]
     },
     "execution_count": 161,
     "metadata": {},
     "output_type": "execute_result"
    }
   ],
   "execution_count": 161
  },
  {
   "cell_type": "markdown",
   "metadata": {
    "id": "rfMDTT1N7USX"
   },
   "source": [
    "### Ćwiczenie\n",
    "\n",
    "Niech `a = np.array([10,11,12,13,14])`\n",
    "\n",
    "Jaki będzie rezultat poniższych wywołań?\n",
    "- `a[1:3]`\n",
    "- `a[1:-2]`\n",
    "- `a[:3]`\n",
    "- `a[-2:]`\n",
    "- `a[::2]`"
   ]
  },
  {
   "cell_type": "code",
   "metadata": {
    "id": "msoK_BLL7USY",
    "ExecuteTime": {
     "end_time": "2025-03-10T09:06:55.855509Z",
     "start_time": "2025-03-10T09:06:55.851170Z"
    }
   },
   "source": [
    "a = np.array([10,11,12,13,14])"
   ],
   "outputs": [],
   "execution_count": 162
  },
  {
   "cell_type": "code",
   "metadata": {
    "ExecuteTime": {
     "end_time": "2025-03-10T09:06:55.895334Z",
     "start_time": "2025-03-10T09:06:55.888700Z"
    }
   },
   "source": [
    "print(a[1:3]) # Wyświetla elementy od 1 do 3\n",
    "print(a[1:-2]) # Wyświetla elementy od 1 do przedostatniego\n",
    "print(a[:3]) # Wyświetla elementy od początku do 3\n",
    "print(a[-2:]) # Wyświetla dwa ostatnie elementy\n",
    "print(a[::2]) # Wyświetla co drugi element"
   ],
   "outputs": [
    {
     "name": "stdout",
     "output_type": "stream",
     "text": [
      "[11 12]\n",
      "[11 12]\n",
      "[10 11 12]\n",
      "[13 14]\n",
      "[10 12 14]\n"
     ]
    }
   ],
   "execution_count": 163
  },
  {
   "cell_type": "markdown",
   "metadata": {
    "id": "Usz-kt7P7USY"
   },
   "source": [
    "### Ćwiczenie\n",
    "\n",
    "Niech `a = np.array([0, 1, 2, 3, 4])`.\n",
    "Jaka (i dlaczego) będzie zawartość `a` po wywołaniu kolejno:\n",
    "- `b = a[2:4]`\n",
    "- `b[0] = 10` ?"
   ]
  },
  {
   "cell_type": "code",
   "metadata": {
    "id": "nRT8YT2v7USY",
    "ExecuteTime": {
     "end_time": "2025-03-10T09:06:55.923307Z",
     "start_time": "2025-03-10T09:06:55.919579Z"
    }
   },
   "source": [
    "a = np.array([0, 1, 2, 3, 4])"
   ],
   "outputs": [],
   "execution_count": 164
  },
  {
   "cell_type": "code",
   "metadata": {
    "ExecuteTime": {
     "end_time": "2025-03-10T09:06:55.945965Z",
     "start_time": "2025-03-10T09:06:55.939233Z"
    }
   },
   "source": [
    "b=a[2:4] # Przypisuje do b elementy od 2 do 4\n",
    "b[0] = 10 # Zmienia pierwszy element b na 10\n",
    "b # Wyświetla tablicę b"
   ],
   "outputs": [
    {
     "data": {
      "text/plain": [
       "array([10,  3])"
      ]
     },
     "execution_count": 165,
     "metadata": {},
     "output_type": "execute_result"
    }
   ],
   "execution_count": 165
  },
  {
   "cell_type": "markdown",
   "metadata": {
    "id": "-y1n_tQt7USY"
   },
   "source": [
    "### Ćwiczenie\n",
    "\n",
    "Jaka będzie zawartość `b` po wywołaniu kolejno:\n",
    "- `a = np.arange(0, 80, 10)`\n",
    "- `mask = np.array([0, 1, 1, 0, 0, 1, 0, 0], dtype=bool)`\n",
    "- `b = a[mask]` ?\n"
   ]
  },
  {
   "cell_type": "code",
   "metadata": {
    "id": "XiyEWZ__7USY",
    "ExecuteTime": {
     "end_time": "2025-03-10T09:06:56.000361Z",
     "start_time": "2025-03-10T09:06:55.991745Z"
    }
   },
   "source": [
    "a=np.arange(0,80,10) # Tworzy tablicę od 0 do 80 co 10\n",
    "mask=np.array([0,1,1,0,0,1,0,0], dtype=bool) # Tworzy maskę\n",
    "b=a[mask] # Przypisuje do b elementy z tablicy a, które są zaznaczone w masce\n",
    "a,b # Wyświetla tablicę a i b"
   ],
   "outputs": [
    {
     "data": {
      "text/plain": [
       "(array([ 0, 10, 20, 30, 40, 50, 60, 70]), array([10, 20, 50]))"
      ]
     },
     "execution_count": 166,
     "metadata": {},
     "output_type": "execute_result"
    }
   ],
   "execution_count": 166
  },
  {
   "cell_type": "markdown",
   "metadata": {
    "id": "NVsiwQ9C7USY"
   },
   "source": [
    "### Ćwiczenie\n",
    "\n",
    "Niech `a = np.array([[1, 2, 3], [4, 5, 6]])`\n",
    "\n",
    "Jaki będzie rezultat poniższych wywołań:\n",
    "- `a.sum()`\n",
    "- `a.sum(axis=0)`\n",
    "- `a.sum(axis=-1)`\n",
    "- `np.max(a, axis=1)`\n",
    "- `np.argmax(a, axis=1)`\n",
    "- `np.mean(a, axis=0)`"
   ]
  },
  {
   "cell_type": "code",
   "metadata": {
    "id": "T8PXaPJ27USY",
    "ExecuteTime": {
     "end_time": "2025-03-10T09:06:56.049272Z",
     "start_time": "2025-03-10T09:06:56.044203Z"
    }
   },
   "source": [
    "a = np.array([[1, 2, 3], [4, 5, 6]])"
   ],
   "outputs": [],
   "execution_count": 167
  },
  {
   "cell_type": "code",
   "metadata": {
    "ExecuteTime": {
     "end_time": "2025-03-10T09:06:56.063942Z",
     "start_time": "2025-03-10T09:06:56.056219Z"
    }
   },
   "source": [
    "print(a.sum()) # Sumuje wszystkie elementy tablicy\n",
    "print(a.sum(axis=0)) # Sumuje elementy w kolumnach\n",
    "print(a.sum(axis=-1)) # Sumuje elementy w wierszach\n",
    "print(np.max(a, axis=1)) # Znajduje maksimum w wierszach\n",
    "print(np.argmax(a, axis=1)) # Znajduje indeks maksimum w wierszach\n",
    "print(np.mean(a, axis=0)) # Oblicza średnią w kolumnach"
   ],
   "outputs": [
    {
     "name": "stdout",
     "output_type": "stream",
     "text": [
      "21\n",
      "[5 7 9]\n",
      "[ 6 15]\n",
      "[3 6]\n",
      "[2 2]\n",
      "[2.5 3.5 4.5]\n"
     ]
    }
   ],
   "execution_count": 168
  },
  {
   "cell_type": "markdown",
   "metadata": {
    "id": "TwFlA4JL7USZ"
   },
   "source": [
    "### Ćwiczenie\n",
    "\n",
    "Jaka (i dlaczego) będzie zawartość zmiennej `b` po wywołaniu kolejno poniższych komend?\n",
    "\n",
    "- `a = np.arange(-2, 2) ** 2`\n",
    "- `mask = a % 2 == 0`\n",
    "- `b = np.where(mask)`"
   ]
  },
  {
   "cell_type": "code",
   "metadata": {
    "id": "y5WH9bnF7USZ",
    "ExecuteTime": {
     "end_time": "2025-03-10T09:06:56.092603Z",
     "start_time": "2025-03-10T09:06:56.084324Z"
    }
   },
   "source": [
    "a = np.arange(-2,2) ** 2 # Tworzy tablicę od -2 do 2 i podnosi do kwadratu\n",
    "mask = a % 2 == 0 # Tworzy maskę, która zaznacza elementy parzyste\n",
    "b = np.where(mask) # Zwraca indeksy elementów spełniających warunek\n",
    "a,b"
   ],
   "outputs": [
    {
     "data": {
      "text/plain": [
       "(array([4, 1, 0, 1]), (array([0, 2]),))"
      ]
     },
     "execution_count": 169,
     "metadata": {},
     "output_type": "execute_result"
    }
   ],
   "execution_count": 169
  },
  {
   "cell_type": "markdown",
   "metadata": {
    "id": "eIqvCyJZ7USZ"
   },
   "source": [
    "### Ćwiczenie\n",
    "\n",
    "Niech `a = np.array([1, 0, 0, 1])` i `b = np.array([1, 2, 3, 4])`\n",
    "\n",
    "Jaki będzie rezultat wywołania `np.dot(a, b)`?"
   ]
  },
  {
   "cell_type": "code",
   "metadata": {
    "id": "CTqhSG-h7USZ",
    "ExecuteTime": {
     "end_time": "2025-03-10T09:06:56.127843Z",
     "start_time": "2025-03-10T09:06:56.123331Z"
    }
   },
   "source": [
    "a = np.array([1, 0, 0, 1])\n",
    "b = np.array([1, 2, 3, 4])"
   ],
   "outputs": [],
   "execution_count": 170
  },
  {
   "cell_type": "code",
   "metadata": {
    "ExecuteTime": {
     "end_time": "2025-03-10T09:06:56.152840Z",
     "start_time": "2025-03-10T09:06:56.145069Z"
    }
   },
   "source": [
    "np.dot(a, b) # Iloczyn skalarny dwóch wektorów"
   ],
   "outputs": [
    {
     "data": {
      "text/plain": [
       "np.int64(5)"
      ]
     },
     "execution_count": 171,
     "metadata": {},
     "output_type": "execute_result"
    }
   ],
   "execution_count": 171
  },
  {
   "cell_type": "markdown",
   "metadata": {
    "id": "dGoNVqh47USZ"
   },
   "source": [
    "### Ćwiczenie\n",
    "\n",
    "Niech `a = np.array([[1, 0], [0, 1]])` i `b = np.array([[1, 2], [3, 4]])`\n",
    "\n",
    "Jaki będzie rezultat wywołania `np.dot(a, b)`?"
   ]
  },
  {
   "cell_type": "code",
   "metadata": {
    "id": "5Jidt60N7USZ",
    "ExecuteTime": {
     "end_time": "2025-03-10T09:06:56.174088Z",
     "start_time": "2025-03-10T09:06:56.169707Z"
    }
   },
   "source": [
    "a = np.array([[1, 0], [0, 1]])\n",
    "b = np.array([[1, 2], [3, 4]])"
   ],
   "outputs": [],
   "execution_count": 172
  },
  {
   "cell_type": "code",
   "metadata": {
    "ExecuteTime": {
     "end_time": "2025-03-10T09:06:56.198275Z",
     "start_time": "2025-03-10T09:06:56.190922Z"
    }
   },
   "source": [
    "np.dot(a, b) # Iloczyn macierzy"
   ],
   "outputs": [
    {
     "data": {
      "text/plain": [
       "array([[1, 2],\n",
       "       [3, 4]])"
      ]
     },
     "execution_count": 173,
     "metadata": {},
     "output_type": "execute_result"
    }
   ],
   "execution_count": 173
  },
  {
   "cell_type": "markdown",
   "metadata": {
    "id": "9ubqdLoe7USZ"
   },
   "source": [
    "### Ćwiczenie\n",
    "Niech `a = np.array([[1, 2, 3], [4, 5, 6]])`.\n",
    "\n",
    "Jaki będzie rezultat wywołania `np.transpose(a)` (lub `a.T`)?"
   ]
  },
  {
   "cell_type": "code",
   "metadata": {
    "id": "nBZSgnza7USZ",
    "ExecuteTime": {
     "end_time": "2025-03-10T09:06:56.266360Z",
     "start_time": "2025-03-10T09:06:56.259884Z"
    }
   },
   "source": [
    "a = np.array([[1, 2, 3], [4, 5, 6]])\n",
    "np.transpose(a) # Transponuje macierz"
   ],
   "outputs": [
    {
     "data": {
      "text/plain": [
       "array([[1, 4],\n",
       "       [2, 5],\n",
       "       [3, 6]])"
      ]
     },
     "execution_count": 174,
     "metadata": {},
     "output_type": "execute_result"
    }
   ],
   "execution_count": 174
  },
  {
   "cell_type": "markdown",
   "metadata": {},
   "source": [
    "### PyTorch - podstawy\n",
    "https://pytorch.org/tutorials/beginner/basics/tensorqs_tutorial.html"
   ]
  },
  {
   "cell_type": "code",
   "metadata": {
    "id": "0jePf17S7USZ",
    "ExecuteTime": {
     "end_time": "2025-03-10T09:06:56.391591Z",
     "start_time": "2025-03-10T09:06:56.387063Z"
    }
   },
   "source": [
    "import torch"
   ],
   "outputs": [],
   "execution_count": 175
  },
  {
   "cell_type": "markdown",
   "metadata": {
    "id": "UqEfAfEp7USZ"
   },
   "source": [
    "W PyTorch podstawową strukturą, analogiczną do `np.array` jest tensor (`torch.Tensor`). Można go zaincjalizować na kilka sposobów, np.:\n",
    "\n",
    "1) z listy list\n",
    "```\n",
    "data = [[1, 2],[3, 4]]\n",
    "x_data = torch.tensor(data)\n",
    "```\n",
    "\n",
    "2) z np.array\n",
    "```\n",
    "np_array = np.array(data)\n",
    "x_np = torch.from_numpy(np_array)\n",
    "\n",
    "# w drugą stronę: x_np.numpy() pozwala na konwersję Tensora do numpy\n",
    "# uwaga: np array oraz tensor współdzielą pamięć i zmiany w jednym obiekcie spowodują zmiany w drugim\n",
    "```\n",
    "\n",
    "3) z użyciem wbudowanych funkcji (np. rand, zeros, ones)\n",
    "\n",
    "```\n",
    "shape = (2, 3,)\n",
    "rand_tensor = torch.rand(shape)\n",
    "```\n",
    "\n",
    "Tensor posiada takie atrybuty, jak:\n",
    "- shape - krotka (tuple) opisująca jego wymiary\n",
    "- dtype - przechowyway typ danych\n",
    "- device - domyślnie `cpu`\n",
    "\n",
    "Jeśli posiadamy kartę graficzną, możemy sprawdzić, czy jest \"wykryta\" przez PyTorch: `torch.cuda.is_available()`.\n",
    "Jeśli tak, możemy dla przyspieszenia obliczeń przenieść tensor na GPU: `tensor = tensor.to('cuda')`"
   ]
  },
  {
   "cell_type": "markdown",
   "metadata": {
    "id": "LCVmuZzy7USZ"
   },
   "source": [
    "### Ćwiczenie\n",
    "\n",
    "Stwórz tensor rozmiaru `(3, 2)` zainicjalizowany liczbami losowymi. Sprawdź typ stworzonego obiektu, typ przechowywanych danych oraz atrybuty `shape` i `device`. Jeśli posiadasz kartę graficzną obsługującą CUDA, spróbuj przenieść na nią stworzony tensor."
   ]
  },
  {
   "cell_type": "code",
   "metadata": {
    "ExecuteTime": {
     "end_time": "2025-03-10T09:06:56.559455Z",
     "start_time": "2025-03-10T09:06:56.551510Z"
    }
   },
   "source": [
    "torch.cuda.is_available() # Sprawdza czy dostępna jest karta graficzna"
   ],
   "outputs": [
    {
     "data": {
      "text/plain": [
       "False"
      ]
     },
     "execution_count": 176,
     "metadata": {},
     "output_type": "execute_result"
    }
   ],
   "execution_count": 176
  },
  {
   "cell_type": "code",
   "metadata": {
    "id": "OUNYikJ77USa",
    "ExecuteTime": {
     "end_time": "2025-03-10T09:06:56.683876Z",
     "start_time": "2025-03-10T09:06:56.676133Z"
    }
   },
   "source": [
    "a = torch.rand(3,2)\n",
    "a"
   ],
   "outputs": [
    {
     "data": {
      "text/plain": [
       "tensor([[0.6850, 0.5178],\n",
       "        [0.1024, 0.4627],\n",
       "        [0.0047, 0.1151]])"
      ]
     },
     "execution_count": 177,
     "metadata": {},
     "output_type": "execute_result"
    }
   ],
   "execution_count": 177
  },
  {
   "cell_type": "markdown",
   "metadata": {
    "id": "ityZayj_7USa"
   },
   "source": [
    "### Ćwiczenie\n",
    "Niech `points = torch.tensor([[4.0, 1.0], [5.0, 3.0], [2.0, 1.0]])`\n",
    "\n",
    "Wypróbuj, korzystając z tego tensora, jak dla tensorów działa indeksowanie i slicing.\n",
    "\n",
    "Co zwróci `points[0, 1]`? Na wyniku tej operacji wykonaj metodę `.item()`."
   ]
  },
  {
   "cell_type": "code",
   "metadata": {
    "id": "biJC_GUN7USa",
    "ExecuteTime": {
     "end_time": "2025-03-10T09:06:56.769569Z",
     "start_time": "2025-03-10T09:06:56.762552Z"
    }
   },
   "source": [
    "points = torch.tensor([[4.0, 1.0], [5.0, 3.0], [2.0, 1.0]])"
   ],
   "outputs": [],
   "execution_count": 178
  },
  {
   "cell_type": "code",
   "metadata": {
    "ExecuteTime": {
     "end_time": "2025-03-10T09:06:56.859140Z",
     "start_time": "2025-03-10T09:06:56.850963Z"
    }
   },
   "source": [
    "points[0,1] # Wyświetla element z pierwszego wiersza i drugiej kolumny jako tensor"
   ],
   "outputs": [
    {
     "data": {
      "text/plain": [
       "tensor(1.)"
      ]
     },
     "execution_count": 179,
     "metadata": {},
     "output_type": "execute_result"
    }
   ],
   "execution_count": 179
  },
  {
   "cell_type": "code",
   "metadata": {
    "ExecuteTime": {
     "end_time": "2025-03-10T09:06:56.927705Z",
     "start_time": "2025-03-10T09:06:56.921376Z"
    }
   },
   "source": [
    "points[0,1].item() # Wyświetla wartość elementu z pierwszego wiersza i drugiej kolumny"
   ],
   "outputs": [
    {
     "data": {
      "text/plain": [
       "1.0"
      ]
     },
     "execution_count": 180,
     "metadata": {},
     "output_type": "execute_result"
    }
   ],
   "execution_count": 180
  },
  {
   "cell_type": "markdown",
   "metadata": {
    "id": "5v0cr_xm7USa"
   },
   "source": [
    "### Ćwiczenie\n",
    "\n",
    "`torch.cat` i `torch.stack` to funkcje pozwalające łączyć ze sobą tensory. Spróbuj zaobserwować różnicę pomiędzy tymi funkcjami korzystając z kodu poniżej."
   ]
  },
  {
   "cell_type": "code",
   "metadata": {
    "id": "I5OGZapc7USa",
    "ExecuteTime": {
     "end_time": "2025-03-10T09:06:56.991918Z",
     "start_time": "2025-03-10T09:06:56.984467Z"
    }
   },
   "source": [
    "t = torch.ones((4, 2))\n",
    "t"
   ],
   "outputs": [
    {
     "data": {
      "text/plain": [
       "tensor([[1., 1.],\n",
       "        [1., 1.],\n",
       "        [1., 1.],\n",
       "        [1., 1.]])"
      ]
     },
     "execution_count": 181,
     "metadata": {},
     "output_type": "execute_result"
    }
   ],
   "execution_count": 181
  },
  {
   "cell_type": "code",
   "metadata": {
    "ExecuteTime": {
     "end_time": "2025-03-10T09:06:57.076502Z",
     "start_time": "2025-03-10T09:06:57.066675Z"
    }
   },
   "source": [
    "t1 = torch.cat([t, t, t], dim=0)\n",
    "t1"
   ],
   "outputs": [
    {
     "data": {
      "text/plain": [
       "tensor([[1., 1.],\n",
       "        [1., 1.],\n",
       "        [1., 1.],\n",
       "        [1., 1.],\n",
       "        [1., 1.],\n",
       "        [1., 1.],\n",
       "        [1., 1.],\n",
       "        [1., 1.],\n",
       "        [1., 1.],\n",
       "        [1., 1.],\n",
       "        [1., 1.],\n",
       "        [1., 1.]])"
      ]
     },
     "execution_count": 182,
     "metadata": {},
     "output_type": "execute_result"
    }
   ],
   "execution_count": 182
  },
  {
   "cell_type": "markdown",
   "metadata": {},
   "source": [
    "Cat działa podobnie jak w Linux, dokonuje konkatenacji dwóch tensorów."
   ]
  },
  {
   "cell_type": "code",
   "metadata": {
    "ExecuteTime": {
     "end_time": "2025-03-10T09:06:57.208149Z",
     "start_time": "2025-03-10T09:06:57.199401Z"
    }
   },
   "source": [
    "t2 = torch.stack([t, t, t], dim=0)\n",
    "t2"
   ],
   "outputs": [
    {
     "data": {
      "text/plain": [
       "tensor([[[1., 1.],\n",
       "         [1., 1.],\n",
       "         [1., 1.],\n",
       "         [1., 1.]],\n",
       "\n",
       "        [[1., 1.],\n",
       "         [1., 1.],\n",
       "         [1., 1.],\n",
       "         [1., 1.]],\n",
       "\n",
       "        [[1., 1.],\n",
       "         [1., 1.],\n",
       "         [1., 1.],\n",
       "         [1., 1.]]])"
      ]
     },
     "execution_count": 183,
     "metadata": {},
     "output_type": "execute_result"
    }
   ],
   "execution_count": 183
  },
  {
   "cell_type": "markdown",
   "metadata": {},
   "source": [
    "Spowodowało to połączenie tensorów wzdłuż nowego wymiaru. Efektem jest tensor o rozmiarze 3x4x2\n",
    "\n",
    "## Wnioski"
   ]
  },
  {
   "cell_type": "markdown",
   "metadata": {},
   "source": [
    "Laboratorium pozwoliło mi na przypomnienie sobie podstawowych operacji na tablicach w NumPy oraz nauczenie się podstawowych operacji na tensorach w PyTorch. Pozwoliło mi to na przypomnienie sobie jak działa indeksowanie i slicing w tych bibliotekach oraz jakie są różnice między funkcjami `torch.cat` i `torch.stack`."
   ]
  },
  {
   "cell_type": "code",
   "metadata": {
    "ExecuteTime": {
     "end_time": "2025-03-10T09:06:57.298983Z",
     "start_time": "2025-03-10T09:06:57.295445Z"
    }
   },
   "source": [],
   "outputs": [],
   "execution_count": null
  }
 ],
 "metadata": {
  "colab": {
   "provenance": []
  },
  "kernelspec": {
   "display_name": "Python 3 (ipykernel)",
   "language": "python",
   "name": "python3"
  },
  "language_info": {
   "codemirror_mode": {
    "name": "ipython",
    "version": 3
   },
   "file_extension": ".py",
   "mimetype": "text/x-python",
   "name": "python",
   "nbconvert_exporter": "python",
   "pygments_lexer": "ipython3",
   "version": "3.13.2"
  }
 },
 "nbformat": 4,
 "nbformat_minor": 4
}
