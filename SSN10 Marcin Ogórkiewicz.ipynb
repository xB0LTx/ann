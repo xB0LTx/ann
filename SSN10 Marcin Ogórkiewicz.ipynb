{
 "cells": [
  {
   "cell_type": "markdown",
   "metadata": {
    "id": "bFzTIwdtpUFQ"
   },
   "source": [
    "## Sztuczne sieci neuronowe - laboratorium 13"
   ],
   "id": "bFzTIwdtpUFQ"
  },
  {
   "cell_type": "code",
   "metadata": {
    "id": "jVit-jIQpUFS",
    "ExecuteTime": {
     "end_time": "2025-06-02T10:14:55.947647Z",
     "start_time": "2025-06-02T10:14:55.942679Z"
    }
   },
   "source": [
    "import matplotlib.pyplot as plt\n",
    "import numpy as np\n",
    "\n",
    "import torch\n",
    "import torchvision\n",
    "import torchvision.transforms as transforms\n",
    "\n",
    "import torch.nn as nn\n",
    "import torch.nn.functional as F\n",
    "import torch.optim as optim"
   ],
   "id": "jVit-jIQpUFS",
   "outputs": [],
   "execution_count": 17
  },
  {
   "cell_type": "markdown",
   "metadata": {
    "id": "2Cfn4fBQpUFT"
   },
   "source": [
    "### Przygotowanie danych"
   ],
   "id": "2Cfn4fBQpUFT"
  },
  {
   "cell_type": "code",
   "metadata": {
    "id": "829nzsiHpUFT",
    "ExecuteTime": {
     "end_time": "2025-06-02T10:14:56.607807Z",
     "start_time": "2025-06-02T10:14:56.601694Z"
    }
   },
   "source": [
    "transform = transforms.Compose(\n",
    "    [transforms.ToTensor(),\n",
    "    transforms.Normalize((0.5,), (0.5,))])"
   ],
   "id": "829nzsiHpUFT",
   "outputs": [],
   "execution_count": 18
  },
  {
   "cell_type": "code",
   "metadata": {
    "id": "f3cTrcoGpUFU",
    "ExecuteTime": {
     "end_time": "2025-06-02T10:14:57.015780Z",
     "start_time": "2025-06-02T10:14:56.952139Z"
    }
   },
   "source": [
    "train_dataset = torchvision.datasets.FashionMNIST('./data',\n",
    "    download=True,\n",
    "    train=True,\n",
    "    transform=transform)\n",
    "\n",
    "val_dataset = torchvision.datasets.FashionMNIST('./data',\n",
    "    download=True,\n",
    "    train=False,\n",
    "    transform=transform)"
   ],
   "id": "f3cTrcoGpUFU",
   "outputs": [],
   "execution_count": 19
  },
  {
   "cell_type": "code",
   "metadata": {
    "id": "JUDrX2THpUFU",
    "ExecuteTime": {
     "end_time": "2025-06-02T10:14:57.136873Z",
     "start_time": "2025-06-02T10:14:57.133794Z"
    }
   },
   "source": [
    "train_loader = torch.utils.data.DataLoader(train_dataset, batch_size=4, shuffle=True, num_workers=2)\n",
    "val_loader = torch.utils.data.DataLoader(val_dataset, batch_size=4, shuffle=False, num_workers=2)"
   ],
   "id": "JUDrX2THpUFU",
   "outputs": [],
   "execution_count": 20
  },
  {
   "cell_type": "markdown",
   "metadata": {
    "id": "AJezes2npUFU"
   },
   "source": [
    "#### Ćwiczenie\n",
    "Uruchom poniższą funkcję, aby zwizualizować przykładowe obrazki ze zbioru FashionMNIST."
   ],
   "id": "AJezes2npUFU"
  },
  {
   "cell_type": "code",
   "metadata": {
    "id": "uc7Ke5HBpUFV",
    "ExecuteTime": {
     "end_time": "2025-06-02T10:14:57.787758Z",
     "start_time": "2025-06-02T10:14:57.782152Z"
    }
   },
   "source": [
    "def matplotlib_imshow(img, one_channel=False):\n",
    "    if one_channel:\n",
    "        img = img.mean(dim=0)\n",
    "    img = img / 2 + 0.5     # unnormalize\n",
    "    npimg = img.numpy()\n",
    "    if one_channel:\n",
    "        plt.imshow(npimg, cmap=\"Greys\")\n",
    "    else:\n",
    "        plt.imshow(np.transpose(npimg, (1, 2, 0)))"
   ],
   "id": "uc7Ke5HBpUFV",
   "outputs": [],
   "execution_count": 21
  },
  {
   "cell_type": "code",
   "metadata": {
    "id": "06mcVOCMpUFV",
    "ExecuteTime": {
     "end_time": "2025-06-02T10:14:58.380367Z",
     "start_time": "2025-06-02T10:14:58.272705Z"
    }
   },
   "source": "matplotlib_imshow(train_dataset[1][0])",
   "id": "06mcVOCMpUFV",
   "outputs": [
    {
     "data": {
      "text/plain": [
       "<Figure size 640x480 with 1 Axes>"
      ],
      "image/png": "[encoded data removed]"
     },
     "metadata": {},
     "output_type": "display_data"
    }
   ],
   "execution_count": 22
  },
  {
   "cell_type": "markdown",
   "metadata": {
    "id": "NwfNDfKFpUFV"
   },
   "source": [
    "### Definicja modelu"
   ],
   "id": "NwfNDfKFpUFV"
  },
  {
   "cell_type": "code",
   "metadata": {
    "id": "hqN-p5GTpUFV",
    "ExecuteTime": {
     "end_time": "2025-06-02T10:14:59.470394Z",
     "start_time": "2025-06-02T10:14:59.458149Z"
    }
   },
   "source": [
    "class Net(nn.Module):\n",
    "    def __init__(self):\n",
    "        super(Net, self).__init__()\n",
    "        self.conv1 = nn.Conv2d(1, 6, 5)\n",
    "        self.pool1 = nn.MaxPool2d(2, 2)\n",
    "        self.conv2 = nn.Conv2d(6, 16, 5)\n",
    "        self.pool2 = nn.MaxPool2d(2, 2)\n",
    "        self.fc1 = nn.Linear(16 * 4 * 4, 120)\n",
    "        self.fc2 = nn.Linear(120, 84)\n",
    "        self.fc3 = nn.Linear(84, 10)\n",
    "\n",
    "    def forward(self, x):\n",
    "        x = self.pool1(F.relu(self.conv1(x)))\n",
    "        x = self.pool2(F.relu(self.conv2(x)))\n",
    "        x = x.view(-1, 16 * 4 * 4)\n",
    "        x = F.relu(self.fc1(x))\n",
    "        x = F.relu(self.fc2(x))\n",
    "        x = self.fc3(x)\n",
    "        return x"
   ],
   "id": "hqN-p5GTpUFV",
   "outputs": [],
   "execution_count": 23
  },
  {
   "cell_type": "code",
   "metadata": {
    "id": "0SDwcN_apUFV",
    "ExecuteTime": {
     "end_time": "2025-06-02T10:15:00.001197Z",
     "start_time": "2025-06-02T10:14:59.992230Z"
    }
   },
   "source": [
    "model = Net()\n",
    "loss_fn = nn.CrossEntropyLoss()\n",
    "optimizer = optim.SGD(model.parameters(), lr=0.001, momentum=0.9)"
   ],
   "id": "0SDwcN_apUFV",
   "outputs": [],
   "execution_count": 24
  },
  {
   "cell_type": "markdown",
   "metadata": {
    "id": "pra_AgrnpUFW"
   },
   "source": [
    "### Tensorboard\n",
    "\n",
    "Tensorboard w PyTorchu używa się z wykorzystaniem klasy `SummaryWriter`.  \n",
    "Potrzebny jest katalog, w którym będą zapisywane logi (domyslnie \"runs\").\n",
    "W momencie uruchomienia odpowiedniej metody do pliku z logami zapisywane są odpowiednie elementy.\n",
    "\n",
    "Tensorboard uruchamia się z poziomu konsoli: `tensorboard --logdir=ŚCIEŻKA_DO_KATALOGU` i działa się w przeglądarce (domyślnie port 6006).\n",
    "\n",
    "https://pytorch.org/docs/stable/tensorboard.html#torch.utils.tensorboard.writer.SummaryWriter"
   ],
   "id": "pra_AgrnpUFW"
  },
  {
   "cell_type": "markdown",
   "metadata": {
    "id": "nVZ3WbghpUFW"
   },
   "source": [
    "#### Ćwiczenie\n",
    "\n",
    "Stwórz `SummaryWriter` i zapisz do pliku z logami cztery obrazki ze zbioru uczącego (`img_grid` poniżej)."
   ],
   "id": "nVZ3WbghpUFW"
  },
  {
   "cell_type": "code",
   "metadata": {
    "id": "oon0UQ6opUFW",
    "ExecuteTime": {
     "end_time": "2025-06-02T10:15:01.971063Z",
     "start_time": "2025-06-02T10:15:01.914645Z"
    }
   },
   "source": [
    "images, labels = next(iter(train_loader))\n",
    "img_grid = torchvision.utils.make_grid(images)"
   ],
   "id": "oon0UQ6opUFW",
   "outputs": [],
   "execution_count": 25
  },
  {
   "cell_type": "code",
   "metadata": {
    "id": "khMAnKR7pUFW",
    "ExecuteTime": {
     "end_time": "2025-06-02T10:16:50.993952Z",
     "start_time": "2025-06-02T10:16:50.907119Z"
    }
   },
   "source": [
    "from torch.utils.tensorboard import SummaryWriter\n",
    "\n",
    "writer = SummaryWriter('runs/fashion_mnist_experiment_1')\n",
    "writer.add_image('fashion_mnist_images', img_grid)"
   ],
   "id": "khMAnKR7pUFW",
   "outputs": [],
   "execution_count": 27
  },
  {
   "cell_type": "markdown",
   "metadata": {
    "id": "4V9m4ehUpUFW"
   },
   "source": [
    "#### Ćwiczenie\n",
    "\n",
    "W Tensorboard można tez wizualizować modele. Wykorzystaj do tego metodę `add_graph`. Jako drugi argument podaj `images`."
   ],
   "id": "4V9m4ehUpUFW"
  },
  {
   "cell_type": "code",
   "metadata": {
    "id": "xQR3yldzpUFW",
    "ExecuteTime": {
     "end_time": "2025-06-02T10:18:34.418284Z",
     "start_time": "2025-06-02T10:18:34.270663Z"
    }
   },
   "source": "writer.add_graph(model, images)",
   "id": "xQR3yldzpUFW",
   "outputs": [],
   "execution_count": 28
  },
  {
   "cell_type": "markdown",
   "metadata": {
    "id": "SX2pBHkMpUFW"
   },
   "source": [
    "### Tensorboard w trakcie treningu"
   ],
   "id": "SX2pBHkMpUFW"
  },
  {
   "cell_type": "code",
   "metadata": {
    "id": "xBdU-C0UpUFW",
    "ExecuteTime": {
     "end_time": "2025-06-02T10:18:49.056331Z",
     "start_time": "2025-06-02T10:18:49.041350Z"
    }
   },
   "source": [
    "# helper functions\n",
    "classes = train_dataset.classes\n",
    "\n",
    "def images_to_probs(net, images):\n",
    "    '''\n",
    "    Generates predictions and corresponding probabilities from a trained\n",
    "    network and a list of images\n",
    "    '''\n",
    "    output = net(images)\n",
    "    # convert output probabilities to predicted class\n",
    "    _, preds_tensor = torch.max(output, 1)\n",
    "    preds = np.squeeze(preds_tensor.numpy())\n",
    "    return preds, [F.softmax(el, dim=0)[i].item() for i, el in zip(preds, output)]\n",
    "\n",
    "\n",
    "def plot_classes_preds(net, images, labels):\n",
    "    '''\n",
    "    Generates matplotlib Figure using a trained network, along with images\n",
    "    and labels from a batch, that shows the network's top prediction along\n",
    "    with its probability, alongside the actual label, coloring this\n",
    "    information based on whether the prediction was correct or not.\n",
    "    Uses the \"images_to_probs\" function.\n",
    "    '''\n",
    "    preds, probs = images_to_probs(net, images)\n",
    "    # plot the images in the batch, along with predicted and true labels\n",
    "    fig = plt.figure(figsize=(12, 48))\n",
    "    for idx in np.arange(4):\n",
    "        ax = fig.add_subplot(1, 4, idx+1, xticks=[], yticks=[])\n",
    "        matplotlib_imshow(images[idx], one_channel=True)\n",
    "        ax.set_title(\"{0}, {1:.1f}%\\n(label: {2})\".format(\n",
    "            classes[preds[idx]],\n",
    "            probs[idx] * 100.0,\n",
    "            classes[labels[idx]]),\n",
    "                    color=(\"green\" if preds[idx]==labels[idx].item() else \"red\"))\n",
    "    return fig"
   ],
   "id": "xBdU-C0UpUFW",
   "outputs": [],
   "execution_count": 29
  },
  {
   "cell_type": "markdown",
   "metadata": {
    "id": "axqJMNSLpUFW"
   },
   "source": [
    "#### Ćwiczenie\n",
    "Uzupełnij poniższy kod, aby co 1000 iteracji zapisać wartość funkcji straty oraz zwizualizować predykcje dla aktualnego batcha (użyj `plot_classes_preds`)."
   ],
   "id": "axqJMNSLpUFW"
  },
  {
   "cell_type": "code",
   "metadata": {
    "id": "7h9TZgbfpUFX",
    "ExecuteTime": {
     "end_time": "2025-06-02T10:20:31.315312Z",
     "start_time": "2025-06-02T10:19:48.220909Z"
    }
   },
   "source": [
    "running_loss = 0.0\n",
    "for i, data in enumerate(train_loader):\n",
    "\n",
    "    # get the inputs; data is a list of [inputs, labels]\n",
    "    inputs, labels = data\n",
    "\n",
    "    # zero the parameter gradients\n",
    "    optimizer.zero_grad()\n",
    "\n",
    "    # forward + backward + optimize\n",
    "    outputs = model(inputs)\n",
    "    loss = loss_fn(outputs, labels)\n",
    "    loss.backward()\n",
    "    optimizer.step()\n",
    "\n",
    "    running_loss += loss.item()\n",
    "    if i % 1000 == 999:    # every 1000 mini-batches...\n",
    "        print(f\"Iteration {i+1}\")\n",
    "\n",
    "        # ...log the running loss\n",
    "        writer.add_scalar(\"loss\", running_loss / 1000, i)\n",
    "\n",
    "        # ...log a Matplotlib Figure showing the model's predictions on a\n",
    "        # random mini-batch\n",
    "        fig = plot_classes_preds(model, inputs, labels)\n",
    "        writer.add_figure(\"predictions vs. actuals\", fig, i)\n",
    "\n",
    "        running_loss = 0.0\n",
    "print('Finished Training')"
   ],
   "id": "7h9TZgbfpUFX",
   "outputs": [
    {
     "name": "stdout",
     "output_type": "stream",
     "text": [
      "Iteration 1000\n",
      "Iteration 2000\n",
      "Iteration 3000\n",
      "Iteration 4000\n",
      "Iteration 5000\n",
      "Iteration 6000\n",
      "Iteration 7000\n",
      "Iteration 8000\n",
      "Iteration 9000\n",
      "Iteration 10000\n",
      "Iteration 11000\n",
      "Iteration 12000\n",
      "Iteration 13000\n",
      "Iteration 14000\n",
      "Iteration 15000\n",
      "Finished Training\n"
     ]
    }
   ],
   "execution_count": 30
  },
  {
   "cell_type": "markdown",
   "metadata": {
    "id": "-P9ROUvcpUFX"
   },
   "source": [
    "#### Ćwiczenie\n",
    "Zwizualizuj w Tensorboard krzywą precision-recall na zbiorze walidacyjnym (dla wytrenowanego modelu).  \n",
    "(na podstawie https://pytorch.org/tutorials/intermediate/tensorboard_tutorial.html)"
   ],
   "id": "-P9ROUvcpUFX"
  },
  {
   "cell_type": "code",
   "metadata": {
    "id": "oO4Y-9WSpUFX",
    "ExecuteTime": {
     "end_time": "2025-06-02T10:37:02.180789Z",
     "start_time": "2025-06-02T10:36:58.560399Z"
    }
   },
   "source": [
    "from sklearn.metrics import precision_recall_curve\n",
    "\n",
    "def plot_pr_curves_for_tensorboard(net, val_loader, writer):\n",
    "    # Prepare storage for predictions and labels\n",
    "    all_probs = []\n",
    "    all_labels = []\n",
    "\n",
    "    # Set model to evaluation mode\n",
    "    net.eval()\n",
    "\n",
    "    # Collect all predictions\n",
    "    with torch.no_grad():\n",
    "        for images, labels in val_loader:\n",
    "            outputs = net(images)\n",
    "            probs = F.softmax(outputs, dim=1)\n",
    "            all_probs.append(probs)\n",
    "            all_labels.append(labels)\n",
    "\n",
    "    # Concatenate all batches\n",
    "    all_probs = torch.cat(all_probs)\n",
    "    all_labels = torch.cat(all_labels)\n",
    "\n",
    "    # For each class (0-9), add a PR curve to tensorboard\n",
    "    for i in range(10):\n",
    "        # Create binary labels (1 for target class, 0 for others)\n",
    "        class_labels = (all_labels == i).int()\n",
    "        class_probs = all_probs[:, i]\n",
    "\n",
    "        # Add PR curve to tensorboard\n",
    "        writer.add_pr_curve(\n",
    "            f'PR Curve/Class {i} ({classes[i]})',\n",
    "            class_labels,\n",
    "            class_probs,\n",
    "            global_step=0\n",
    "        )\n",
    "\n",
    "    # Set model back to training mode\n",
    "    net.train()\n",
    "\n",
    "plot_pr_curves_for_tensorboard(model, val_loader, writer)"
   ],
   "id": "oO4Y-9WSpUFX",
   "outputs": [],
   "execution_count": 33
  },
  {
   "metadata": {
    "ExecuteTime": {
     "end_time": "2025-06-02T10:45:08.768875Z",
     "start_time": "2025-06-02T10:45:08.761836Z"
    }
   },
   "cell_type": "code",
   "source": "writer.close()",
   "id": "e33e9fd42aecec47",
   "outputs": [],
   "execution_count": 34
  },
  {
   "cell_type": "markdown",
   "metadata": {
    "id": "YIc9SmnypUFX"
   },
   "source": [
    "#### Ćwiczenie\n",
    "\n",
    "Wkomponiuj Tensorboard (`SummaryWriter`) w inny kod, np. z poprzednich ćwiczeń / wykładu / projektu. Zamieść zrzuty ekranu w tym notebooku."
   ],
   "id": "YIc9SmnypUFX"
  },
  {
   "metadata": {},
   "cell_type": "markdown",
   "source": "![Tensorboard Screenshot](tensorboard_lab8.png)",
   "id": "17959d2b3f1ee37a"
  },
  {
   "metadata": {},
   "cell_type": "markdown",
   "source": [
    "### Wnioski\n",
    "Na dzisiejszych zajęciach poznałem tensorboard. Z początku trudno korzystało mi się z jego składni, gdyż jestem przyzwyczajony do nieco prostszego w obsłudze mlflow, natomiast po chwili naprawdę polubiłem to narzędzie. Szczególnie podoba mi się interfejs użytkownika, w którym możemy wyświetlać wiele obrazków w jednej komórce i wybierać ich zawartość w zależności od epoki treningu."
   ],
   "id": "391b6eac8d51bd5f"
  },
  {
   "metadata": {},
   "cell_type": "code",
   "outputs": [],
   "execution_count": null,
   "source": "",
   "id": "d05fd3ed37caee77"
  }
 ],
 "metadata": {
  "kernelspec": {
   "display_name": "Python 3",
   "language": "python",
   "name": "python3"
  },
  "language_info": {
   "codemirror_mode": {
    "name": "ipython",
    "version": 3
   },
   "file_extension": ".py",
   "mimetype": "text/x-python",
   "name": "python",
   "nbconvert_exporter": "python",
   "pygments_lexer": "ipython3",
   "version": "3.6.9"
  },
  "colab": {
   "provenance": []
  }
 },
 "nbformat": 4,
 "nbformat_minor": 5
}
